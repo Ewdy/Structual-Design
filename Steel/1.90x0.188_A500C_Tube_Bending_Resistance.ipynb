{
 "cells": [
  {
   "cell_type": "markdown",
   "metadata": {},
   "source": [
    "Calculations for Bending Resistance of 1.90x0.188 A500C per CSA S16-14 13.5  \n",
    "E.Durham 25-Jun-2018  "
   ]
  },
  {
   "cell_type": "code",
   "execution_count": 1,
   "metadata": {
    "hideCode": true
   },
   "outputs": [],
   "source": [
    "import math\n",
    "import pint\n",
    "unit = pint.UnitRegistry(system='mks')\n",
    "\n",
    "# define synonyms for common units\n",
    "inch = unit.inch; mm = unit.mm; m = unit.m; MPa = unit.MPa; psi = unit.psi; kN = unit.kN\n",
    "ksi = unit.ksi; dimensionless = unit.dimensionless; s = unit.second; kg = unit.kg\n",
    "\n",
    "def u_round(Q, digits=3):\n",
    "    \"\"\"\n",
    "    Takes a Pint.py quantity and returns same rounded to digits, default is 3 digits\n",
    "    \"\"\"\n",
    "    try:\n",
    "        unit.check(Q.units)\n",
    "        magnitude = Q.magnitude\n",
    "        units = Q.units\n",
    "        return round(magnitude,digits) * units\n",
    "    except:\n",
    "        print('ERROR: u_round() first arguement must be a Pint.py quantity')\n",
    "        return NaN"
   ]
  },
  {
   "cell_type": "code",
   "execution_count": 2,
   "metadata": {},
   "outputs": [
    {
     "name": "stdout",
     "output_type": "stream",
     "text": [
      "1.900\" x 0.188\" [48x4.8] A500C Steel Tube Geometric Properties:\n",
      "OD, b = 1.9 inch = 48.26 millimeter\n",
      "Wall, t = 0.188 inch = 4.78 millimeter\n",
      "Design Wall, t_d = 0.169 inch = 4.3 millimeter\n",
      "Area, A = 1.0111 inch ** 2 = 652.3 millimeter ** 2\n",
      "Design Area, A_d = 0.9207 inch ** 2 = 594 millimeter ** 2\n",
      "Radius of Gyration, r = 0.614 inch = 15.6 millimeter\n",
      "Elastic Section Modulus, S = 0.366 inch ** 3 = 5999.3 millimeter ** 3\n",
      "Plastic Section Modulus, Z = 0.5085 inch ** 3 = 8332.8 millimeter ** 3\n",
      "Dead Load = 5.121 kilogram / meter\n",
      "\n",
      "Material Properties for ASTM A500 Grade C:\n",
      "Yield Strength, F_y = 46.0 kip_per_square_inch = 317 megapascal\n",
      "Elastic Modulus, E = 29007.5 kip_per_square_inch = 200000.0 megapascal\n"
     ]
    }
   ],
   "source": [
    "# 1.90 x 0.188 A500C per CISC Handbook of Steel Construction, 11th Edition, p4-100 on 25-Jun-2018\n",
    "# Geometric Properties:\n",
    "b = 1.90 * inch; b.ito(mm)     # OD outside diameter, given\n",
    "t = 0.188 * inch; t.ito(mm)     # Wall thickness, given\n",
    "t_d = 0.9 * t  # Design wall thickness for A500 tubing\n",
    "A = 652.3 * mm**2  # Area, DERIVED\n",
    "A_d = 594 * mm**2     # Design Area, given\n",
    "S = 0.3661 * inch**3; S.ito(mm**3)     # Elastic section modulus, DERIVED\n",
    "Z = 0.5085 * inch**3; Z.ito(m**3)     # Plastic section modulus, DERIVED\n",
    "I = 0.3478 * inch**4; I.ito(mm**4)     # Second moment of area, DERIVED\n",
    "r = 15.6 * mm  # radius of gyration, given\n",
    "c = (b.magnitude / 2) * b.units\n",
    "b1 = b - ( (2 * t.magnitude) * t.units )\n",
    "\n",
    "# Material Properties (Safway S_5):\n",
    "E = 200000 * MPa; E.ito(kN / m**2)     # Elastic modulus of steel\n",
    "F_y = 317 * MPa  # Yield Strength given\n",
    "#F_t = 70000 * psi; F_t.ito(kN / m**2)     # Tensile Strength given\n",
    "lambda_steel = 7850 * (kg / m**3)     # density of steel\n",
    "\n",
    "dead_load = A * lambda_steel\n",
    "dead_load.ito(kg / m)\n",
    "\n",
    "# Print out Geometric Properties in metric units\n",
    "print('1.900\" x 0.188\" [48x4.8] A500C Steel Tube Geometric Properties:')\n",
    "print('OD, b =', u_round(b.to(inch)) , '=',u_round(b,2))\n",
    "print('Wall, t =', u_round(t.to(inch)) , '=' , u_round(t,2))\n",
    "print('Design Wall, t_d =', u_round(t_d.to(inch)) , '=' , u_round(t_d,2))\n",
    "print('Area, A =', u_round(A.to(inch**2),4) , '=' , u_round(A,1))\n",
    "print('Design Area, A_d =', u_round(A_d.to(inch**2),4) , '=' , u_round(A_d,1))\n",
    "print('Radius of Gyration, r =',u_round(r.to(inch)), '=' , u_round(r,1))\n",
    "print('Elastic Section Modulus, S =', u_round(S.to(inch**3)),'=', u_round(S,1))\n",
    "print('Plastic Section Modulus, Z =',u_round(Z.to(inch**3),4) , '=' , u_round(Z.to(mm**3),1))\n",
    "print('Dead Load =', u_round(dead_load))\n",
    "print()\n",
    "\n",
    "# Print out Material Properties (A500C)\n",
    "print('Material Properties for ASTM A500 Grade C:')\n",
    "print('Yield Strength, F_y =',u_round(F_y.to(ksi),1),'=',u_round(F_y.to(MPa),1))\n",
    "#print('Tensile Strength, F_t =',u_round(F_t.to(ksi),1),'=', u_round(F_t.to(MPa),1))\n",
    "print('Elastic Modulus, E =',u_round(E.to(ksi),1),'=', u_round(E.to(MPa),1))"
   ]
  },
  {
   "cell_type": "code",
   "execution_count": 3,
   "metadata": {},
   "outputs": [],
   "source": [
    "# 13.1 Resistance factors:\n",
    "phi = 0.9 * dimensionless     # structural steel\n",
    "phi_u = 0.75 * dimensionless"
   ]
  },
  {
   "cell_type": "markdown",
   "metadata": {},
   "source": [
    "13.5 Bending - Laterally supported members  \n",
    "The factored moment resistance, $M_r,$ developed by a member sujected to uniaxial bending moments about a principal axis where effectively continuous lateralsupport is provided to the compression flange, or where the member has no tendency to buckle laterally, shall be taken as follows:"
   ]
  },
  {
   "cell_type": "markdown",
   "metadata": {},
   "source": [
    "a) for Class 1 and Class 2 sections (except that singly symmetric I-sections and T-sections shall not yield under service loads):  \n",
    "$M_r = \\phi Z F_y$  \n",
    "$M_r = \\phi M_p$  "
   ]
  },
  {
   "cell_type": "markdown",
   "metadata": {},
   "source": [
    "b) for Class 3 sections:  \n",
    "$M_r = \\phi S F_y$  \n",
    "$M_r = \\phi M_y$  "
   ]
  },
  {
   "cell_type": "markdown",
   "metadata": {},
   "source": [
    "(see Steel Bible for Class 4 sections)"
   ]
  },
  {
   "cell_type": "markdown",
   "metadata": {},
   "source": [
    "from Table 2, Circular hollow sections are classified as follows:  \n",
    "- Class 1  \n",
    "$\\frac{D}{t} \\leq \\frac{13000}{F_y}$  \n",
    "- Class 2  \n",
    "$\\frac{D}{t} \\leq \\frac{18000}{F_y}$  \n",
    "- Class 3  \n",
    "$\\frac{D}{t} \\leq \\frac{66000}{F_y}$  \n",
    "Elements with ratios exceeding Class 3 limits are Class 4 Sections."
   ]
  },
  {
   "cell_type": "code",
   "execution_count": 4,
   "metadata": {},
   "outputs": [
    {
     "name": "stdout",
     "output_type": "stream",
     "text": [
      "D/t = 10.1\n",
      "13000/F_y = 41.0\n"
     ]
    }
   ],
   "source": [
    "print('D/t =', round((b/t).magnitude,1))\n",
    "print('13000/F_y =',round(13000/F_y.to(MPa).magnitude,1))"
   ]
  },
  {
   "cell_type": "markdown",
   "metadata": {},
   "source": [
    "D/t <= 13000/F_y Therefore, member is Class 1"
   ]
  },
  {
   "cell_type": "code",
   "execution_count": 5,
   "metadata": {},
   "outputs": [
    {
     "name": "stdout",
     "output_type": "stream",
     "text": [
      "M_r = 2.38 kilonewton * meter\n"
     ]
    }
   ],
   "source": [
    "M_r = phi * Z * F_y\n",
    "print('M_r =', u_round(M_r.to(kN*m),2))"
   ]
  }
 ],
 "metadata": {
  "celltoolbar": "Hide code",
  "kernelspec": {
   "display_name": "Python 3",
   "language": "python",
   "name": "python3"
  },
  "language_info": {
   "codemirror_mode": {
    "name": "ipython",
    "version": 3
   },
   "file_extension": ".py",
   "mimetype": "text/x-python",
   "name": "python",
   "nbconvert_exporter": "python",
   "pygments_lexer": "ipython3",
   "version": "3.7.2"
  }
 },
 "nbformat": 4,
 "nbformat_minor": 2
}
