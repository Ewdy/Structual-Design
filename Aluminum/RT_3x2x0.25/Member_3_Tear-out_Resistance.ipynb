{
 "cells": [
  {
   "cell_type": "markdown",
   "metadata": {
    "collapsed": false
   },
   "source": [
    "Member 3 Tear-out Resistance - E.Durham - 10-Jun-2019"
   ]
  },
  {
   "cell_type": "markdown",
   "metadata": {
    "collapsed": false
   },
   "source": [
    "Case: Determine CSA S157-05 (R2015) 11.2.5.1 Tear-out of bolt and rivet groups (block shear) for M20 Bolts in RT3x2x0.25 6061-T6 Extruded Aluminum Tube. This is tension member in 1.5m Wall Bracket in Modified Case 2 configuration."
   ]
  },
  {
   "cell_type": "code",
   "execution_count": 1,
   "metadata": {
    "collapsed": false
   },
   "outputs": [
   ],
   "source": [
    "from pint import UnitRegistry\n",
    "unit = UnitRegistry()\n",
    "# Define symbols for common units\n",
    "m = unit.meter; mm = unit.millimeter; inch = unit.inch;\n",
    "kN = unit.kilonewton; MPa = unit.megapascal; psi = unit.psi"
   ]
  },
  {
   "cell_type": "code",
   "execution_count": 2,
   "metadata": {
    "collapsed": false
   },
   "outputs": [
   ],
   "source": [
    "# Case parameters\n",
    "d_fastener = 20*mm # M20 bolt\n",
    "d_side = 1*inch; d_side.ito(mm)\n",
    "d_end_tension = 1.25*inch; d_end_tension.ito(mm)\n",
    "d_end_compression = 800*mm - d_end_tension\n",
    "d_end = d_end_tension # this case\n",
    "n_fasteners = 1 # number of fasteners\n",
    "d_fasteners = 0*mm # distance between fasteners\n",
    "t = 0.25*inch; t.ito(mm) # thickness of tube wall\n",
    "\n",
    "# Material Properties of 6061-T6 Extruded Aluminum from Table 2 of S157-05\n",
    "F_u = 260*MPa # Ultimate Strength of Base Metal from Table 2 of S157-05 (R2015)\n",
    "# F_u = 262*MPa # Ultimate Strength of Base Metal from ADM2015\n",
    "F_y = 240*MPa # Yield Strength of Base Metal\n",
    "F_wy = 110*MPa # Yield Strength of welded heat-affected-zone\n",
    "E = 70000*MPa # Elastic Modulus from S157-05 4.3(b)\n",
    "\n",
    "# Resistance Factors CSA S157-05 (R2015) 5.5\n",
    "phi_y = 0.9 # tension, compression, and shear in beams: on yield\n",
    "phi_c = 0.9 # compression in columns: on collapse due to buckling\n",
    "phi_u = 0.75 # tension and shear in beams: on ultimate\n",
    "phi_u = 0.75 # tension on a net section, bearing stress, tear-out: on ultimate\n",
    "phi_u = 0.75 # tension and compression on butt welds: on ultimate\n",
    "phi_f = 0.67 # shear stress on fillet welds: on ultimate\n",
    "phi_f = 0.67 # tension and shear stress on fasteners: on ultimate"
   ]
  },
  {
   "cell_type": "code",
   "execution_count": 3,
   "metadata": {
    "collapsed": false
   },
   "outputs": [
    {
     "name": "stdout",
     "output_type": "stream",
     "text": [
      "Distance to edge parallel to loading is:  25.4 millimeter\n",
      "This is greater than the required minimum of:  25.0 millimeter\n",
      "Therefore, OK for distance to parallel edge. \n",
      "\n",
      "Distance to edge parallel to loading is:  31.75 millimeter\n",
      "This is greater than the required minimum of:  30.0 millimeter\n",
      "Therefore, OK for distance to perpendicular edge.\n",
      "\n",
      "Number of fasteners is less than 2.\n",
      "Therefore, minimum spacing between fasteners does not apply\n"
     ]
    }
   ],
   "source": [
    "# Check Fastener Spacing Clause 11.2.2.1\n",
    "# centres not less than 1.25d from edge parallel to direction of loading\n",
    "# nor less than 1.5d from end edges towards which the load is directed\n",
    "# Distance between fasteners not less than 2.5d\n",
    "# where\n",
    "# d is fastener diameter\n",
    "#\n",
    "if (d_side < 1.25*d_fastener):\n",
    "    print('Minimum edge distance parallel to direction of loading is: ',\n",
    "          1.25*d_fastener)\n",
    "    print('Actual distance to parallel edge is: ', d_side)\n",
    "    print('Therefore, NG for distance to parallel edge.\\n')\n",
    "else:\n",
    "    print('Distance to edge parallel to loading is: ', d_side)\n",
    "    print('This is greater than the required minimum of: ', 1.25*d_fastener)\n",
    "    print('Therefore, OK for distance to parallel edge. \\n')\n",
    "\n",
    "if (d_end < 1.5*d_fastener):\n",
    "    print('Minimum edge distance perpendicular to direction of loading is: ',\n",
    "          1.5*d_fastener)\n",
    "    print('Actual distance to perpendicular edge is: ', d_end)\n",
    "    print('Therefore, NG for distance to perdendicular edge.\\n')\n",
    "else:\n",
    "    print('Distance to edge parallel to loading is: ', d_end)\n",
    "    print('This is greater than the required minimum of: ', 1.5*d_fastener)\n",
    "    print('Therefore, OK for distance to perpendicular edge.\\n')\n",
    "    \n",
    "if (n_fasteners > 1):\n",
    "    if (d_fasteners < 2.5*d_fastener):\n",
    "        print('Distance between fasteners is: ', d_fasteners)\n",
    "        print('Minimum distance required between fasteners is: ', 2.5*d_fastener)\n",
    "        print('Therefore, NG for distance between fasteners')\n",
    "    else:\n",
    "        print('Distance between fasteners is: ', d_fasteners)\n",
    "        print('Minimum distance required between fasteners is: ', 2.5*d_fastener)\n",
    "        print('Therefore, OK for distance between fasteners')\n",
    "else:\n",
    "    print('Number of fasteners is less than 2.')\n",
    "    print('Therefore, minimum spacing between fasteners does not apply')\n"
   ]
  },
  {
   "cell_type": "code",
   "execution_count": 4,
   "metadata": {
    "collapsed": false
   },
   "outputs": [
    {
     "name": "stdout",
     "output_type": "stream",
     "text": [
      "Bearing resistance is:  39.314437500000004 kilonewton\n"
     ]
    }
   ],
   "source": [
    "# Check Bearing strength per CSA S157-05 (R2015) 11.2.4.1\n",
    "B_ra = phi_u*d_end*t*F_u\n",
    "B_ra.ito(kN)\n",
    "B_rb = phi_u*2*d_fastener*t*F_u\n",
    "B_rb.ito(kN)\n",
    "B_r = min(B_ra, B_rb)\n",
    "print('Bearing resistance is: ', B_r)"
   ]
  },
  {
   "cell_type": "markdown",
   "metadata": {
    "collapsed": false
   },
   "source": [
    "The tube has 2 sides or walls. Therefore, the bearing resistance of the Member is:"
   ]
  },
  {
   "cell_type": "code",
   "execution_count": 5,
   "metadata": {
    "collapsed": false
   },
   "outputs": [
    {
     "data": {
      "text/html": [
       "78.62887500000001 kilonewton"
      ],
      "text/latex": [
       "$78.62887500000001\\ \\mathrm{kilonewton}$"
      ],
      "text/plain": [
       "78.62887500000001 <Unit('kilonewton')>"
      ]
     },
     "execution_count": 5,
     "metadata": {
     },
     "output_type": "execute_result"
    }
   ],
   "source": [
    "2*B_r"
   ]
  },
  {
   "cell_type": "code",
   "execution_count": 6,
   "metadata": {
    "collapsed": false
   },
   "outputs": [
   ],
   "source": [
    "# Check Tear-out (Block Shear) per CSA S157-05 (R2015) 11.2.5.1\n",
    "m = 1 # number of fasteners in the first transverse row\n",
    "g = 0*mm # fastener spacing measured perpendicular to direction of the force\n",
    "d_o = 21.43*mm # hole diameter\n",
    "n = 1 # number of transverse rows of fasteners\n",
    "s = 0*mm # fastener spacing in direction of force\n",
    "e = d_end # edge distance in the direction of force for the first row\n",
    "# but not less than 1.5d; e = 2d when e > 2d\n",
    "N = 1 # total number of fasteners\n",
    "d = d_fastener # fastener diameter"
   ]
  },
  {
   "cell_type": "code",
   "execution_count": 11,
   "metadata": {
    "collapsed": false
   },
   "outputs": [
    {
     "name": "stdout",
     "output_type": "stream",
     "text": [
      "Tear-out Resistance is:  39.314437500000004 kilonewton\n"
     ]
    }
   ],
   "source": [
    "R_ba = phi_u*((m-1)*(g-d_o)+(n-1)*(s-d_o)+e)*t*F_u\n",
    "R_ba.ito(kN)\n",
    "R_bb = phi_u*2*N*d*t*F_u\n",
    "R_bb.ito(kN)\n",
    "R_b = min(R_ba, R_bb)\n",
    "print('Tear-out Resistance is: ', R_b)"
   ]
  },
  {
   "cell_type": "markdown",
   "metadata": {
    "collapsed": false
   },
   "source": [
    "The tube has 2 sides or walls. Therefore, the tear-out resistance of the Member is:"
   ]
  },
  {
   "cell_type": "code",
   "execution_count": 12,
   "metadata": {
    "collapsed": false
   },
   "outputs": [
    {
     "data": {
      "text/html": [
       "78.62887500000001 kilonewton"
      ],
      "text/latex": [
       "$78.62887500000001\\ \\mathrm{kilonewton}$"
      ],
      "text/plain": [
       "78.62887500000001 <Unit('kilonewton')>"
      ]
     },
     "execution_count": 12,
     "metadata": {
     },
     "output_type": "execute_result"
    }
   ],
   "source": [
    "2*R_b"
   ]
  },
  {
   "cell_type": "markdown",
   "metadata": {
    "collapsed": false
   },
   "source": [
    "11.2.4.1 Bearing Strength  \n",
    "The factored bearing resistance, $B_r$, of the connected material for each loaded fastener shall be the lesser of the values given by the following formulas:  \n",
    "(a) $B_r = \\phi_u e t F_u$; and  \n",
    "(b) $B_r = \\phi_u 2 d t F_u$  \n",
    "\n",
    "where  \n",
    "$\\phi_u$ = ultimate resistance factor  \n",
    "$e$ = perpendicular distance from the hole centre to the end edge in the direction of the loading (not less than 1.5d)  \n",
    "$t$ = plate thickness  \n",
    "$F_u$ = ultimate strength of the connected material  \n",
    "$d$ = fastener diameter"
   ]
  }
 ],
 "metadata": {
  "kernelspec": {
   "display_name": "Python 3 (Ubuntu Linux)",
   "language": "python",
   "metadata": {
    "cocalc": {
     "description": "Python 3 programming language",
     "priority": 100,
     "url": "https://www.python.org/"
    }
   },
   "name": "python3"
  },
  "language_info": {
   "codemirror_mode": {
    "name": "ipython",
    "version": 3
   },
   "file_extension": ".py",
   "mimetype": "text/x-python",
   "name": "python",
   "nbconvert_exporter": "python",
   "pygments_lexer": "ipython3",
   "version": "3.6.8"
  }
 },
 "nbformat": 4,
 "nbformat_minor": 0
}