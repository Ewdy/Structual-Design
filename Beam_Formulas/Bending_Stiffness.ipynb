{
 "cells": [
  {
   "cell_type": "code",
   "execution_count": 1,
   "metadata": {
    "collapsed": false
   },
   "outputs": [
   ],
   "source": [
    "# Simple summary of Bending Stiffness"
   ]
  },
  {
   "cell_type": "markdown",
   "metadata": {
    "collapsed": false
   },
   "source": [
    "The bending stiffness $(K)$ is the resistance of a member against bending deformation. It is a function of the Young's modulus $E$, the area moment of inertia $I$ of the beam cross-section about the axis of interest, length of the beam and beam boundary condition. Bending stiffness of a beam can analytically be derived from the equation of beam deflection when it is applied by a force.\n",
    "\n",
    "$K = \\frac{p}{w}$\n",
    "\n",
    "where $p$ is the applied force and $w$ is the deflection. According to elementary beam theory, the relationship between the applied bending moment $M$ and the resulting curvature $k$ of the beam is:\n",
    "\n",
    "$M = EIk = EI\\frac{d^2w}{dx^2}$\n",
    "\n",
    "where $w$ is the deflection of the beam and $x$ is the distance along the beam. Double integration of the above equation leads to computing the deflection of the beam, and in turn, the bending stiffness of the beam. Bending stiffness in beams is also known as Flexural rigidity.\n",
    "\n",
    "(from https://en.wikipedia.org/wiki/Bending_stiffness downloaded 16-Jul-2019)"
   ]
  },
  {
   "cell_type": "markdown",
   "metadata": {
    "collapsed": false
   },
   "source": [
    "Case: Simply supported beam, centre-concentrated load\n",
    "\n",
    "$\\Delta_{max} = \\frac{Pl^3}{48EI}$\n",
    "\n",
    "\n"
   ]
  },
  {
   "cell_type": "code",
   "execution_count": 2,
   "metadata": {
    "collapsed": false
   },
   "outputs": [
   ],
   "source": [
    "import math\n",
    "import pint\n",
    "unit = pint.UnitRegistry(system='mks')\n",
    "\n",
    "# define synonyms for common units\n",
    "inch = unit.inch; mm = unit.mm; m = unit.m; MPa = unit.MPa; psi = unit.psi;\n",
    "kN = unit.kN; ksi = unit.ksi; dimensionless = unit.dimensionless;\n",
    "s = unit.second; kg = unit.kg"
   ]
  },
  {
   "cell_type": "code",
   "execution_count": 3,
   "metadata": {
    "collapsed": false
   },
   "outputs": [
    {
     "name": "stdout",
     "output_type": "stream",
     "text": [
      "P = 128.42 kilonewton\n",
      "Thus, bending stiffness = 128.42 kilonewton / meter\n"
     ]
    }
   ],
   "source": [
    "# Case values:\n",
    "l = 1.5*m # effective length when k=1.0\n",
    "\n",
    "# Safway Aluminum Scaffold Tubing (6061-T6) taken from Safway SafLock \n",
    "# Technical Manual Rev G 11/14 page 38 on 4-May-2018\n",
    "# Geometric Properties:\n",
    "b = 1.90 * inch; b.ito(mm)     # OD outside diameter, given\n",
    "t = 0.145 * inch; t.ito(mm)     # Wall thickness, given\n",
    "A = 0.799 * inch**2; A.ito(mm**2)     # Area, given\n",
    "S = 0.326 * inch**3; S.ito(mm**3)     # Elastic section modulus, given\n",
    "Z = 0.448 * inch**3; Z.ito(m**3)     # Plastic section modulus, DERIVED\n",
    "I = 0.3099 * inch**4; I.ito(m**4)     # Second moment of area, given\n",
    "r = 0.623 * inch; r.ito(mm)     # radius of gyration, given\n",
    "c = b / 2.0\n",
    "b1 = b - (2 * t)\n",
    "\n",
    "E = 70_000 * MPa; E.ito(kN / m**2)     # Elastic modulus per CSA S157-05(R2015) 4.3(b) for 6061-T6\n",
    "\n",
    "delta_max = 1.0*m # set deflection to unit length\n",
    "\n",
    "P = (delta_max*48*E*I)/l**3 # solve for P substituting case valuesb\n",
    "\n",
    "print('P =',round(P, 2))\n",
    "print('Thus, bending stiffness =', round(P/m, 2))"
   ]
  },
  {
   "cell_type": "code",
   "execution_count": 4,
   "metadata": {
    "collapsed": false
   },
   "outputs": [
   ],
   "source": [
    "# ToDo\n",
    "# Add calculations for Case 1 - Done\n",
    "# Add Case 2: Beam Fixed at Both Ends - Concentrated Load at Centre"
   ]
  },
  {
   "cell_type": "markdown",
   "metadata": {
    "collapsed": false
   },
   "source": [
    "Revision History  \n",
    "16-Jul-2019 E.Durham began notebook"
   ]
  }
 ],
 "metadata": {
  "kernelspec": {
   "display_name": "Python 3 (Ubuntu Linux)",
   "language": "python",
   "metadata": {
    "cocalc": {
     "description": "Python 3 programming language",
     "priority": 100,
     "url": "https://www.python.org/"
    }
   },
   "name": "python3"
  },
  "language_info": {
   "codemirror_mode": {
    "name": "ipython",
    "version": 3
   },
   "file_extension": ".py",
   "mimetype": "text/x-python",
   "name": "python",
   "nbconvert_exporter": "python",
   "pygments_lexer": "ipython3",
   "version": "3.6.8"
  }
 },
 "nbformat": 4,
 "nbformat_minor": 0
}