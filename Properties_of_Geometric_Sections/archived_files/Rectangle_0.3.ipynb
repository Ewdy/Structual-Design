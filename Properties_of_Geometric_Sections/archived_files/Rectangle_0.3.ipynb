{
 "cells": [
  {
   "cell_type": "markdown",
   "metadata": {
    "collapsed": false
   },
   "source": [
    "Rectangle - Neutral Axis in Middle - Rev 0.3"
   ]
  },
  {
   "cell_type": "markdown",
   "metadata": {
    "collapsed": false
   },
   "source": [
    "**Abstract:**  \n",
    "Given: breadth or width b and depth or height d in identical units of length  \n",
    "Returns: Area, Section Modulus, Plastic Modulus, Second Moment of Inertia, Radius of Gyration, and distance from neutral axis to extreme fibre  \n",
    "\n",
    "**Instructions:**  \n",
    "Enter breadth and depth below:"
   ]
  },
  {
   "cell_type": "code",
   "execution_count": 1,
   "metadata": {
    "collapsed": false
   },
   "outputs": [
   ],
   "source": [
    "from pint import UnitRegistry\n",
    "unit = UnitRegistry()\n",
    "unit.default_format = '~' # ~ for unit abreviations, P for pretty print, or both\n",
    "# Define symbols for common units\n",
    "m = unit.meter; mm = unit.millimeter; inch = unit.inch;\n",
    "kN = unit.kilonewton; MPa = unit.megapascal; psi = unit.psi"
   ]
  },
  {
   "cell_type": "code",
   "execution_count": 2,
   "metadata": {
    "collapsed": false
   },
   "outputs": [
   ],
   "source": [
    "# Define dimensional quantities\n",
    "b = 5.5*inch # breadth or width\n",
    "b.ito(mm) # convert to desired output unit\n",
    "d = 7.5*inch # depth or height\n",
    "d.ito(mm) # convert to desired output unit"
   ]
  },
  {
   "cell_type": "code",
   "execution_count": 3,
   "metadata": {
    "collapsed": false
   },
   "outputs": [
   ],
   "source": [
    "# Formulas\n",
    "A = b*d\n",
    "Sx = (b*d**2)/6\n",
    "Sy = (d*b**2)/6\n",
    "Zx = (b*d**2)/4\n",
    "Zy = (d*b**2)/4\n",
    "Ix = (b*d**3)/12\n",
    "Iy = (d*b**3)/12\n",
    "rx = d/(12**0.5)\n",
    "ry = b/(12**0.5)\n",
    "cx = d/2\n",
    "cy = b/2"
   ]
  },
  {
   "cell_type": "code",
   "execution_count": 4,
   "metadata": {
    "collapsed": false
   },
   "outputs": [
    {
     "name": "stdout",
     "output_type": "stream",
     "text": [
      "Given:\n",
      " Width or breadth, b = 139.7mm and\n",
      " Height or depth, d = 190.5mm\n",
      "\n",
      "Geometric Properties:\n",
      " Area, A = 26612.8mm ** 2\n",
      " Major Elastic Section Modulus, Sx = 844958mm ** 3\n",
      " Minor Elastic Section Modulus, Sy = 619636mm ** 3\n",
      " Major Plastic Section Modulus, Zx = 1.26744e+06mm ** 3\n",
      " Minor Plastic Section Modulus, Zy = 929454mm ** 3\n",
      " Major Second Moment of Inertia, Ix = 8.04822e+07mm ** 4\n",
      " Minor Second Moment of Inertia, Iy = 4.32816e+07mm ** 4\n",
      " Major Radius of Gyration, rx = 54.9926mm\n",
      " Minor Radius of Gyration, ry = 40.3279mm\n",
      " Distance from Major Axis to Extreme Fibre, cx = 95.25mm\n",
      " Distance from Minor Axis to Extreme Fibre, cy = 69.85mm\n"
     ]
    }
   ],
   "source": [
    "# Define Output\n",
    "print('Given:')\n",
    "print(' Width or breadth, b = {0:n}{1} and'.format(b.magnitude, b.units))\n",
    "print(' Height or depth, d = {0:n}{1}'.format(d.magnitude, d.units))\n",
    "print('')\n",
    "print('Geometric Properties:')\n",
    "print(' Area, A = {0:n}{1}'.format(A.magnitude, A.units))\n",
    "print(' Major Elastic Section Modulus, Sx = {0:n}{1}'.format(Sx.magnitude,\n",
    "    Sx.units))\n",
    "print(' Minor Elastic Section Modulus, Sy = {0:n}{1}'.format(Sy.magnitude,\n",
    "    Sy.units))\n",
    "print(' Major Plastic Section Modulus, Zx = {0:n}{1}'.format(Zx.magnitude,\n",
    "    Zx.units))\n",
    "print(' Minor Plastic Section Modulus, Zy = {0:n}{1}'.format(Zy.magnitude,\n",
    "    Zy.units))\n",
    "print(' Major Second Moment of Inertia, Ix = {0:n}{1}'.format(Ix.magnitude,\n",
    "    Ix.units))\n",
    "print(' Minor Second Moment of Inertia, Iy = {0:n}{1}'.format(Iy.magnitude,\n",
    "    Iy.units))\n",
    "print(' Major Radius of Gyration, rx = {0:n}{1}'.format(rx.magnitude,\n",
    "    rx.units))\n",
    "print(' Minor Radius of Gyration, ry = {0:n}{1}'.format(ry.magnitude,\n",
    "    ry.units))\n",
    "print(' Distance from Major Axis to Extreme Fibre, cx = {0:n}{1}'.format(\n",
    "    cx.magnitude, cx.units))\n",
    "print(' Distance from Minor Axis to Extreme Fibre, cy = {0:n}{1}'.format(\n",
    "    cy.magnitude, cy.units))"
   ]
  },
  {
   "cell_type": "markdown",
   "metadata": {
    "collapsed": false
   },
   "source": [
    "**Revision History:**  \n",
    "- Rev 0.3  19-Jun-2019 E.Durham Added units  \n",
    "- Rev 0.2  18-Jun-2019 E.Durham Added Plastic Section Modulus and revised formatting  \n",
    "- Rev 0.0  28-Mar-2019 E.Durham Created notebook using Figure 11.4 from Wood Design Manual 2017"
   ]
  }
 ],
 "metadata": {
  "kernelspec": {
   "display_name": "Python 3 (Ubuntu Linux)",
   "language": "python",
   "metadata": {
    "cocalc": {
     "description": "Python 3 programming language",
     "priority": 100,
     "url": "https://www.python.org/"
    }
   },
   "name": "python3"
  },
  "language_info": {
   "codemirror_mode": {
    "name": "ipython",
    "version": 3
   },
   "file_extension": ".py",
   "mimetype": "text/x-python",
   "name": "python",
   "nbconvert_exporter": "python",
   "pygments_lexer": "ipython3",
   "version": "3.6.8"
  }
 },
 "nbformat": 4,
 "nbformat_minor": 0
}