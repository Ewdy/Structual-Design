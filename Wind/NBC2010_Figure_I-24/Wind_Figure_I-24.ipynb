{
 "cells": [
  {
   "cell_type": "markdown",
   "metadata": {
    "collapsed": false
   },
   "source": [
    "## Wind using Figure I-24  \n",
    "E.Durham  \n",
    "04-Jul-2018  "
   ]
  },
  {
   "cell_type": "markdown",
   "metadata": {
    "collapsed": false
   },
   "source": [
    "**Given:** Argentia, NL  \n",
    "**Find:** 1/50yr Design Wind Pressure against Solid Sign"
   ]
  },
  {
   "cell_type": "code",
   "execution_count": 1,
   "metadata": {
    "collapsed": false
   },
   "outputs": [
    {
     "name": "stdout",
     "output_type": "stream",
     "text": [
      "Wind Velocity Pressure, q = 0.75 kPa\n"
     ]
    }
   ],
   "source": [
    "# Define variables\n",
    "#wind_velocity = 30 # m/s\n",
    "rho = 1.2929 # density of air in kg / m^3\n",
    "#q = (rho * wind_velocity**2) / 2 # Pa\n",
    "#q = q * 0.001 # kPa\n",
    "q = 0.75  # kPa  # from NBC2010\n",
    "print('Wind Velocity Pressure, q =',round(q,3),'kPa')"
   ]
  },
  {
   "cell_type": "markdown",
   "metadata": {
    "collapsed": false
   },
   "source": [
    "Determine Wind Load using NBC2010 and Commentary Figure I-24 for  \n",
    "Free-standing plates, walls and billboards  \n",
    "Normal Force, $ F_n = I_w C_f C_n q C_g C_e h l $  \n",
    "Transverse Force, $ F_t = I_w C_f C_t q C_g C_e h l $  "
   ]
  },
  {
   "cell_type": "code",
   "execution_count": 2,
   "metadata": {
    "collapsed": false
   },
   "outputs": [
   ],
   "source": [
    "l = 14 # m\n",
    "h = 1.5 # m\n",
    "y = 52-26 # m (distance from ground to underside) 46m + 6m - 26m\n",
    "#I_w = 1.0 # ULS Importance Factor\n",
    "I_w = 0.8 # ULS Importance Factor Low"
   ]
  },
  {
   "cell_type": "code",
   "execution_count": 3,
   "metadata": {
    "collapsed": false
   },
   "outputs": [
    {
     "name": "stdout",
     "output_type": "stream",
     "text": [
      "l/h = 9.3\n"
     ]
    }
   ],
   "source": [
    "print('l/h =',round(l/h,1))"
   ]
  },
  {
   "cell_type": "code",
   "execution_count": 4,
   "metadata": {
    "collapsed": false
   },
   "outputs": [
    {
     "name": "stdout",
     "output_type": "stream",
     "text": [
      "C_e = 1.22\n"
     ]
    }
   ],
   "source": [
    "# Force Coeficients\n",
    "#C_f = 2.0  # l/h >= 10 for Walls above ground\n",
    "C_f = 1.3  # 1 < l/h < 10 for Walls above ground\n",
    "#C_f = 1.15  # l/h <=1 for Walls above ground\n",
    "#C_f = 1.3  # l/h >= 10 for Walls on ground\n",
    "#C_f = 1.2  # 1 < l/h < 10 for Walls on ground\n",
    "#C_f = 1.1  # l/h <=1 for Walls on ground\n",
    "C_n = (1.0, 0.6)\n",
    "C_t = (0.2, 0.3)\n",
    "C_g = 2.0\n",
    "C_e = max(((h+y)/10)**0.2,0.9)\n",
    "print('C_e =',round(C_e,2))"
   ]
  },
  {
   "cell_type": "code",
   "execution_count": 5,
   "metadata": {
    "collapsed": false
   },
   "outputs": [
    {
     "name": "stdout",
     "output_type": "stream",
     "text": [
      "Case 1 F_n = 1.91 kPa\n",
      "Case 1 F_t = 0.38 kPa\n",
      "Case 2 F_n = 1.15 kPa\n",
      "Case 2 F_t = 0.57 kPa\n"
     ]
    }
   ],
   "source": [
    "Case_1_F_n = I_w*C_f*C_n[0]*q*C_g*C_e\n",
    "Case_1_F_t = I_w*C_f*C_t[0]*q*C_g*C_e\n",
    "Case_2_F_n = I_w*C_f*C_n[1]*q*C_g*C_e\n",
    "Case_2_F_t = I_w*C_f*C_t[1]*q*C_g*C_e\n",
    "print('Case 1 F_n =',round(Case_1_F_n,2),'kPa')\n",
    "print('Case 1 F_t =',round(Case_1_F_t,2),'kPa')\n",
    "print('Case 2 F_n =',round(Case_2_F_n,2),'kPa')\n",
    "print('Case 2 F_t =',round(Case_2_F_t,2),'kPa')"
   ]
  },
  {
   "cell_type": "code",
   "execution_count": 6,
   "metadata": {
    "collapsed": false
   },
   "outputs": [
    {
     "data": {
      "text/plain": [
       "26.75"
      ]
     },
     "execution_count": 6,
     "metadata": {
     },
     "output_type": "execute_result"
    }
   ],
   "source": [
    "# The above loads are applied at elevation:\n",
    "w_elev = y + (h/2) # m\n",
    "w_elev"
   ]
  }
 ],
 "metadata": {
  "kernelspec": {
   "display_name": "Python 3 (Ubuntu Linux)",
   "language": "python",
   "metadata": {
    "cocalc": {
     "description": "Python 3 programming language",
     "priority": 100,
     "url": "https://www.python.org/"
    }
   },
   "name": "python3"
  },
  "language_info": {
   "codemirror_mode": {
    "name": "ipython",
    "version": 3
   },
   "file_extension": ".py",
   "mimetype": "text/x-python",
   "name": "python",
   "nbconvert_exporter": "python",
   "pygments_lexer": "ipython3",
   "version": "3.6.8"
  }
 },
 "nbformat": 4,
 "nbformat_minor": 0
}