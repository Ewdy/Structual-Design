{
 "cells": [
  {
   "cell_type": "markdown",
   "metadata": {
    "collapsed": false
   },
   "source": [
    "## Case:\n",
    "### Given:\n",
    "- max span, L, = 3.5 m\n",
    "- UDL = 7.6 kPa\n",
    "- Scaffold Depot ALJ at 400 mm on-centre\n",
    "- Deflection is not a limit for DOP\n",
    "\n",
    "### Assume:\n",
    "- Dead Load, DL, = 1 kPa\n",
    "\n",
    "### Check:\n",
    "- ALJs at 400 o.c."
   ]
  },
  {
   "cell_type": "code",
   "execution_count": 1,
   "metadata": {
    "collapsed": false
   },
   "outputs": [
   ],
   "source": [
    "import pint, math\n",
    "unit = pint.UnitRegistry(system='mks')\n",
    "\n",
    "# define synanyms for common units\n",
    "inch = unit.inch; mm = unit.mm; m = unit.m; MPa = unit.MPa; psi = unit.psi; \n",
    "kN = unit.kN; pound = unit.pound_force; kip = unit.kip; foot = unit.foot; \n",
    "Pa = unit.Pa; kPa = unit.kPa; ksi = unit.ksi; \n",
    "dimensionless = unit.dimensionless; s = unit.second; kg = unit.kg\n",
    "\n",
    "def u_round(Q, digits=3):\n",
    "    \"\"\"\n",
    "    Takes a Pint.py quantity and returns same rounded to digits, \n",
    "    default is 3 digits\n",
    "    \"\"\"\n",
    "    try:\n",
    "        unit.check(Q.units)\n",
    "        magnitude = Q.magnitude\n",
    "        units = Q.units\n",
    "        return round(magnitude,digits) * units\n",
    "    except:\n",
    "        print('ERROR: u_round() first arguement must be a Pint.py quantity')\n",
    "        return NaN"
   ]
  },
  {
   "cell_type": "code",
   "execution_count": 2,
   "metadata": {
    "collapsed": false
   },
   "outputs": [
   ],
   "source": [
    "# Define case variables\n",
    "L = 3.5*m # span\n",
    "DL = 1.0*kPa\n",
    "oc = 400*mm # on-centre spacing = tributary width\n",
    "LL = 7.6*kPa\n",
    "# Load Combination: 1.25DL + 1.5LL\n",
    "q = (1.25*DL)+(1.5*LL)\n",
    "w = q * oc # factored line load on a single ALJ"
   ]
  },
  {
   "cell_type": "code",
   "execution_count": 3,
   "metadata": {
    "collapsed": false
   },
   "outputs": [
   ],
   "source": [
    "# SafWay Canada ALJ Geometric Properties\n",
    "Ix = 16.23 * inch**4; Ix.ito(mm**4)\n",
    "# SafWay Canada ALJ Material Properties\n",
    "E = 70000 * MPa\n",
    "# SafWay Canada Design Values\n",
    "V_allowable = 7.01 * kip  # includes a safety factor of 2.2:1\n",
    "M_allowable_top = 70.29 * kip*inch; M_allowable_top.ito(kN*m)  \n",
    "# includes a safety factor of 2.2:1\n",
    "M_allowable_bot = 80.82 * kip*inch; M_allowable_bot.ito(kN*m)  \n",
    "# includes a safety factor of 2.2:1"
   ]
  },
  {
   "cell_type": "code",
   "execution_count": 4,
   "metadata": {
    "collapsed": false
   },
   "outputs": [
    {
     "name": "stdout",
     "output_type": "stream",
     "text": [
      "V_ult: 68.6 kilonewton\n",
      "M_ult_top: 17.47 kilonewton * meter\n",
      "M_ult_bot: 20.09 kilonewton * meter\n"
     ]
    }
   ],
   "source": [
    "V_ult = V_allowable * 2.2\n",
    "V_ult.ito(kN)\n",
    "M_ult_top = M_allowable_top * 2.2\n",
    "M_ult_bot = M_allowable_bot * 2.2\n",
    "print('V_ult:', u_round(V_ult,2))\n",
    "print('M_ult_top:', u_round(M_ult_top,2))\n",
    "print('M_ult_bot:', u_round(M_ult_bot,2))"
   ]
  },
  {
   "cell_type": "code",
   "execution_count": 5,
   "metadata": {
    "collapsed": false
   },
   "outputs": [
    {
     "data": {
      "text/html": [
       "7.75 kilonewton meter"
      ],
      "text/latex": [
       "$7.75\\ \\mathrm{kilonewton} \\cdot \\mathrm{meter}$"
      ],
      "text/plain": [
       "7.75 <Unit('kilonewton * meter')>"
      ]
     },
     "execution_count": 5,
     "metadata": {
     },
     "output_type": "execute_result"
    }
   ],
   "source": [
    "# Determine maximum bending in ALJ member given above\n",
    "# M_max = wL^2/8; simply supported beam, uniformly distributed load\n",
    "M_f = (w*L**2)/8\n",
    "M_f.ito(kN*m)\n",
    "round(M_f, 2)"
   ]
  },
  {
   "cell_type": "code",
   "execution_count": 6,
   "metadata": {
    "collapsed": false
   },
   "outputs": [
    {
     "data": {
      "text/html": [
       "0.44 dimensionless"
      ],
      "text/latex": [
       "$0.44\\ dimensionless$"
      ],
      "text/plain": [
       "0.44 <Unit('dimensionless')>"
      ]
     },
     "execution_count": 6,
     "metadata": {
     },
     "output_type": "execute_result"
    }
   ],
   "source": [
    "# Check utilization for Bending\n",
    "U_b = (M_f / M_ult_top)\n",
    "round(U_b, 2)"
   ]
  },
  {
   "cell_type": "code",
   "execution_count": 7,
   "metadata": {
    "collapsed": false
   },
   "outputs": [
    {
     "data": {
      "text/html": [
       "8.85 kilonewton"
      ],
      "text/latex": [
       "$8.85\\ \\mathrm{kilonewton}$"
      ],
      "text/plain": [
       "8.85 <Unit('kilonewton')>"
      ]
     },
     "execution_count": 7,
     "metadata": {
     },
     "output_type": "execute_result"
    }
   ],
   "source": [
    "# Determine maximum Shear in ALJ member given above\n",
    "# V_max = wL/2\n",
    "V_f = (w*L)/2\n",
    "V_f.ito(kN)\n",
    "round(V_f, 2)"
   ]
  },
  {
   "cell_type": "code",
   "execution_count": 8,
   "metadata": {
    "collapsed": false
   },
   "outputs": [
    {
     "data": {
      "text/html": [
       "0.13 dimensionless"
      ],
      "text/latex": [
       "$0.13\\ dimensionless$"
      ],
      "text/plain": [
       "0.13 <Unit('dimensionless')>"
      ]
     },
     "execution_count": 8,
     "metadata": {
     },
     "output_type": "execute_result"
    }
   ],
   "source": [
    "# Check utilization for Shear\n",
    "U_v = V_f/V_ult\n",
    "round(U_v, 2)"
   ]
  },
  {
   "cell_type": "code",
   "execution_count": 9,
   "metadata": {
    "collapsed": false
   },
   "outputs": [
    {
     "data": {
      "text/html": [
       "20.9 millimeter"
      ],
      "text/latex": [
       "$20.9\\ \\mathrm{millimeter}$"
      ],
      "text/plain": [
       "20.9 <Unit('millimeter')>"
      ]
     },
     "execution_count": 9,
     "metadata": {
     },
     "output_type": "execute_result"
    }
   ],
   "source": [
    "# Check Deflection of service load although not a limit state here\n",
    "# delta_max = (5wL^4)/(384EI)\n",
    "delta_max = (5*w*L**4)/(384*E*Ix)\n",
    "delta_max.ito(mm)\n",
    "round(delta_max, 1)"
   ]
  },
  {
   "cell_type": "code",
   "execution_count": 10,
   "metadata": {
    "collapsed": false
   },
   "outputs": [
    {
     "data": {
      "text/html": [
       "167.0 dimensionless"
      ],
      "text/latex": [
       "$167.0\\ dimensionless$"
      ],
      "text/plain": [
       "167.0 <Unit('dimensionless')>"
      ]
     },
     "execution_count": 10,
     "metadata": {
     },
     "output_type": "execute_result"
    }
   ],
   "source": [
    "round(L.to(mm)/delta_max, 0)"
   ]
  },
  {
   "cell_type": "markdown",
   "metadata": {
    "collapsed": false
   },
   "source": [
    "**Conclusion:** Member is OK for Bending, OK for Shear and OK for Deflection given above"
   ]
  }
 ],
 "metadata": {
  "kernelspec": {
   "display_name": "Python 3 (Ubuntu Linux)",
   "language": "python",
   "metadata": {
    "cocalc": {
     "description": "Python 3 programming language",
     "priority": 100,
     "url": "https://www.python.org/"
    }
   },
   "name": "python3"
  },
  "language_info": {
   "codemirror_mode": {
    "name": "ipython",
    "version": 3
   },
   "file_extension": ".py",
   "mimetype": "text/x-python",
   "name": "python",
   "nbconvert_exporter": "python",
   "pygments_lexer": "ipython3",
   "version": "3.6.8"
  }
 },
 "nbformat": 4,
 "nbformat_minor": 0
}