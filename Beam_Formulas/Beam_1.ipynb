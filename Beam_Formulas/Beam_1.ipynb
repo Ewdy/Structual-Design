{
 "cells": [
  {
   "cell_type": "code",
   "execution_count": 1,
   "metadata": {
    "collapsed": false
   },
   "outputs": [
   ],
   "source": [
    "import numpy as np\n",
    "import matplotlib.pyplot as plt\n",
    "%matplotlib inline"
   ]
  },
  {
   "cell_type": "code",
   "execution_count": 2,
   "metadata": {
    "collapsed": false
   },
   "outputs": [
   ],
   "source": [
    "# point load at any point on beam"
   ]
  },
  {
   "cell_type": "code",
   "execution_count": 3,
   "metadata": {
    "collapsed": false
   },
   "outputs": [
   ],
   "source": [
    "# Given:\n",
    "#    span of beam, L\n",
    "#    magnitude of load, P\n",
    "#    distance from left end of beam to point of load, a\n",
    "#    distance from left end of beam to point of interest, x\n",
    "# Derive:\n",
    "#    distance from right end of beam to point of load, b\n",
    "#    reactions at ends of beams, R_1 and R_2\n",
    "#    bending at point of interest"
   ]
  },
  {
   "cell_type": "code",
   "execution_count": 4,
   "metadata": {
    "collapsed": false
   },
   "outputs": [
   ],
   "source": [
    "# M_max = Pab/L"
   ]
  },
  {
   "cell_type": "code",
   "execution_count": 5,
   "metadata": {
    "collapsed": false
   },
   "outputs": [
    {
     "data": {
      "text/plain": [
       "1.0"
      ]
     },
     "execution_count": 5,
     "metadata": {
     },
     "output_type": "execute_result"
    }
   ],
   "source": [
    "# Enter case values sans units at present\n",
    "P = 1 # kN\n",
    "a = 2 # m\n",
    "L = 4 # m\n",
    "# Derive distance b\n",
    "b = L - a\n",
    "# Derive max moment\n",
    "M_max = (P*a*b)/L\n",
    "M_max"
   ]
  },
  {
   "cell_type": "code",
   "execution_count": 6,
   "metadata": {
    "collapsed": false
   },
   "outputs": [
    {
     "data": {
      "text/plain": [
       "0.5"
      ]
     },
     "execution_count": 6,
     "metadata": {
     },
     "output_type": "execute_result"
    }
   ],
   "source": [
    "# Determine moment at any position x\n",
    "# when x <= a\n",
    "x = 1\n",
    "if x <= a:\n",
    "    M_x = (P*x*b)/L\n",
    "elif x > a and x <= L:\n",
    "    M_x = (P*(L-x)*a)/L\n",
    "else:\n",
    "    print(\"Error: X cannot be greater than L\")\n",
    "M_x"
   ]
  },
  {
   "cell_type": "code",
   "execution_count": 7,
   "metadata": {
    "collapsed": false
   },
   "outputs": [
    {
     "data": {
      "text/plain": [
       "array([0.        , 0.04081633, 0.08163265, 0.12244898, 0.16326531,\n",
       "       0.20408163, 0.24489796, 0.28571429, 0.32653061, 0.36734694,\n",
       "       0.40816327, 0.44897959, 0.48979592, 0.53061224, 0.57142857,\n",
       "       0.6122449 , 0.65306122, 0.69387755, 0.73469388, 0.7755102 ,\n",
       "       0.81632653, 0.85714286, 0.89795918, 0.93877551, 0.97959184,\n",
       "       1.02040816, 1.06122449, 1.10204082, 1.14285714, 1.18367347,\n",
       "       1.2244898 , 1.26530612, 1.30612245, 1.34693878, 1.3877551 ,\n",
       "       1.42857143, 1.46938776, 1.51020408, 1.55102041, 1.59183673,\n",
       "       1.63265306, 1.67346939, 1.71428571, 1.75510204, 1.79591837,\n",
       "       1.83673469, 1.87755102, 1.91836735, 1.95918367, 2.        ,\n",
       "       2.04081633, 2.08163265, 2.12244898, 2.16326531, 2.20408163,\n",
       "       2.24489796, 2.28571429, 2.32653061, 2.36734694, 2.40816327,\n",
       "       2.44897959, 2.48979592, 2.53061224, 2.57142857, 2.6122449 ,\n",
       "       2.65306122, 2.69387755, 2.73469388, 2.7755102 , 2.81632653,\n",
       "       2.85714286, 2.89795918, 2.93877551, 2.97959184, 3.02040816,\n",
       "       3.06122449, 3.10204082, 3.14285714, 3.18367347, 3.2244898 ,\n",
       "       3.26530612, 3.30612245, 3.34693878, 3.3877551 , 3.42857143,\n",
       "       3.46938776, 3.51020408, 3.55102041, 3.59183673, 3.63265306,\n",
       "       3.67346939, 3.71428571, 3.75510204, 3.79591837, 3.83673469,\n",
       "       3.87755102, 3.91836735, 3.95918367, 4.        ])"
      ]
     },
     "execution_count": 7,
     "metadata": {
     },
     "output_type": "execute_result"
    }
   ],
   "source": [
    "position = np.linspace(0, L, 99)\n",
    "position"
   ]
  },
  {
   "cell_type": "code",
   "execution_count": 0,
   "metadata": {
    "collapsed": false
   },
   "outputs": [
   ],
   "source": [
   ]
  }
 ],
 "metadata": {
  "kernelspec": {
   "display_name": "Python 3 (Ubuntu Linux)",
   "language": "python",
   "metadata": {
    "cocalc": {
     "description": "Python 3 programming language",
     "priority": 100,
     "url": "https://www.python.org/"
    }
   },
   "name": "python3"
  },
  "language_info": {
   "codemirror_mode": {
    "name": "ipython",
    "version": 3
   },
   "file_extension": ".py",
   "mimetype": "text/x-python",
   "name": "python",
   "nbconvert_exporter": "python",
   "pygments_lexer": "ipython3",
   "version": "3.6.8"
  }
 },
 "nbformat": 4,
 "nbformat_minor": 0
}