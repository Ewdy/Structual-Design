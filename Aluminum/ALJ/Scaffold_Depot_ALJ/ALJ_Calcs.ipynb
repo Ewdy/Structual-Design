{
 "cells": [
  {
   "cell_type": "code",
   "execution_count": 1,
   "metadata": {},
   "outputs": [],
   "source": [
    "import pint, math\n",
    "unit = pint.UnitRegistry(system='mks')\n",
    "\n",
    "# define synanyms for common units\n",
    "inch = unit.inch; mm = unit.mm; m = unit.m; MPa = unit.MPa; psi = unit.psi; \n",
    "kN = unit.kN; pound = unit.pound_force; kip = unit.kip; foot = unit.foot; \n",
    "Pa = unit.Pa; kPa = unit.kPa; ksi = unit.ksi; \n",
    "dimensionless = unit.dimensionless; s = unit.second; kg = unit.kg\n",
    "\n",
    "def u_round(Q, digits=3):\n",
    "    \"\"\"\n",
    "    Takes a Pint.py quantity and returns same rounded to digits, \n",
    "    default is 3 digits\n",
    "    \"\"\"\n",
    "    try:\n",
    "        unit.check(Q.units)\n",
    "        magnitude = Q.magnitude\n",
    "        units = Q.units\n",
    "        return round(magnitude,digits) * units\n",
    "    except:\n",
    "        print('ERROR: u_round() first arguement must be a Pint.py quantity')\n",
    "        return NaN"
   ]
  },
  {
   "cell_type": "code",
   "execution_count": 2,
   "metadata": {},
   "outputs": [],
   "source": [
    "# SafWay Canada ALJ Geometric Properties\n",
    "Ix = 16.23 * inch**4; Ix.ito(mm**4)\n",
    "# SafWay Canada ALJ Material Properties\n",
    "E = 70000 * MPa\n",
    "# SafWay Canada Design Values\n",
    "V_allowable = 7.01 * kip  # includes a safety factor of 2.2:1\n",
    "M_allowable_top = 70.29 * kip*inch; M_allowable_top.ito(kN*m)  \n",
    "# includes a safety factor of 2.2:1\n",
    "M_allowable_bot = 80.82 * kip*inch; M_allowable_bot.ito(kN*m)  \n",
    "# includes a safety factor of 2.2:1"
   ]
  },
  {
   "cell_type": "code",
   "execution_count": 3,
   "metadata": {},
   "outputs": [
    {
     "name": "stdout",
     "output_type": "stream",
     "text": [
      "V_ult: 68.6 kilonewton\n",
      "M_ult_top: 17.47 kilonewton * meter\n",
      "M_ult_bot: 20.09 kilonewton * meter\n"
     ]
    }
   ],
   "source": [
    "V_ult = V_allowable * 2.2\n",
    "M_ult_top = M_allowable_top * 2.2\n",
    "M_ult_bot = M_allowable_bot * 2.2\n",
    "print('V_ult:', u_round(V_ult.to(kN),2))\n",
    "print('M_ult_top:', u_round(M_ult_top,2))\n",
    "print('M_ult_bot:', u_round(M_ult_bot,2))"
   ]
  },
  {
   "cell_type": "markdown",
   "metadata": {},
   "source": [
    "Case:\n",
    "- Given span of 23 feet between supports  \n",
    "- Given 2 ALJ beams  \n",
    "- Given Compression flange (top) is laterally restrained at max 2 ft intervals  \n",
    "\n",
    "Find: Maximum centre point load"
   ]
  },
  {
   "cell_type": "code",
   "execution_count": 4,
   "metadata": {},
   "outputs": [
    {
     "name": "stdout",
     "output_type": "stream",
     "text": [
      "P_f = 9.97 kilonewton = 2241.0 force_pound\n"
     ]
    }
   ],
   "source": [
    "# Determine maximum P_f given bending strength\n",
    "L = 23 * foot; L.ito(m)\n",
    "# M_max = PL/4, thus\n",
    "P_f = (4*M_ult_top)/L\n",
    "print('P_f =', u_round(P_f,2), '=', u_round(P_f.to(pound),0))"
   ]
  },
  {
   "cell_type": "code",
   "execution_count": 5,
   "metadata": {},
   "outputs": [
    {
     "name": "stdout",
     "output_type": "stream",
     "text": [
      "L/80 = 88.0 millimeter\n",
      "P_f = 5.77 kilonewton = 1297.9 force_pound\n"
     ]
    }
   ],
   "source": [
    "# Determine maximum P_f given deflection limit of L/80\n",
    "delta = L/80\n",
    "print('L/80 =', u_round(delta.to(mm),0))\n",
    "# delta = (P*L**3)/(48*E*I)\n",
    "P_f = (delta*48*E*Ix)/(L**3)\n",
    "print('P_f =', u_round(P_f.to(kN),2), '=', u_round(P_f.to(pound),1))"
   ]
  }
 ],
 "metadata": {
  "kernelspec": {
   "display_name": "Python 3",
   "language": "python",
   "name": "python3"
  },
  "language_info": {
   "codemirror_mode": {
    "name": "ipython",
    "version": 3
   },
   "file_extension": ".py",
   "mimetype": "text/x-python",
   "name": "python",
   "nbconvert_exporter": "python",
   "pygments_lexer": "ipython3",
   "version": "3.7.2"
  }
 },
 "nbformat": 4,
 "nbformat_minor": 2
}
