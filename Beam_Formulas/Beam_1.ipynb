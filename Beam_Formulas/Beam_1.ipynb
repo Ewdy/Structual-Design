{
 "cells": [
  {
   "cell_type": "code",
   "execution_count": 1,
   "metadata": {},
   "outputs": [],
   "source": [
    "# Figure 8 from DA6 by American Wood Council, 2007\n",
    "# Revision History\n",
    "# 0.0 19-Jul-2019 E.Durham created initial notebook"
   ]
  },
  {
   "cell_type": "code",
   "execution_count": 2,
   "metadata": {
    "collapsed": false,
    "jupyter": {
     "outputs_hidden": false
    }
   },
   "outputs": [],
   "source": [
    "# Given:\n",
    "#    span of beam, L in meters\n",
    "#    magnitude of load, P in kN\n",
    "#    distance from left end of beam to point of load, a in meters\n",
    "#    distance from left end of beam to point of interest, x in meters\n",
    "#    EI of member, use 1 if unknown; in kN*m**2\n",
    "# Derive:\n",
    "#    distance from right end of beam to point of load, b\n",
    "#    reactions at ends of beams, R_1 and R_2\n",
    "#    shear at points of interest\n",
    "#    bending at points of interest\n",
    "#    deflection at points of interest\n",
    "#    plot graphs of shear, moment and deflection"
   ]
  },
  {
   "cell_type": "code",
   "execution_count": 3,
   "metadata": {
    "collapsed": false,
    "jupyter": {
     "outputs_hidden": false
    }
   },
   "outputs": [],
   "source": [
    "import numpy as np\n",
    "\n",
    "# Pint Unit Library\n",
    "from pint import UnitRegistry\n",
    "unit = UnitRegistry()\n",
    "Q_ = unit.Quantity\n",
    "unit.default_format = '~' # ~ for unit abreviations, P for prettyprint, or both\n",
    "# Define symbols for common units\n",
    "m = unit.meter; mm = unit.millimeter; inch = unit.inch;\n",
    "kN = unit.kilonewton; kPa = unit.kilopascal; MPa = unit.megapascal; \n",
    "psi = unit.psi; ksi = unit.ksi\n",
    "\n",
    "# matplotlib\n",
    "# import matplotlib.pyplot as plt\n",
    "# plt.ion()\n",
    "# %matplotlib inline\n",
    "\n",
    "# try bqplot\n",
    "# import bqplot as plt\n",
    "\n",
    "SAMPLE_SIZE = 99 # number of discrete points within beam to compute"
   ]
  },
  {
   "cell_type": "code",
   "execution_count": 4,
   "metadata": {
    "collapsed": false,
    "jupyter": {
     "outputs_hidden": false
    }
   },
   "outputs": [
    {
     "data": {
      "text/html": [
       "1.712108843537415 kN m"
      ],
      "text/latex": [
       "$1.712108843537415\\ \\mathrm{kN} \\cdot \\mathrm{m}$"
      ],
      "text/plain": [
       "1.712108843537415 <Unit('kilonewton * meter')>"
      ]
     },
     "execution_count": 4,
     "metadata": {},
     "output_type": "execute_result"
    }
   ],
   "source": [
    "# Enter case values sans units at present\n",
    "P = 1.6 * kN\n",
    "a = 1.3 * m\n",
    "L = 7.35 * m\n",
    "EI = 1 * kN*m**2\n",
    "# Derive distance b\n",
    "b = L - a\n",
    "# Calculate Reactions\n",
    "R_1 = (P*b)/L # reaction at left support\n",
    "R_2 = (P*a)/L # reaction at right support\n",
    "# Derive max moment\n",
    "M_max = (P*a*b)/L\n",
    "M_max"
   ]
  },
  {
   "cell_type": "code",
   "execution_count": 5,
   "metadata": {
    "collapsed": false,
    "jupyter": {
     "outputs_hidden": false
    }
   },
   "outputs": [],
   "source": [
    "def shear_x(x, P, a, L):\n",
    "    \"\"\"\n",
    "    Determine shear for simple beam w/ concentrated load at any position x.\n",
    "    \n",
    "    where\n",
    "    x = distance from left end of beam to point of interest\n",
    "    P = concentrated load\n",
    "    a = distance from left end of beam to point of load\n",
    "    L = length of span of beam\n",
    "\n",
    "    The function does not take or allign units. Units of x, a and L must be identical. \n",
    "\n",
    "    Returns value of shear at x in units_of_P\n",
    "    \n",
    "    \"\"\"\n",
    "    b = L - a # derive b given a and L\n",
    "    if x >= 0 and x <= a:\n",
    "        V_x = (P*b)/L\n",
    "    elif x > a and x <= L:\n",
    "        V_x = -(P*a)/L\n",
    "    else:\n",
    "        V_x = float('NaN')\n",
    "        print(\"Error: x cannot be less than 0 or greater than L which is {} in this case\".format(L))\n",
    "    return V_x"
   ]
  },
  {
   "cell_type": "code",
   "execution_count": 6,
   "metadata": {
    "collapsed": false,
    "jupyter": {
     "outputs_hidden": false
    }
   },
   "outputs": [],
   "source": [
    "def moment_x(x, P, a, L):\n",
    "    \"\"\"\n",
    "    Determine moment for simple beam w/ concentrated load at any position x.\n",
    "\n",
    "    where\n",
    "    x = distance from left end of beam to point of interest\n",
    "    P = concentrated load\n",
    "    a = distance from left end of beam to point of load\n",
    "    L = length of span of beam\n",
    "\n",
    "    The function does not take or allign units. Units of x, a and L must be identical. \n",
    "\n",
    "    Returns value of moment at x in units_of_P * units_of_x\n",
    "    \"\"\"\n",
    "    b = L - a # derive b given a and L\n",
    "    if x >= 0 and x <= a:\n",
    "        M_x = (P*x*b)/L\n",
    "    elif x > a and x <= L:\n",
    "        M_x = (P*(L-x)*a)/L\n",
    "    else:\n",
    "        M_x = float('NaN')\n",
    "        print(\"Error: x cannot be less than 0 or greater than L which is {} in this case\".format(L))\n",
    "    return M_x"
   ]
  },
  {
   "cell_type": "code",
   "execution_count": 7,
   "metadata": {
    "collapsed": false,
    "jupyter": {
     "outputs_hidden": false
    }
   },
   "outputs": [],
   "source": [
    "def deflection_x(x, P, a, L, EI=1):\n",
    "    \"\"\"\n",
    "    Determine deflection for simple beam w/ concentrated load at any position x.\n",
    "\n",
    "    where\n",
    "    x = distance from left end of beam to point of interest\n",
    "    P = concentrated load\n",
    "    a = distance from left end of beam to point of load\n",
    "    L = length of span of beam\n",
    "    EI = modulus of elasticity of material in units_of_P / units_of_L**2 times\n",
    "    second moment of area in units_of_L**4. Thus, EI is in units_of_P * units_of_L**2.\n",
    "    Default value for EI is 1 in which case values returned are overstated by actual value\n",
    "    of EI. That is, to determine deflection for a given EI, divide deflection here by\n",
    "    actual value of EI.\n",
    "\n",
    "    The function does not take or allign units. Units of x, a and L must be identical. \n",
    "\n",
    "    Returns value of deflection at x in units_of_L\n",
    "    \"\"\"\n",
    "    b = L - a # derive b given a and L\n",
    "    if x == a:\n",
    "        deflection_x = -(P*a**2*b**2)/(3*EI*L)\n",
    "    elif x >= 0 and x < a:\n",
    "        deflection_x = -((P*b*x)/(6*EI*L))*(L**2-b**2-x**2)\n",
    "    elif x > a and x <= L:\n",
    "        deflection_x = -((P*a*(L-x))/(6*EI*L))*(2*L*x-x**2-a**2)\n",
    "    else:\n",
    "        deflection_x = float('NaN')\n",
    "        print(\"Error: x cannot be less than 0 or greater than L which is {} in this case\".format(L))\n",
    "    return deflection_x"
   ]
  },
  {
   "cell_type": "code",
   "execution_count": 8,
   "metadata": {
    "collapsed": false,
    "jupyter": {
     "outputs_hidden": false
    }
   },
   "outputs": [],
   "source": [
    "# create beam array and load with position, shear, moment and deflection values\n",
    "beam = np.zeros((4, SAMPLE_SIZE))\n",
    "beam[0, : ] = np.linspace(0, L.magnitude, SAMPLE_SIZE) # position\n",
    "for i in range(SAMPLE_SIZE):\n",
    "    beam[1, i] = shear_x(beam[0, i]*L.units, P, a, L).magnitude # stuff shear values\n",
    "    beam[2, i] = moment_x(beam[0, i]*L.units, P, a, L).magnitude # stuff moment values\n",
    "    beam[3, i] = deflection_x(beam[0, i]*L.units, P, a, L, EI).magnitude # stuff deflection values\n",
    "# beam[0:]"
   ]
  },
  {
   "cell_type": "code",
   "execution_count": 9,
   "metadata": {},
   "outputs": [
    {
     "data": {
      "application/vnd.jupyter.widget-view+json": {
       "model_id": "3c4a9869615e4245b6342440db624fb5",
       "version_major": 2,
       "version_minor": 0
      },
      "text/plain": [
       "VBox(children=(Figure(axes=[Axis(scale=LinearScale()), Axis(orientation='vertical', scale=LinearScale())], fig…"
      ]
     },
     "metadata": {},
     "output_type": "display_data"
    }
   ],
   "source": [
    "# does not work in JupyterLab. It says \"Loading widget...\" forever with \n",
    "# bqplot-0.11.6\n",
    "# try bqplot pyplot\n",
    "import bqplot\n",
    "from bqplot import pyplot as plt\n",
    "\n",
    "plt.figure(1, title='Shear Diagram')\n",
    "x = beam[0, : ]\n",
    "y = beam[1, : ]\n",
    "plt.plot(x, y)\n",
    "plt.show()"
   ]
  },
  {
   "cell_type": "code",
   "execution_count": 10,
   "metadata": {},
   "outputs": [
    {
     "data": {
      "application/vnd.jupyter.widget-view+json": {
       "model_id": "d9749096943a456fa74eb1454d100f0f",
       "version_major": 2,
       "version_minor": 0
      },
      "text/plain": [
       "Figure(axes=[Axis(label='X [m]', scale=LinearScale()), Axis(label='V [kN]', scale=LinearScale())], fig_margin=…"
      ]
     },
     "metadata": {},
     "output_type": "display_data"
    }
   ],
   "source": [
    "# does not work in JupyterLab. It says \"Loading widget...\" forever\n",
    "# plot shear diagram with bqplot\n",
    "from IPython.display import display\n",
    "from bqplot import (\n",
    "    OrdinalScale, LinearScale, Bars, Lines, Axis, Figure\n",
    ")\n",
    "size = L\n",
    "x_scale = LinearScale()\n",
    "y_scale = LinearScale()\n",
    "\n",
    "x_data = beam[0, : ]\n",
    "line = Lines(x=x_data, y=beam[1, : ], scales={'x': x_scale, 'y' : y_scale},\n",
    "            stroke_width=3, colors=['red'], display_legend=True, \n",
    "             labels=['Shear'])\n",
    "\n",
    "axis_x = Axis(scale=x_scale, grid_lines='solid', label='X [m]')\n",
    "axis_y = Axis(scale=y_scale, grid_lines='solid', label='V [kN]')\n",
    "\n",
    "Figure(marks=[line], axes=[axis_x, axis_y], title='Beam Diagram 1',\n",
    "      legend_location='bottom-right')"
   ]
  },
  {
   "cell_type": "code",
   "execution_count": null,
   "metadata": {
    "collapsed": false,
    "jupyter": {
     "outputs_hidden": false
    }
   },
   "outputs": [],
   "source": [
    "# plot shear diagram with matplotlib\n",
    "import matplotlib.pyplot as plt\n",
    "plt.ion()\n",
    "# %matplotlib inline\n",
    "ax = plt.plot(beam[0, : ], beam[1, : ])\n",
    "plt.grid(b=True, which='both', axis='both')\n",
    "plt.xlabel('x label')\n",
    "plt.ylabel('y label')\n",
    "plt.title('Shear Diagram')\n",
    "# plt.legend()\n",
    "# cursor = Cursor(ax, useblit=True, color='red', linewidth=2)\n",
    "plt.show()"
   ]
  },
  {
   "cell_type": "code",
   "execution_count": null,
   "metadata": {
    "collapsed": false,
    "jupyter": {
     "outputs_hidden": false
    }
   },
   "outputs": [],
   "source": [
    "# from matplotlib.widgets import Cursor\n",
    "bx = plt.plot(beam[0, : ], beam[2, : ])\n",
    "plt.grid(b=True, which='both', axis='both')\n",
    "plt.xlabel('x label')\n",
    "plt.ylabel('y label')\n",
    "plt.title('Moment Diagram')\n",
    "# plt.legend()\n",
    "# cursor = Cursor(ax, useblit=True, color='red', linewidth=2)\n",
    "plt.show()"
   ]
  },
  {
   "cell_type": "code",
   "execution_count": null,
   "metadata": {
    "collapsed": false,
    "jupyter": {
     "outputs_hidden": false
    }
   },
   "outputs": [],
   "source": [
    "# plot deflection diagram\n",
    "cx = plt.plot(beam[0, : ], beam[3, : ])\n",
    "plt.grid(b=True, which='both', axis='both')\n",
    "plt.xlabel('x label')\n",
    "plt.ylabel('Units of L')\n",
    "plt.title('Deflection Diagram')\n",
    "# plt.legend()\n",
    "plt.show()"
   ]
  },
  {
   "cell_type": "code",
   "execution_count": null,
   "metadata": {},
   "outputs": [],
   "source": []
  }
 ],
 "metadata": {
  "kernelspec": {
   "display_name": "Python 3",
   "language": "python",
   "name": "python3"
  },
  "language_info": {
   "codemirror_mode": {
    "name": "ipython",
    "version": 3
   },
   "file_extension": ".py",
   "mimetype": "text/x-python",
   "name": "python",
   "nbconvert_exporter": "python",
   "pygments_lexer": "ipython3",
   "version": "3.7.2"
  }
 },
 "nbformat": 4,
 "nbformat_minor": 4
}
