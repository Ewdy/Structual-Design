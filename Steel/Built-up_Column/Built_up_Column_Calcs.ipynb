{
 "cells": [
  {
   "cell_type": "markdown",
   "metadata": {
    "collapsed": false
   },
   "source": [
    "Stair Tower Built-up Tie Calcs  \n",
    "E. Durham  4-Aug-2018"
   ]
  },
  {
   "cell_type": "markdown",
   "metadata": {
    "collapsed": false
   },
   "source": [
    "Compressive resistance of built-up ties is calculated using CSA S16-14 13.1 with Euler Buckling Stress, $ F_e $ determined used Equ 2-48 from Timoshenko and Gere \"Theory of Elastic Stability\""
   ]
  },
  {
   "cell_type": "markdown",
   "metadata": {
    "collapsed": false
   },
   "source": [
    "1) CSA S16-14 13.3.4 States \"The factored compressive resistance of segmented columns shall be determined using a rational method. Notional loads need not be applied between in-plane lateral supports.\"\n",
    "\n",
    "2) It is argued that CSA S16-09 13.3.1 Flexural Buckling of Doubly Symmetric Shapes can be used to determine compressive resistance of segmented columns when the Euler Buckling Stress $ F_e $ in the equation is substituted with critical stress $ \\sigma_{cr} $ derived using Equ 2-48 for calculating the critical load $ P_{cr} $ for Bars with Changes in Cross Section as found in Section 2.14 of \"Theory of Elastic Stability\", 2nd Edition by Timoshenko and Gere. \n",
    "\n",
    "3) Equ. 2-48 $ P_{cr} = \\frac{m E I_2}{l^2} $ from Timoshenko and Gere \"Theory of Elastic Stability\"  \n",
    "where factor $ m $ is taken from Table 2-10.\n",
    "\n",
    "4) Given that the ratios of $ \\frac{I_1}{I_2} $ and $ \\frac{a}{l} $ are frequently between the limited values published in Table 2-10, the factor $ m $ is interpolated using 2d splines using the interpolate.bisplev and interpolate.bisplrep functions in the scipy library.\n",
    "\n",
    "5) Critical stress $ \\sigma_{cr} $ substituted for $ F_e $ in CSA S16-09 13.3.1 is derived as follows: $ \\sigma_{cr} = \\frac{P_{cr}}{A} $  \n",
    "where $ P_{cr} $ is derived using Equ 2-48 as stated above.\n"
   ]
  },
  {
   "cell_type": "markdown",
   "metadata": {
    "collapsed": false
   },
   "source": [
    "Recap of CSA S16-14 13.3.1 \n",
    "\n",
    "$ C_r = \\frac{\\phi A F_y}{(1 + \\lambda^{2 n})^{\\frac{1}{n}}} $  \n",
    "\n",
    "where  \n",
    "- n = 1.34 for hot-rolled, fabricated structural sections and hollow structural sections manufactured in accordance with CSA G40.20, Class C (cold-formed non-stress-relieved), ASTM A500, or ASTM A1085  \n",
    "- n = 2.24 for doubly symmetric welded three-plate members with flange edges oxy-flame-cut and hollow structural sections manufactured in accordance with CSA G40.20, Class H (hot-formed or cold-formed stress-relieved) and ASTM A1085 with Supplement S1  \n",
    "- $ \\lambda = \\sqrt \\frac{F_y}{F_e} $  \n",
    "- where  \n",
    "- $ F_e = \\frac{\\pi^2 E}{(\\frac{K L}{r})^2} $  "
   ]
  },
  {
   "cell_type": "code",
   "execution_count": 1,
   "metadata": {
    "collapsed": false
   },
   "outputs": [
   ],
   "source": [
    "import pint, math\n",
    "import numpy as np\n",
    "from scipy import interpolate\n",
    "unit = pint.UnitRegistry(system='mks')"
   ]
  },
  {
   "cell_type": "code",
   "execution_count": 2,
   "metadata": {
    "collapsed": false
   },
   "outputs": [
   ],
   "source": [
    "# define synonyms for common units\n",
    "inch = unit.inch; mm = unit.mm; m = unit.m; MPa = unit.MPa; psi = unit.psi; kN = unit.kN\n",
    "ksi = unit.ksi; dimensionless = unit.dimensionless; s = unit.second; kg = unit.kg"
   ]
  },
  {
   "cell_type": "code",
   "execution_count": 3,
   "metadata": {
    "collapsed": false
   },
   "outputs": [
    {
     "data": {
      "text/html": [
       "<img src='./img/Fig 2-43.JPG', width=400>"
      ]
     },
     "execution_count": 3,
     "metadata": {
     },
     "output_type": "execute_result"
    }
   ],
   "source": [
    "%%html\n",
    "<img src='./img/Fig 2-43.JPG', width=400>"
   ]
  },
  {
   "cell_type": "code",
   "execution_count": 4,
   "metadata": {
    "collapsed": false
   },
   "outputs": [
   ],
   "source": [
    "# Case:  \n",
    "a = 1498 * mm\n",
    "l = (749*mm) + (1498*mm) + (749*mm)\n",
    "E = 200000 * MPa\n",
    "F_y = 317 * MPa\n",
    "I_1 = 144766 * mm**4  # A500 HSS 1.90\" x 0.188\" using t_desc = 0.9*t\n",
    "A_1 = 593.6 * mm**2\n",
    "I_2 = 437269 * mm**4  # A500 HSS 2.50\" x 0.25\" using t_desc = 0.9*t\n",
    "A_2 = 1037.5 * mm**2\n",
    "r_2 = 20.53 * mm"
   ]
  },
  {
   "cell_type": "code",
   "execution_count": 5,
   "metadata": {
    "collapsed": false
   },
   "outputs": [
    {
     "data": {
      "text/plain": [
       "0.331"
      ]
     },
     "execution_count": 5,
     "metadata": {
     },
     "output_type": "execute_result"
    }
   ],
   "source": [
    "y_new = round(I_1/I_2,3)\n",
    "y_new = y_new.magnitude\n",
    "y_new"
   ]
  },
  {
   "cell_type": "code",
   "execution_count": 6,
   "metadata": {
    "collapsed": false
   },
   "outputs": [
    {
     "data": {
      "text/plain": [
       "0.5"
      ]
     },
     "execution_count": 6,
     "metadata": {
     },
     "output_type": "execute_result"
    }
   ],
   "source": [
    "x_new = round(a/l,2)\n",
    "x_new = x_new.magnitude\n",
    "x_new"
   ]
  },
  {
   "cell_type": "code",
   "execution_count": 7,
   "metadata": {
    "collapsed": false
   },
   "outputs": [
    {
     "data": {
      "text/html": [
       "<img src='./img/Table 2-10.JPG', width=400>"
      ]
     },
     "execution_count": 7,
     "metadata": {
     },
     "output_type": "execute_result"
    }
   ],
   "source": [
    "%%html\n",
    "<img src='./img/Table 2-10.JPG', width=400>"
   ]
  },
  {
   "cell_type": "code",
   "execution_count": 8,
   "metadata": {
    "collapsed": false
   },
   "outputs": [
   ],
   "source": [
    "# Table 2-10\n",
    "x = np.array([0.2, 0.4, 0.6, 0.8])  # a/l\n",
    "y = np.array([0.01, 0.1, 0.2, 0.4, 0.6, 0.8])  # I_1/I_2\n",
    "z = np.array([[0.15, 0.27, 0.60, 2.26],\n",
    "              [1.47, 2.40, 4.50, 8.59],\n",
    "              [2.80, 4.22, 6.69, 9.33],\n",
    "              [5.09, 6.68, 8.51, 9.67],\n",
    "              [6.98, 8.19, 9.24, 9.78],\n",
    "              [8.55, 9.18, 9.63, 9.84]])  # factor tabulated by A.N.Dinnik"
   ]
  },
  {
   "cell_type": "markdown",
   "metadata": {
    "collapsed": false
   },
   "source": [
    "From the table above, we see that our ratios for $ \\frac{I_1}{I_2} $ and $ \\frac{a}{l} $ fall between tabulated rows and columns.\n",
    "\n",
    "Given $ \\frac{I_1}{I_2} = 0.33 $ and $ \\frac{a}{l} = 0.5 $ we see $ m $ is some value between 4.22 and 8.51\n",
    "\n",
    "Find $ m $ using 2d splines and the scipy.interpolate library"
   ]
  },
  {
   "cell_type": "code",
   "execution_count": 9,
   "metadata": {
    "collapsed": false
   },
   "outputs": [
    {
     "name": "stdout",
     "output_type": "stream",
     "text": [
      "Given:\n",
      "I_1 = 144766 millimeter ** 4 I_2 = 437269 millimeter ** 4 a = 1498 millimeter l = 2996 millimeter\n",
      "m is interpolated as: 7.007\n"
     ]
    }
   ],
   "source": [
    "x, y = np.meshgrid(x, y)\n",
    "tck = interpolate.bisplrep(x, y, z, s=0)\n",
    "m = round(interpolate.bisplev(x_new, y_new, tck),3)\n",
    "print('Given:')\n",
    "print('I_1 =', I_1, 'I_2 =', I_2, 'a =', a, 'l =', l)\n",
    "print('m is interpolated as:', m)"
   ]
  },
  {
   "cell_type": "code",
   "execution_count": 10,
   "metadata": {
    "collapsed": false
   },
   "outputs": [
    {
     "name": "stdout",
     "output_type": "stream",
     "text": [
      "P_cr is estimated as: 68.27 kilonewton\n"
     ]
    }
   ],
   "source": [
    "# Estimate P_cr using Equ 2-48\n",
    "P_cr = (m*E*I_2)/(l**2)\n",
    "P_cr.ito(kN)\n",
    "print('P_cr is estimated as:', round(P_cr,2))"
   ]
  },
  {
   "cell_type": "code",
   "execution_count": 11,
   "metadata": {
    "collapsed": false
   },
   "outputs": [
    {
     "name": "stdout",
     "output_type": "stream",
     "text": [
      "sigma_cr is estimated as: 65.8 megapascal\n"
     ]
    }
   ],
   "source": [
    "# Derive sigma_cr\n",
    "sigma_cr = P_cr / A_2\n",
    "sigma_cr.ito(MPa)\n",
    "print('sigma_cr is estimated as:', round(sigma_cr,1))"
   ]
  },
  {
   "cell_type": "code",
   "execution_count": 12,
   "metadata": {
    "collapsed": false
   },
   "outputs": [
    {
     "name": "stdout",
     "output_type": "stream",
     "text": [
      "F_e = 92.7 megapascal\n"
     ]
    }
   ],
   "source": [
    "# Calculate standard value for F_e for comparison with sigma_cr\n",
    "L = l\n",
    "K = 1.0 * dimensionless\n",
    "r = r_2\n",
    "phi = 0.9\n",
    "n = 1.34\n",
    "# Calculate F_e\n",
    "F_e = (round(math.pi**2,3)*E) / ((K * L)/r)**2\n",
    "print('F_e =', round(F_e,1) )"
   ]
  },
  {
   "cell_type": "code",
   "execution_count": 13,
   "metadata": {
    "collapsed": false
   },
   "outputs": [
    {
     "name": "stdout",
     "output_type": "stream",
     "text": [
      "Compressive resistance using F_e = 75.9 kilonewton\n"
     ]
    }
   ],
   "source": [
    "# Calculate compressive resistance using F_e\n",
    "lambda_Fe = (F_y/F_e)**(0.5)\n",
    "C_r_Fe = (phi*A_2*F_y)/((1+(lambda_Fe)**(2*n))**(1/n))\n",
    "C_r_Fe.ito(kN)\n",
    "print('Compressive resistance using F_e =', round(C_r_Fe,1))"
   ]
  },
  {
   "cell_type": "markdown",
   "metadata": {
    "collapsed": false
   },
   "source": [
    "The above value matches the values published in Handbook of Steel Construction, 11th Edition, page 4-100 and would be the correct if the column were composed entirely of HSS 64x6.4. Given our case of build up or segmented columns, compressive resistance is computed to be:"
   ]
  },
  {
   "cell_type": "code",
   "execution_count": 14,
   "metadata": {
    "collapsed": false
   },
   "outputs": [
    {
     "name": "stdout",
     "output_type": "stream",
     "text": [
      "Compressive resistance substituting sigma_cr for F_e = 56.4 kilonewton\n"
     ]
    }
   ],
   "source": [
    "# Calculate compressive resistance using sigma_cr\n",
    "lambda_cr = (F_y/sigma_cr)**(0.5)\n",
    "C_r_sigma_cr = (phi*A_2*F_y)/((1+(lambda_cr)**(2*n))**(1/n))\n",
    "C_r_sigma_cr.ito(kN)\n",
    "print('Compressive resistance substituting sigma_cr for F_e =', round(C_r_sigma_cr,1))"
   ]
  }
 ],
 "metadata": {
  "kernelspec": {
   "display_name": "Python 3 (Ubuntu Linux)",
   "language": "python",
   "metadata": {
    "cocalc": {
     "description": "Python 3 programming language",
     "priority": 100,
     "url": "https://www.python.org/"
    }
   },
   "name": "python3"
  },
  "language_info": {
   "codemirror_mode": {
    "name": "ipython",
    "version": 3
   },
   "file_extension": ".py",
   "mimetype": "text/x-python",
   "name": "python",
   "nbconvert_exporter": "python",
   "pygments_lexer": "ipython3",
   "version": "3.6.8"
  }
 },
 "nbformat": 4,
 "nbformat_minor": 0
}