{
 "cells": [
  {
   "cell_type": "code",
   "execution_count": 1,
   "metadata": {},
   "outputs": [],
   "source": [
    "# Geometric Properties of Hollow Circle from Handbook of Steel Construction, 11th Edition, page 7-84\n",
    "# E.Durham     7-May-2018"
   ]
  },
  {
   "cell_type": "code",
   "execution_count": 2,
   "metadata": {},
   "outputs": [],
   "source": [
    "import pint, math\n",
    "unit = pint.UnitRegistry(system='mks')\n",
    "\n",
    "# define synonyms for common units\n",
    "inch = unit.inch; mm = unit.mm; m = unit.m; dimensionless = unit.dimensionless; s = unit.second; pi = math.pi\n",
    "\n",
    "def u_round(Q, digits=3):\n",
    "    \"\"\"\n",
    "    Takes a Pint.py quantity and returns same rounded to digits, default it 3 digits\n",
    "    \"\"\"\n",
    "    try:\n",
    "        unit.check(Q.units)\n",
    "        magnitude = Q.magnitude\n",
    "        units = Q.units\n",
    "        return round(magnitude,digits) * units\n",
    "    except:\n",
    "        print(\"ERROR: u_round() first arguement must be a Pint.py quantity\")\n",
    "        return NaN"
   ]
  },
  {
   "cell_type": "code",
   "execution_count": 3,
   "metadata": {},
   "outputs": [],
   "source": [
    "# Specify Outside Diameter, d AND Wall Thickness, t\n",
    "d = 1.900 * inch\n",
    "t = 0.188 * inch"
   ]
  },
  {
   "cell_type": "code",
   "execution_count": 4,
   "metadata": {},
   "outputs": [],
   "source": [
    "d1 = d - ( float(2) * t )     # inside diameter\n",
    "A = ( float(pi) * (d**2 - d1**2) ) / 4\n",
    "c = d / float(2)     # distance from centroid of area\n",
    "I = ( float(pi) * (d**4 - d1**4) ) / float(64)\n",
    "S = ( float(pi) * (d**4 - d1**4) ) / (float(32) * d)\n",
    "r = ( ( d**2 + d1**2 )**(1/2) ) / float(4)\n",
    "Z = (d**3 - d1**3) / float(6)"
   ]
  },
  {
   "cell_type": "code",
   "execution_count": 5,
   "metadata": {},
   "outputs": [
    {
     "name": "stdout",
     "output_type": "stream",
     "text": [
      "Geometric Properties of Hollow Circle:\n",
      "Given: Outside Diameter, d = 1.9 inch = 48.26 millimeter\n",
      "Given: Wall Thickness, t = 0.188 inch = 4.78 millimeter\n",
      "Inside Diameter, d1 = 1.524 inch = 38.71 millimeter\n",
      "Area, A = 1.011 inch ** 2 = 652.3 millimeter ** 2\n",
      "C = 0.95 inch = 24.13 millimeter\n",
      "Radius of Gyration, r = 0.6089 inch = 15.47 millimeter\n",
      "Second Moment of Inertia, I = 0.3749 inch ** 4 = 156052.1 millimeter ** 4\n",
      "Elastic Section Modulus, S = 0.3946 inch ** 3 = 6467.1 millimeter ** 3\n",
      "Plastic Section Modulus, Z = 0.5532 inch ** 3 = 9065.9 millimeter ** 3\n"
     ]
    }
   ],
   "source": [
    "print('Geometric Properties of Hollow Circle:')\n",
    "print('Given: Outside Diameter, d =', u_round(d), '=', u_round(d.to(mm),2))\n",
    "print('Given: Wall Thickness, t =', u_round(t), '=', u_round(t.to(mm),2))\n",
    "print('Inside Diameter, d1 =', u_round(d1), '=', u_round(d1.to(mm),2))\n",
    "print('Area, A =', u_round(A), '=', u_round(A.to(mm**2),1) )\n",
    "print('C =', u_round(c), '=', u_round(c.to(mm),2))\n",
    "print('Radius of Gyration, r =', u_round(r,4), '=', u_round(r.to(mm),2))\n",
    "print('Second Moment of Inertia, I =', u_round(I,4), '=', u_round(I.to(mm**4),1))\n",
    "print('Elastic Section Modulus, S =', u_round(S,4), '=', u_round(S.to(mm**3),1))\n",
    "print('Plastic Section Modulus, Z =', u_round(Z,4), '=', u_round(Z.to(mm**3),1))"
   ]
  },
  {
   "cell_type": "code",
   "execution_count": null,
   "metadata": {},
   "outputs": [],
   "source": []
  },
  {
   "cell_type": "code",
   "execution_count": null,
   "metadata": {},
   "outputs": [],
   "source": []
  }
 ],
 "metadata": {
  "kernelspec": {
   "display_name": "Python 3",
   "language": "python",
   "name": "python3"
  },
  "language_info": {
   "codemirror_mode": {
    "name": "ipython",
    "version": 3
   },
   "file_extension": ".py",
   "mimetype": "text/x-python",
   "name": "python",
   "nbconvert_exporter": "python",
   "pygments_lexer": "ipython3",
   "version": "3.7.0"
  }
 },
 "nbformat": 4,
 "nbformat_minor": 2
}
