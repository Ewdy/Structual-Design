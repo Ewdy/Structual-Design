{
 "cells": [
  {
   "cell_type": "markdown",
   "metadata": {
    "collapsed": false
   },
   "source": [
    "A Collection of Frequently used Material Properties with citation of sources"
   ]
  },
  {
   "cell_type": "code",
   "execution_count": 1,
   "metadata": {
    "collapsed": false
   },
   "outputs": [
   ],
   "source": [
    "from pint import UnitRegistry\n",
    "unit = UnitRegistry()\n",
    "# Define symbols for common units\n",
    "m = unit.meter; mm = unit.millimeter; inch = unit.inch;\n",
    "kN = unit.kilonewton; MPa = unit.megapascal; psi = unit.psi"
   ]
  },
  {
   "cell_type": "markdown",
   "metadata": {
    "collapsed": false
   },
   "source": [
    "Steel - Fasteners\n",
    "================="
   ]
  },
  {
   "cell_type": "code",
   "execution_count": 0,
   "metadata": {
    "collapsed": false
   },
   "outputs": [
   ],
   "source": [
    "# Mechanical Specifications for SAE J429 Grade 8\n",
    "F_u = 150000*psi # minimum Tensile Strength\n",
    "F_y = 130000*psi # minimum Yield Strength"
   ]
  },
  {
   "cell_type": "code",
   "execution_count": 0,
   "metadata": {
    "collapsed": false
   },
   "outputs": [
   ],
   "source": [
    "# Mechanical Specifications for Class 10.9 per ISO 898-1\n",
    "F_u = 1040*MPa # minimum Tensile Strength\n",
    "F_y = 940*MPa # minimum Yield Strength"
   ]
  },
  {
   "cell_type": "code",
   "execution_count": 2,
   "metadata": {
    "collapsed": false
   },
   "outputs": [
   ],
   "source": [
    "# Mechanical Specifications for Class 12.9 per ISO 898-1\n",
    "F_u = 1220*MPa # minimum Tensile Strength\n",
    "F_y = 1100*MPa # minimum Yield Strength"
   ]
  },
  {
   "cell_type": "markdown",
   "metadata": {
    "collapsed": false
   },
   "source": [
    "Steel - Alloys\n",
    "=============="
   ]
  },
  {
   "cell_type": "code",
   "execution_count": 0,
   "metadata": {
    "collapsed": false
   },
   "outputs": [
   ],
   "source": [
    "# Safway Material S_1\n",
    "# from Safway SafLock Technical Manual ORN 2203 Rev G-A 11/17\n",
    "E = 200000 * MPa; E.ito(kN / m**2)     # Elastic modulus of steel\n",
    "F_y = 50000 * psi  # Yield Strength given\n",
    "F_t = 65000 * psi; F_t.ito(kN / m**2)     # Tensile Strength given\n",
    "lambda_steel = 7850 * (kg / m**3)     # density of steel"
   ]
  },
  {
   "cell_type": "code",
   "execution_count": 0,
   "metadata": {
    "collapsed": false
   },
   "outputs": [
   ],
   "source": [
    "# Safway Material S_2\n",
    "# from Safway SafLock Technical Manual ORN 2203 Rev G-A 11/17\n",
    "E = 200000 * MPa; E.ito(kN / m**2)     # Elastic modulus of steel\n",
    "F_y = 60000 * psi  # Yield Strength given\n",
    "F_t = 70000 * psi; F_t.ito(kN / m**2)     # Tensile Strength given\n",
    "lambda_steel = 7850 * (kg / m**3)     # density of steel"
   ]
  },
  {
   "cell_type": "code",
   "execution_count": 0,
   "metadata": {
    "collapsed": false
   },
   "outputs": [
   ],
   "source": [
    "# Safway Material S_3\n",
    "# from Safway SafLock Technical Manual ORN 2203 Rev G-A 11/17\n",
    "E = 200000 * MPa; E.ito(kN / m**2)     # Elastic modulus of steel\n",
    "F_y = 50000 * psi  # Yield Strength given\n",
    "F_t = 70000 * psi; F_t.ito(kN / m**2)     # Tensile Strength given\n",
    "lambda_steel = 7850 * (kg / m**3)     # density of steel"
   ]
  },
  {
   "cell_type": "code",
   "execution_count": 0,
   "metadata": {
    "collapsed": false
   },
   "outputs": [
   ],
   "source": [
    "# Safway Material S_4\n",
    "# from Safway SafLock Technical Manual ORN 2203 Rev G-A 11/17\n",
    "E = 200000 * MPa; E.ito(kN / m**2)     # Elastic modulus of steel\n",
    "F_y = 50000 * psi  # Yield Strength given\n",
    "F_t = 70000 * psi; F_t.ito(kN / m**2)     # Tensile Strength given\n",
    "lambda_steel = 7850 * (kg / m**3)     # density of steel"
   ]
  },
  {
   "cell_type": "code",
   "execution_count": 0,
   "metadata": {
    "collapsed": false
   },
   "outputs": [
   ],
   "source": [
    "# Safway Material S_5\n",
    "# from Safway SafLock Technical Manual ORN 2203 Rev G-A 11/17\n",
    "E = 200000 * MPa; E.ito(kN / m**2)     # Elastic modulus of steel\n",
    "F_y = 50000 * psi  # Yield Strength given\n",
    "F_t = 70000 * psi; F_t.ito(kN / m**2)     # Tensile Strength given\n",
    "lambda_steel = 7850 * (kg / m**3)     # density of steel"
   ]
  },
  {
   "cell_type": "code",
   "execution_count": 0,
   "metadata": {
    "collapsed": false
   },
   "outputs": [
   ],
   "source": [
    "# Safway Material S_6\n",
    "# from Safway SafLock Technical Manual ORN 2203 Rev G-A 11/17\n",
    "E = 200000 * MPa; E.ito(kN / m**2)     # Elastic modulus of steel\n",
    "F_y = 70000 * psi  # Yield Strength given\n",
    "F_t = 80000 * psi; F_t.ito(kN / m**2)     # Tensile Strength given\n",
    "lambda_steel = 7850 * (kg / m**3)     # density of steel"
   ]
  },
  {
   "cell_type": "code",
   "execution_count": 0,
   "metadata": {
    "collapsed": false
   },
   "outputs": [
   ],
   "source": [
    "# Safway Material S_15\n",
    "# from Safway SafLock Technical Manual ORN 2203 Rev G-A 11/17\n",
    "E = 200000 * MPa; E.ito(kN / m**2)     # Elastic modulus of steel\n",
    "F_y = 50000 * psi  # Yield Strength given\n",
    "F_t = 70000 * psi; F_t.ito(kN / m**2)     # Tensile Strength given\n",
    "lambda_steel = 7850 * (kg / m**3)     # density of steel"
   ]
  },
  {
   "cell_type": "code",
   "execution_count": 0,
   "metadata": {
    "collapsed": false
   },
   "outputs": [
   ],
   "source": [
    "# Safway Material S_16\n",
    "# from Safway SafLock Technical Manual ORN 2203 Rev G-A 11/17\n",
    "E = 200000 * MPa; E.ito(kN / m**2)     # Elastic modulus of steel\n",
    "F_y = 50000 * psi  # Yield Strength given\n",
    "F_t = 70000 * psi; F_t.ito(kN / m**2)     # Tensile Strength given\n",
    "lambda_steel = 7850 * (kg / m**3)     # density of steel"
   ]
  },
  {
   "cell_type": "markdown",
   "metadata": {
    "collapsed": false
   },
   "source": [
    "Aluminum\n",
    "========"
   ]
  },
  {
   "cell_type": "code",
   "execution_count": 3,
   "metadata": {
    "collapsed": false
   },
   "outputs": [
   ],
   "source": [
    "# Material Properties of 6061-T6 Extruded Aluminum from Table 2 of S157-05\n",
    "F_u = 260*MPa # Ultimate Strength of Base Metal from Table 2 of S157-05 (R2015)\n",
    "# F_u = 262*MPa # Ultimate Strength of Base Metal from ADM2015\n",
    "F_y = 240*MPa # Yield Strength of Base Metal\n",
    "F_wy = 110*MPa # Yield Strength of welded heat-affected-zone\n",
    "E = 70000*MPa # Elastic Modulus from S157-05 4.3(b)"
   ]
  },
  {
   "cell_type": "code",
   "execution_count": 0,
   "metadata": {
    "collapsed": false
   },
   "outputs": [
   ],
   "source": [
   ]
  }
 ],
 "metadata": {
  "kernelspec": {
   "display_name": "Python 3 (Ubuntu Linux)",
   "language": "python",
   "metadata": {
    "cocalc": {
     "description": "Python 3 programming language",
     "priority": 100,
     "url": "https://www.python.org/"
    }
   },
   "name": "python3"
  },
  "language_info": {
   "codemirror_mode": {
    "name": "ipython",
    "version": 3
   },
   "file_extension": ".py",
   "mimetype": "text/x-python",
   "name": "python",
   "nbconvert_exporter": "python",
   "pygments_lexer": "ipython3",
   "version": "3.6.8"
  }
 },
 "nbformat": 4,
 "nbformat_minor": 0
}