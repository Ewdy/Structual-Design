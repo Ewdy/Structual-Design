{
 "cells": [
  {
   "cell_type": "markdown",
   "metadata": {
    "collapsed": false
   },
   "source": [
    "Circle - Neutral Axis in Middle - Rev 0.0"
   ]
  },
  {
   "cell_type": "markdown",
   "metadata": {
    "collapsed": false
   },
   "source": [
    "**Abstract:**  \n",
    "Given: diameter d  \n",
    "Returns: Area, Section Modulus, Plastic Modulus, Second Moment of Inertia, Radius of Gyration, and distance from neutral axis to extreme fibre  \n",
    "\n",
    "**Instructions:**  \n",
    "Enter radius below:"
   ]
  },
  {
   "cell_type": "code",
   "execution_count": 5,
   "metadata": {
    "collapsed": false
   },
   "outputs": [
   ],
   "source": [
    "from math import pi\n",
    "from pint import UnitRegistry\n",
    "unit = UnitRegistry()\n",
    "unit.default_format = '~' # ~ for unit abreviations, P for pretty print, or both\n",
    "# Define symbols for common units\n",
    "m = unit.meter; mm = unit.millimeter; inch = unit.inch;\n",
    "kN = unit.kilonewton; MPa = unit.megapascal; psi = unit.psi"
   ]
  },
  {
   "cell_type": "code",
   "execution_count": 3,
   "metadata": {
    "collapsed": false
   },
   "outputs": [
   ],
   "source": [
    "# Define dimensional quantities\n",
    "d = 5.5*inch # diameter in given unit\n",
    "d.ito(mm) # convert to desired output unit\n",
    "R = d/2"
   ]
  },
  {
   "cell_type": "code",
   "execution_count": 8,
   "metadata": {
    "collapsed": false
   },
   "outputs": [
   ],
   "source": [
    "# Formulas\n",
    "A = (pi*d**2)/4 # Area\n",
    "S = (pi*d**3)/32 # Elastic Section Modulus\n",
    "Z = (d**3)/6 # Plastic Section Modulus\n",
    "I = (pi*d**4)/64 # Second Moment of Inertia\n",
    "J = (pi*d**4)/32 # St. Venant's Torsional Constant\n",
    "r = d/4 # Radius of Gyration\n",
    "c = d/2 # Distance from Neutral Axis to Extreme Fibre"
   ]
  },
  {
   "cell_type": "code",
   "execution_count": 10,
   "metadata": {
    "collapsed": false
   },
   "outputs": [
    {
     "name": "stdout",
     "output_type": "stream",
     "text": [
      "Given:\n",
      " Diameter, d = 139.7mm and\n",
      "\n",
      "Geometric Properties:\n",
      " Area, A = 15327.9mm ** 2\n",
      " Elastic Section Modulus, S = 267663mm ** 3\n",
      " Plastic Section Modulus, Z = 454400mm ** 3\n",
      " Second Moment of Inertia, I = 1.86963e+07mm ** 4\n",
      " St. Venant's Torsional Constant, J = 3.73926e+07mm ** 4\n",
      " Radius of Gyration, r = 34.925mm\n",
      " Distance from Neutral Axis to Extreme Fibre, c = 69.85mm\n"
     ]
    }
   ],
   "source": [
    "# Define Output\n",
    "print('Given:')\n",
    "print(' Diameter, d = {0:n}{1} and'.format(d.magnitude, d.units))\n",
    "print('')\n",
    "print('Geometric Properties:')\n",
    "print(' Area, A = {0:n}{1}'.format(A.magnitude, A.units))\n",
    "print(' Elastic Section Modulus, S = {0:n}{1}'.format(S.magnitude,\n",
    "    S.units))\n",
    "print(' Plastic Section Modulus, Z = {0:n}{1}'.format(Z.magnitude,\n",
    "    Z.units))\n",
    "print(' Second Moment of Inertia, I = {0:n}{1}'.format(I.magnitude,\n",
    "    I.units))\n",
    "print(\" St. Venant's Torsional Constant, J = {0:n}{1}\".format(J.magnitude,\n",
    "    J.units))\n",
    "print(' Radius of Gyration, r = {0:n}{1}'.format(r.magnitude,\n",
    "    r.units))\n",
    "print(' Distance from Neutral Axis to Extreme Fibre, c = {0:n}{1}'.format(\n",
    "    c.magnitude, c.units))"
   ]
  },
  {
   "cell_type": "markdown",
   "metadata": {
    "collapsed": false
   },
   "source": [
    "**Revision History:**  \n",
    "- Rev 0.0  20-Jun-2019 E.Durham Created notebook using formulas from Aluminum Design Manual 2015"
   ]
  }
 ],
 "metadata": {
  "kernelspec": {
   "display_name": "Python 3 (Ubuntu Linux)",
   "language": "python",
   "metadata": {
    "cocalc": {
     "description": "Python 3 programming language",
     "priority": 100,
     "url": "https://www.python.org/"
    }
   },
   "name": "python3"
  },
  "language_info": {
   "codemirror_mode": {
    "name": "ipython",
    "version": 3
   },
   "file_extension": ".py",
   "mimetype": "text/x-python",
   "name": "python",
   "nbconvert_exporter": "python",
   "pygments_lexer": "ipython3",
   "version": "3.7.2"
  }
 },
 "nbformat": 4,
 "nbformat_minor": 0
}