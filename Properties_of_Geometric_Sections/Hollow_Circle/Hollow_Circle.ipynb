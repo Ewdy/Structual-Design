{
 "cells": [
  {
   "cell_type": "code",
   "execution_count": 1,
   "metadata": {},
   "outputs": [],
   "source": [
    "# Geometric Properties of Hollow Circle\n",
    "# E.Durham     7-May-2018"
   ]
  },
  {
   "cell_type": "markdown",
   "metadata": {},
   "source": [
    "![Hollow Circle Graphic](./Hollow_Circle.JPG)"
   ]
  },
  {
   "cell_type": "code",
   "execution_count": 2,
   "metadata": {},
   "outputs": [],
   "source": [
    "import pint, math\n",
    "unit = pint.UnitRegistry(system='mks')\n",
    "\n",
    "# define synonyms for common units\n",
    "inch = unit.inch; mm = unit.mm; m = unit.m; \n",
    "dimensionless = unit.dimensionless; s = unit.second; pi = math.pi\n",
    "\n",
    "def u_round(Q, digits=3):\n",
    "    \"\"\"\n",
    "    Takes a Pint.py quantity and returns same rounded to digits, \n",
    "    default is 3 digits\n",
    "    \"\"\"\n",
    "    try:\n",
    "        unit.check(Q.units)\n",
    "        magnitude = Q.magnitude\n",
    "        units = Q.units\n",
    "        return round(magnitude,digits) * units\n",
    "    except:\n",
    "        print(\"ERROR: u_round() first arguement must be a Pint.py quantity\")\n",
    "        return NaN"
   ]
  },
  {
   "cell_type": "code",
   "execution_count": 3,
   "metadata": {},
   "outputs": [],
   "source": [
    "# Specify Outside Diameter, d AND Wall Thickness, t\n",
    "d = 1.900 * inch\n",
    "t = 0.188 * inch"
   ]
  },
  {
   "cell_type": "code",
   "execution_count": 4,
   "metadata": {},
   "outputs": [],
   "source": [
    "# Geometric Properties of Hollow Circle [4]\n",
    "d1 = d - ( float(2) * t )     # inside diameter\n",
    "A = ( float(pi) * (d**2 - d1**2) ) / 4\n",
    "c = d / float(2)     # distance from centroid of area\n",
    "I = ( float(pi) * (d**4 - d1**4) ) / float(64)\n",
    "S = ( float(pi) * (d**4 - d1**4) ) / (float(32) * d)\n",
    "r = ( ( d**2 + d1**2 )**(1/2) ) / float(4)\n",
    "Z = (d**3 - d1**3) / float(6)"
   ]
  },
  {
   "cell_type": "code",
   "execution_count": 16,
   "metadata": {},
   "outputs": [],
   "source": [
    "# Torsional Properties\n",
    "Q = (t/6)*((3*d**2)-(6*d*t)+(4*t**2)) # [3]\n",
    "J = 2 * I # St. Venant's Torsional Constant\n",
    "# valid for any wall thickness, see references below\n",
    "C = (2*J)/d # HSS Torsional Constant\n",
    "C_w = 0.0*inch**6 # see references below\n",
    "C_RT = (2 * t * I) / Q"
   ]
  },
  {
   "cell_type": "code",
   "execution_count": 17,
   "metadata": {},
   "outputs": [
    {
     "name": "stdout",
     "output_type": "stream",
     "text": [
      "Geometric Properties of Hollow Circle:\n",
      "Given: Outside Diameter, d = 1.9 inch = 48.26 millimeter\n",
      "Given: Wall Thickness, t = 0.188 inch = 4.78 millimeter\n",
      "Inside Diameter, d1 = 1.524 inch = 38.71 millimeter\n",
      "Area, A = 1.011 inch ** 2 = 652.3 millimeter ** 2\n",
      "c = 0.95 inch = 24.13 millimeter\n",
      "Radius of Gyration, r = 0.6089 inch = 15.47 millimeter\n",
      "Second Moment of Inertia, I = 0.3749 inch ** 4 = 156052.1 millimeter ** 4\n",
      "Elastic Section Modulus, S = 0.3946 inch ** 3 = 6467.1 millimeter ** 3\n",
      "Plastic Section Modulus, Z = 0.5532 inch ** 3 = 9065.9 millimeter ** 3\n"
     ]
    }
   ],
   "source": [
    "print('Geometric Properties of Hollow Circle:')\n",
    "print('Given: Outside Diameter, d =', u_round(d), '=', u_round(d.to(mm),2))\n",
    "print('Given: Wall Thickness, t =', u_round(t), '=', u_round(t.to(mm),2))\n",
    "print('Inside Diameter, d1 =', u_round(d1), '=', u_round(d1.to(mm),2))\n",
    "print('Area, A =', u_round(A), '=', u_round(A.to(mm**2),1) )\n",
    "print('c =', u_round(c), '=', u_round(c.to(mm),2))\n",
    "print('Radius of Gyration, r =', u_round(r,4), '=', u_round(r.to(mm),2))\n",
    "print('Second Moment of Inertia, I =', u_round(I,4), '=', u_round(I.to(mm**4),1))\n",
    "print('Elastic Section Modulus, S =', u_round(S,4), '=', u_round(S.to(mm**3),1))\n",
    "print('Plastic Section Modulus, Z =', u_round(Z,4), '=', u_round(Z.to(mm**3),1))"
   ]
  },
  {
   "cell_type": "code",
   "execution_count": 21,
   "metadata": {},
   "outputs": [
    {
     "name": "stdout",
     "output_type": "stream",
     "text": [
      "Torsional Properties of Hollow Circle:\n",
      "St. Venant torsional constant (valid for any wall thickness),\n",
      "J =  0.75 inch ** 4 = 312104.24 millimeter ** 4\n",
      "Statital moment of the portion of section lying outside \n",
      "the neutral axis taken about the neutral axis,\n",
      "Q = 0.277 inch ** 3 = 4532.9 millimeter ** 3\n",
      "HSS Torsional Constant,\n",
      "C = 0.789 inch ** 3 = 12934.3 millimeter ** 3\n",
      "Warping Torsional Constant,\n",
      "C_w = 0.0 inch ** 6 = 0.0 millimeter ** 6\n",
      "HSS Shear Constant\n",
      "C_RT = 0.51 inch ** 2 = 328.8 millimeter ** 2\n"
     ]
    }
   ],
   "source": [
    "print('Torsional Properties of Hollow Circle:')\n",
    "print('St. Venant torsional constant (valid for any wall thickness),')\n",
    "print('J = ', u_round(J), '=', u_round(J.to(mm**4),2))\n",
    "print('Statital moment of the portion of section lying outside ')\n",
    "print('the neutral axis taken about the neutral axis,')\n",
    "print('Q =', u_round(Q), '=', u_round(Q.to(mm**3),1))\n",
    "print('HSS Torsional Constant,')\n",
    "print('C =', u_round(C), '=', u_round(C.to(mm**3),1))\n",
    "print('Warping Torsional Constant,')\n",
    "print('C_w =', u_round(C_w), '=', u_round(C_w.to(mm**6),1))\n",
    "print('HSS Shear Constant')\n",
    "print('C_RT =', u_round(C_RT), '=', u_round(C_RT.to(mm**2),1))"
   ]
  },
  {
   "cell_type": "markdown",
   "metadata": {},
   "source": [
    "## Glossary of Torsional Terms [1]\n",
    "### HSS Shear Constant\n",
    "The shear constant, $C_{RT}$, is used for calculating the maximum shear stress due to an applied shear force.  \n",
    "For hollow structural section, the maximum shear stress in the cross section is given by:  \n",
    "$\\tau_{max} = \\frac{V Q}{2 t I}$  \n",
    "where $V$ is the applied shear force, $Q$ is the statical moment of the portion of the section lying outside the neutral axis taken about the neutral axis, $I$ is the moment of inertia, and $t$ is the wall thickness.  \n",
    "The shear constant is expressed as the ratio of the applied shear force to the maximum shear stress [3]:  \n",
    "$C_{RT} = \\frac{V}{\\tau_{max}} = \\frac{2 t I}{Q}$  \n",
    "### HSS Torsional Constant\n",
    "The torsional constant, $C$, is used for calculating the shear stress due to an applied torqu. It is expressed as the ratio of the applied torque, $T$, to the shear stress in the cross section, $\\tau$:  \n",
    "$C = \\frac{T}{\\tau}$  \n",
    "\n",
    "### St. Venant Torsional Constant\n",
    "The St. Venant torsional constant, $J$, measures the resistance of a structural member to *pure* or *uniform* torsion. It is used in calculating the buckling moment resistance of laterally unsupported beams and torsional-flexural buckling of compression members in accordance with CSA S16.  \n",
    "\n",
    "For open cross section, the general formula is given by Galambos (1968):  \n",
    "$J = \\sum(\\frac{b't^3}{3})$  \n",
    "where $b'$ are the plate lengths between points of intersection on their axes, and $t$ are the plate thicknesses. Summation includes all component plates. It is noted that the tabulated values in the Handbook of Steel Construction are based on net plate lengths instead of lengths between intersection points, a mostly conservative approach.  \n",
    "\n",
    "The expressions for $J$ given herein do not take into account the flange-to-web fillets. Formulas which account for this effect are given by El Darwish and Johnston (1965).\n",
    "\n",
    "For thin-walled closed sections, the general formula is given by Salmon and Johnson (1980):  \n",
    "$J = \\frac{4 A_o^2}{\\int_s ds/t}$  \n",
    "\n",
    "where $A_o$ is the enclosed area by the walls, $t$ is the wall thickness, $ds$ is a length element along the perimeter. Integration is performed over the entire perimeter $S$.\n",
    "\n",
    "### Warping Torsional Constant\n",
    "The warping torsional constant, $C_w$, measures the resistance of a structural member to *nonuniform* or *warping* torsion. It is used in calculating the buckling moment resistance of laterally unsupported beams and torsional-flexural buckling of compression members in accordance with CSA Standard S16.\n",
    "\n",
    "For open section, a general calculation method is given by Galambos (1968). For section in which all component plates meet at a single poitn, such as angles and T-sections, a calculation method is given by Bleich (1952). For hollow structural sections (HSS), warping deformations are small, and the warping torsional constant is generally taken as zero.  \n",
    "\n"
   ]
  },
  {
   "cell_type": "markdown",
   "metadata": {},
   "source": [
    "### References for Torsional Constants\n",
    "[1] CISC, 2002. Torsional Section Properties of Steel Shapes.  \n",
    "Canadian Institute of Steel Construction, 2002\n",
    "\n",
    "[2] Seaburg, P.A. and Carter, C.J. 1997. Torsional Analysis of Structural Steel Members.  \n",
    "American Institute of Steel Construction, Chicago, Ill.\n",
    "\n",
    "[3] Stelco. 1981. Hollow Structural Sections - Sizes and Section Properties, 6th Edition.  \n",
    "Stelco Inc., Hamilton, Ont.\n",
    "\n",
    "[4] CISC 2016. Handbook of Steel Construction, 11th Edition, page 7-84\n",
    "www.cisc-icca.ca"
   ]
  },
  {
   "cell_type": "markdown",
   "metadata": {},
   "source": [
    "### Revision History\n",
    "0.2 - 2019-07-03 - E.Durham - Added graphic image and info on St.Venant's Constant  \n",
    "0.1 - 2019-07-02 - E.Durham - Added torsional constants, glossary and references  \n",
    "0.0 - 2018-05-07 - E.Durham - Created initial notebook"
   ]
  }
 ],
 "metadata": {
  "kernelspec": {
   "display_name": "Python 3",
   "language": "python",
   "name": "python3"
  },
  "language_info": {
   "codemirror_mode": {
    "name": "ipython",
    "version": 3
   },
   "file_extension": ".py",
   "mimetype": "text/x-python",
   "name": "python",
   "nbconvert_exporter": "python",
   "pygments_lexer": "ipython3",
   "version": "3.7.2"
  }
 },
 "nbformat": 4,
 "nbformat_minor": 1
}
