{
 "cells": [
  {
   "cell_type": "markdown",
   "metadata": {
    "collapsed": false
   },
   "source": [
    "Determine Shear Resistance of 3/4\" SAE J429 Grade 8 Bolt at Joint 1  \n",
    "Per CSA S157-05 (R2015) Strength Design in Aluminum\n",
    "\n",
    "Case: Grade 8 3/4\" Bolt with threads excluded from joint"
   ]
  },
  {
   "cell_type": "code",
   "execution_count": 1,
   "metadata": {
    "collapsed": false
   },
   "outputs": [
   ],
   "source": [
    "from pint import UnitRegistry\n",
    "unit = UnitRegistry()\n",
    "# Define symbols for common units\n",
    "m = unit.meter; mm = unit.millimeter; inch = unit.inch;\n",
    "kN = unit.kilonewton; MPa = unit.megapascal; psi = unit.psi"
   ]
  },
  {
   "cell_type": "code",
   "execution_count": 2,
   "metadata": {
    "collapsed": false
   },
   "outputs": [
   ],
   "source": [
    "# Case parameters\n",
    "m = 2 # number of shear planes\n",
    "A = 285*mm**2 # Nominal Area of 3/4\" Bolt\n",
    "# From Handbook of Steel Construction, 11th Edition, Table 3-2 on page 3-6\n",
    "\n",
    "# Mechanical Specifications for SAE J429 Grade 8\n",
    "F_u = 150000*psi # minimum Tensile Strength\n",
    "F_y = 130000*psi # minimum Yield Strength\n",
    "\n",
    "# Resistance Factors CSA S157-05 (R2015) 5.5\n",
    "phi_y = 0.9 # tension, compression, and shear in beams: on yield\n",
    "phi_c = 0.9 # compression in columns: on collapse due to buckling\n",
    "phi_u = 0.75 # tension and shear in beams: on ultimate\n",
    "phi_u = 0.75 # tension on a net section, bearing stress, tear-out: on ultimate\n",
    "phi_u = 0.75 # tension and compression on butt welds: on ultimate\n",
    "phi_f = 0.67 # shear stress on fillet welds: on ultimate\n",
    "phi_f = 0.67 # tension and shear stress on fasteners: on ultimate"
   ]
  },
  {
   "cell_type": "code",
   "execution_count": 3,
   "metadata": {
    "collapsed": false
   },
   "outputs": [
    {
     "name": "stdout",
     "output_type": "stream",
     "text": [
      "Design Shear Resistance, V_r = 237.0 kilonewton\n"
     ]
    }
   ],
   "source": [
    "V_r = phi_f*0.6*m*A*F_u\n",
    "V_r.ito(kN)\n",
    "print('Design Shear Resistance, V_r =', round(V_r.magnitude, 1), V_r.units)"
   ]
  },
  {
   "cell_type": "markdown",
   "metadata": {
    "collapsed": false
   },
   "source": [
    "CSA S157-05 (R2015) Strength Design in Aluminum  \n",
    "11.2.3 Bolts and rivets in shear and/or tension  \n",
    "11.2.3.1 Shear Resistance  \n",
    "For bolts and solid rivets, the factored shear resistance, $V_r$, of the fastener in bearing-type connections shall be given by  \n",
    "$V_r = \\phi_f 0.6 m A F_u$  \n",
    "where  \n",
    "$\\phi_f$ = fastener resistance factor  \n",
    "$m$ = number of shear planes  \n",
    "$A$ = nominal cross-sectional area of the fastener  \n",
    "$F_u$ = ultimate strength of the fastener material\n",
    "\n",
    "\n",
    "If the bolt threads are in a shear plane, the value of $V_r$ shall be multiplied by 0.75."
   ]
  }
 ],
 "metadata": {
  "kernelspec": {
   "display_name": "Python 3 (Ubuntu Linux)",
   "language": "python",
   "metadata": {
    "cocalc": {
     "description": "Python 3 programming language",
     "priority": 100,
     "url": "https://www.python.org/"
    }
   },
   "name": "python3"
  },
  "language_info": {
   "codemirror_mode": {
    "name": "ipython",
    "version": 3
   },
   "file_extension": ".py",
   "mimetype": "text/x-python",
   "name": "python",
   "nbconvert_exporter": "python",
   "pygments_lexer": "ipython3",
   "version": "3.6.8"
  }
 },
 "nbformat": 4,
 "nbformat_minor": 0
}