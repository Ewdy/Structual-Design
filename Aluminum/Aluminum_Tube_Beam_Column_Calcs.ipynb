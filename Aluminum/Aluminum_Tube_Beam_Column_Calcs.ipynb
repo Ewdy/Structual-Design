{
 "cells": [
  {
   "cell_type": "markdown",
   "metadata": {
    "collapsed": false
   },
   "source": [
    "Calculations of Design Strength of Aluminum Scaffold Tubes subject to eccentric compressive loads  \n",
    "per CSA S157-05 R2010"
   ]
  },
  {
   "cell_type": "markdown",
   "metadata": {
    "collapsed": false
   },
   "source": [
    "##### 9.7.4 Eccentric compression #####  \n",
    "9.7.4.1 General case  \n",
    "For general cases of eccentric compression, the following requirements shall apply:  \n",
    "    (a) For failure in the plane of bending, Clause 9.7.3.1(a) or (b) shall be use with a factored moment,  \n",
    "    $ M_f $ , given by  \n",
    "    $ M_f = 1.2eC_f $  \n",
    "    (b) For lateral-torsional buckling, Clause 9.7.3.3 shall be used with a moment, $ M_f $ , given by  \n",
    "    $ M_f = eC_f $  \n",
    "    where  \n",
    "    $ e $ = eccentricity  \n",
    "    $ C_f $ = factored axial force"
   ]
  },
  {
   "cell_type": "markdown",
   "metadata": {
    "collapsed": false
   },
   "source": [
    "##### 9.7.3.1 Members not subject to lateral-torsional buckling #####  \n",
    "Where there is no tendency to buckle laterally, the limiting combination of factored axial load, $ C_f $ , and factored bending moment, $ M_f $ , shall be calculated using the gross section and shall be given by:  \n",
    "(a) where compressive stress governs,  \n",
    "$ \\frac{M_f}{S_c (1 - \\frac{C_f}{C_e})} + \\frac{C_f}{A} \\leq \\phi_y F_o $  \n",
    "(b) where tensile stress governs,  \n",
    "$ \\frac{M_f}{S_t (1 - \\frac{C_f}{C_e})} + \\frac{C_f}{A} \\leq \\phi_y F_y $  \n",
    "(c) for members with applied end moments, the limiting combination at the supports shall be calculated using the following formulas:  \n",
    "    (i) when compressive stress governs,  \n",
    "    $ \\frac{C_f}{A} + \\frac{M_{max}}{S_c} \\leq \\phi_y F_y $  \n",
    "    (ii) when tensile stress governs,  \n",
    "    $ \\frac{M_{max}}{S_t} - \\frac{C_f}{A} \\leq \\phi_y F_y $  \n",
    "where  \n",
    "$ M_f $ = maximum moment due to the factored lateral loads  \n",
    "$ S_c $ = section modulus for the extreme fibre in compression  \n",
    "$ C_f $ = applied compressive force due to the factored loads, which shall not exceed the value for $ C_r $ given by Clause 9.4.1  \n",
    "$ C_e $ = $ A \\pi^2 E / \\lambda^2 $  \n",
    "    where  \n",
    "    $ E $ = elastic modulus  \n",
    "    $ \\lambda $ = $ L/r $  \n",
    "        where  \n",
    "        $ L $ = unbraced length  \n",
    "        $ r $ = radius of gyration in the plane of bending  \n",
    "$ A $ = gross area  \n",
    "$ \\phi_y $ = resistance factor on the yield strength  \n",
    "$ F_o $ = limiting stress (see Clause 9.3.2)  \n",
    "$ S_t $ = section modulus for the extreme fibre in tension  \n",
    "$ F_y $ = yield strength  \n",
    "$ M_{max} $ = maximum factored end moment  "
   ]
  },
  {
   "cell_type": "markdown",
   "metadata": {
    "collapsed": false
   },
   "source": [
    "Setup calculation environment"
   ]
  },
  {
   "cell_type": "code",
   "execution_count": 1,
   "metadata": {
    "collapsed": false
   },
   "outputs": [
   ],
   "source": [
    "import math as math\n",
    "import pint\n",
    "unit = pint.UnitRegistry(system='mks')\n",
    "\n",
    "# define synanyms for common units\n",
    "inch = unit.inch; mm = unit.mm; m = unit.m; MPa = unit.MPa; psi = unit.psi; \n",
    "kN = unit.kN; ksi = unit.ksi; dimensionless = unit.dimensionless; \n",
    "s = unit.second; kg = unit.kg\n",
    "\n",
    "def u_round(Q, digits=3):\n",
    "    \"\"\"\n",
    "    Takes a Pint.py quantity and returns same rounded to digits, default \n",
    "    is 3 digits\n",
    "    \"\"\"\n",
    "    try:\n",
    "        unit.check(Q.units)\n",
    "        magnitude = Q.magnitude\n",
    "        units = Q.units\n",
    "        return round(magnitude,digits) * units\n",
    "    except:\n",
    "        print('ERROR: u_round() first arguement must be a Pint.py quantity')\n",
    "        return NaN"
   ]
  },
  {
   "cell_type": "markdown",
   "metadata": {
    "collapsed": false
   },
   "source": [
    "Define case parameters  "
   ]
  },
  {
   "cell_type": "code",
   "execution_count": 2,
   "metadata": {
    "collapsed": false
   },
   "outputs": [
   ],
   "source": [
    "C_f = 5.94 * kN # factored\n",
    "e = 0.075 * m\n",
    "L = (4.3 / 2) * m # because members are braced to each other at midspan"
   ]
  },
  {
   "cell_type": "code",
   "execution_count": 3,
   "metadata": {
    "collapsed": false
   },
   "outputs": [
    {
     "name": "stdout",
     "output_type": "stream",
     "text": [
      "M_f = 0.535 kilonewton * meter\n"
     ]
    }
   ],
   "source": [
    "# thus\n",
    "M_f = (1.2*dimensionless) * e * C_f\n",
    "print(\"M_f = \" + str(u_round(M_f,3)))"
   ]
  },
  {
   "cell_type": "markdown",
   "metadata": {
    "collapsed": false
   },
   "source": [
    "Geometric and Material Properties for tubing:"
   ]
  },
  {
   "cell_type": "code",
   "execution_count": 4,
   "metadata": {
    "collapsed": false
   },
   "outputs": [
    {
     "name": "stdout",
     "output_type": "stream",
     "text": [
      "1.900\" x 0.145\" 6061-T6 Extruded Tube Geometric Properties:\n",
      "OD, b = 1.9 inch = 48.26 millimeter\n",
      "Wall, t = 0.145 inch = 3.68 millimeter\n",
      "Area, A = 0.799 inch ** 2 = 515.5 millimeter ** 2\n",
      "Radius of Gyration, r = 0.623 inch = 15.8 millimeter\n",
      "Elastic Section Modulus, S = 0.326 inch ** 3 = 5342.2 millimeter ** 3\n",
      "Plastic Section Modulus, Z = 0.448 inch ** 3 = 7341.4 millimeter ** 3\n",
      "Dead Load = 1.392 kilogram / meter\n",
      "\n",
      "Material Properties for Aluminum 6061-T6 Extruded:\n",
      "Yield Strength, Fy = 35.0 kip_per_square_inch = 241.3 megapascal\n",
      "Tensile Strength, Ft = 38.0 kip_per_square_inch = 262.0 megapascal\n",
      "Elastic Modulus, E = 10152.6 kip_per_square_inch = 70000.0 megapascal\n"
     ]
    }
   ],
   "source": [
    "# Safway Aluminum Scaffold Tubing (6061-T6) taken from Safway SafLock \n",
    "# Technical Manual Rev G 11/14 page 38 on 4-May-2018\n",
    "# Geometric Properties:\n",
    "b = 1.90 * inch; b.ito(mm)     # OD outside diameter, given\n",
    "t = 0.145 * inch; t.ito(mm)     # Wall thickness, given\n",
    "A = 0.799 * inch**2; A.ito(mm**2)     # Area, given\n",
    "S = 0.326 * inch**3; S.ito(mm**3)     # Elastic section modulus, given\n",
    "Z = 0.448 * inch**3; Z.ito(m**3)     # Plastic section modulus, DERIVED\n",
    "I = 0.3099 * inch**4; I.ito(mm**4)     # Second moment of area, given\n",
    "r = 0.623 * inch; r.ito(mm)     # radius of gyration, given\n",
    "c = (b.magnitude / 2) * b.units\n",
    "b1 = b - ( (2 * t.magnitude) * t.units )\n",
    "\n",
    "# Material Properties (Aluminum 6061-T6):\n",
    "E = 70000 * MPa; E.ito(kN / m**2)     # Elastic modulus per 4.3(b)\n",
    "Fy = 35000 * psi; Fy.ito(kN / m**2)     # Yield Strength given\n",
    "Ft = 38000 * psi; Ft.ito(kN / m**2)     # Tensile Strength given\n",
    "lambda_aluminum = 2700 * (kg / m**3)     # density of aluminum\n",
    "\n",
    "dead_load = A * lambda_aluminum\n",
    "dead_load.ito(kg / m)\n",
    "\n",
    "# Print out Geometric Properties in metric units\n",
    "print('1.900\" x 0.145\" 6061-T6 Extruded Tube Geometric Properties:')\n",
    "print('OD, b =', u_round(b.to(inch)) , '=',u_round(b,2))\n",
    "print('Wall, t =', u_round(t.to(inch)) , '=' , u_round(t,2))\n",
    "print('Area, A =', u_round(A.to(inch**2),4) , '=' , u_round(A,1))\n",
    "print('Radius of Gyration, r =',u_round(r.to(inch)), '=' , u_round(r,1))\n",
    "print('Elastic Section Modulus, S =', u_round(S.to(inch**3)),'=', \n",
    "      u_round(S,1))\n",
    "print('Plastic Section Modulus, Z =',u_round(Z.to(inch**3),4) , '=' ,\n",
    "      u_round(Z.to(mm**3),1))\n",
    "print('Dead Load =', u_round(dead_load))\n",
    "print('')\n",
    "\n",
    "# Print out Material Properties (Aluminum 6061-T6 Extruded)\n",
    "print('Material Properties for Aluminum 6061-T6 Extruded:')\n",
    "print('Yield Strength, Fy =',u_round(Fy.to(ksi),1),'=',u_round(Fy.to(MPa),1))\n",
    "print('Tensile Strength, Ft =',u_round(Ft.to(ksi),1),'=', \n",
    "      u_round(Ft.to(MPa),1))\n",
    "print('Elastic Modulus, E =',u_round(E.to(ksi),1),'=', u_round(E.to(MPa),1))"
   ]
  },
  {
   "cell_type": "code",
   "execution_count": 5,
   "metadata": {
    "collapsed": false
   },
   "outputs": [
    {
     "name": "stdout",
     "output_type": "stream",
     "text": [
      "Slenderness Ratio, lambda = 135.9 dimensionless\n"
     ]
    }
   ],
   "source": [
    "lambda_flexural_buckling = L.to(mm) / r     # slenderness ratio per 9.4.2.1)\n",
    "print('Slenderness Ratio, lambda =', u_round(lambda_flexural_buckling,1))"
   ]
  },
  {
   "cell_type": "code",
   "execution_count": 6,
   "metadata": {
    "collapsed": false
   },
   "outputs": [
    {
     "name": "stdout",
     "output_type": "stream",
     "text": [
      "Limiting Stress, Fo = 241.3 megapascal\n"
     ]
    }
   ],
   "source": [
    "Fo = Fy     # limiting stress per 9.3.2(a)\n",
    "print('Limiting Stress, Fo =', u_round(Fo.to(MPa),1))"
   ]
  },
  {
   "cell_type": "code",
   "execution_count": 7,
   "metadata": {
    "collapsed": false
   },
   "outputs": [
    {
     "name": "stdout",
     "output_type": "stream",
     "text": [
      "Elastic Buckling Stress, Fe = 5084.9 megapascal\n",
      "Normalized Slenderness, lambda_bar = 0.218 dimensionless\n"
     ]
    }
   ],
   "source": [
    "# 9.3.1\n",
    "Fe = ( ((float(math.pi)**2) * dimensionless) * E.to(MPa) ) / ( lambda_flexural_buckling )\n",
    "print('Elastic Buckling Stress, Fe =', u_round(Fe.to(MPa),1))\n",
    "lambda_bar = ( (Fo.to(MPa).magnitude/Fe.to(MPa).magnitude)**(1/2) ) * dimensionless\n",
    "print('Normalized Slenderness, lambda_bar =',u_round(lambda_bar,3))"
   ]
  },
  {
   "cell_type": "markdown",
   "metadata": {
    "collapsed": false
   },
   "source": [
    "lambda_bar < 0.3 Therefore member section is Class 1 per 9.5.1(a)"
   ]
  },
  {
   "cell_type": "code",
   "execution_count": 8,
   "metadata": {
    "collapsed": false
   },
   "outputs": [
    {
     "name": "stdout",
     "output_type": "stream",
     "text": [
      "C_e =  19.3 kilonewton\n"
     ]
    }
   ],
   "source": [
    "C_e = (A.to(m**2)*((round(math.pi**2,9))*dimensionless)*E) / ((lambda_flexural_buckling.magnitude**2)*dimensionless)\n",
    "C_e.ito(kN)\n",
    "print('C_e = ' ,u_round(C_e,1))"
   ]
  },
  {
   "cell_type": "code",
   "execution_count": 9,
   "metadata": {
    "collapsed": false
   },
   "outputs": [
   ],
   "source": [
    "S_c = S # section modulus for extreme fibre in compression\n",
    "S_t = S # section modulus for extreme fibre in tension"
   ]
  },
  {
   "cell_type": "code",
   "execution_count": 10,
   "metadata": {
    "collapsed": false
   },
   "outputs": [
   ],
   "source": [
    "# 5.5 Resistance factors\n",
    "# For general structures, the following resistance factors, phi, shall be used:\n",
    "phi_y = 0.9 #(a) tension, compression, and shear in beams: on yield\n",
    "phi_c = 0.9 #(b) compression in columns: on collapse due to buckling\n",
    "phi_u = 0.75 #(c) tension and shear in beams: on ultimate\n",
    "phi_u = 0.75 #(d) tension on a net section, bearing stress, tear-out on ultimate\n",
    "phi_u = 0.75 #(e) tension and compression on butt welds: on ultimate\n",
    "phi_f = 0.67 #(f) shear stress on fillet welds: on ultimate\n",
    "phi_f = 0.67 #(g) tension and shear stress on fasteners: on ultimate"
   ]
  },
  {
   "cell_type": "markdown",
   "metadata": {
    "collapsed": false
   },
   "source": [
    "(a) where compressive stress governs,"
   ]
  },
  {
   "cell_type": "code",
   "execution_count": 11,
   "metadata": {
    "collapsed": false
   },
   "outputs": [
    {
     "data": {
      "text/html": [
       "217.2 megapascal"
      ],
      "text/latex": [
       "$217.2\\ \\mathrm{megapascal}$"
      ],
      "text/plain": [
       "217.2 <Unit('megapascal')>"
      ]
     },
     "execution_count": 11,
     "metadata": {
     },
     "output_type": "execute_result"
    }
   ],
   "source": [
    "u_round(phi_y * Fo.to(MPa),1)"
   ]
  },
  {
   "cell_type": "code",
   "execution_count": 12,
   "metadata": {
    "collapsed": false
   },
   "outputs": [
    {
     "data": {
      "text/html": [
       "156.1 megapascal"
      ],
      "text/latex": [
       "$156.1\\ \\mathrm{megapascal}$"
      ],
      "text/plain": [
       "156.1 <Unit('megapascal')>"
      ]
     },
     "execution_count": 12,
     "metadata": {
     },
     "output_type": "execute_result"
    }
   ],
   "source": [
    "u_round(((M_f / (S_c.to(m**3) * (1 - (C_f/C_e)))) + (C_f / A)).to(MPa),1)"
   ]
  },
  {
   "cell_type": "code",
   "execution_count": 13,
   "metadata": {
    "collapsed": false
   },
   "outputs": [
    {
     "name": "stdout",
     "output_type": "stream",
     "text": [
      "Design stress is less than equal to design strength. Therefore  beam-column is OK for compressive stress.\n"
     ]
    }
   ],
   "source": [
    "if u_round(((M_f / (S_c.to(m**3) * (1 - (C_f/C_e)))) + (C_f / A)).to(MPa),1) <= u_round(phi_y * Fo.to(MPa),1):\n",
    "    print('Design stress is less than equal to design strength. Therefore', \n",
    "          ' beam-column is OK for compressive stress.')\n",
    "else:\n",
    "    print('Design stress in greater than design strength. Therefore', \n",
    "          ', beam-column is NFG for compressive stress.')"
   ]
  },
  {
   "cell_type": "markdown",
   "metadata": {
    "collapsed": false
   },
   "source": [
    "(b) where tensile stress governs,"
   ]
  },
  {
   "cell_type": "code",
   "execution_count": 14,
   "metadata": {
    "collapsed": false
   },
   "outputs": [
    {
     "data": {
      "text/html": [
       "217.2 megapascal"
      ],
      "text/latex": [
       "$217.2\\ \\mathrm{megapascal}$"
      ],
      "text/plain": [
       "217.2 <Unit('megapascal')>"
      ]
     },
     "execution_count": 14,
     "metadata": {
     },
     "output_type": "execute_result"
    }
   ],
   "source": [
    "u_round(phi_y * Fy.to(MPa),1)"
   ]
  },
  {
   "cell_type": "code",
   "execution_count": 15,
   "metadata": {
    "collapsed": false
   },
   "outputs": [
    {
     "data": {
      "text/html": [
       "133.1 megapascal"
      ],
      "text/latex": [
       "$133.1\\ \\mathrm{megapascal}$"
      ],
      "text/plain": [
       "133.1 <Unit('megapascal')>"
      ]
     },
     "execution_count": 15,
     "metadata": {
     },
     "output_type": "execute_result"
    }
   ],
   "source": [
    "u_round(((M_f / (S_t.to(m**3) * (1 - (C_f/C_e)))) - (C_f / A)).to(MPa),1)"
   ]
  },
  {
   "cell_type": "code",
   "execution_count": 16,
   "metadata": {
    "collapsed": false
   },
   "outputs": [
    {
     "name": "stdout",
     "output_type": "stream",
     "text": [
      "Design stress is less than equal to design strength. Therefore , beam-column is OK for tensile stress.\n"
     ]
    }
   ],
   "source": [
    "if u_round(((M_f / (S_t.to(m**3) * (1 - (C_f/C_e)))) + (C_f / A)).to(MPa),1) <= u_round(phi_y * Fy.to(MPa),1):\n",
    "    print('Design stress is less than equal to design strength. Therefore', \n",
    "          ', beam-column is OK for tensile stress.')\n",
    "else:\n",
    "    print('Design stress in greater than design strength. Therefore', \n",
    "          ', beam-column is NFG for tensile stress.')"
   ]
  }
 ],
 "metadata": {
  "kernelspec": {
   "display_name": "Python 3 (Ubuntu Linux)",
   "language": "python",
   "metadata": {
    "cocalc": {
     "description": "Python 3 programming language",
     "priority": 100,
     "url": "https://www.python.org/"
    }
   },
   "name": "python3"
  },
  "language_info": {
   "codemirror_mode": {
    "name": "ipython",
    "version": 3
   },
   "file_extension": ".py",
   "mimetype": "text/x-python",
   "name": "python",
   "nbconvert_exporter": "python",
   "pygments_lexer": "ipython3",
   "version": "3.6.8"
  }
 },
 "nbformat": 4,
 "nbformat_minor": 0
}