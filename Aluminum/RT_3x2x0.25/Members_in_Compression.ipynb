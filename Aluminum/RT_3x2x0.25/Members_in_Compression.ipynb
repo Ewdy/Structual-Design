{
 "cells": [
  {
   "cell_type": "markdown",
   "metadata": {},
   "source": [
    "CSA S157-05 (R2015) Aluminum Design Manual 9.3 Columns\n",
    "***\n",
    "Case: Determine maximum permitted axial load given:  \n",
    "- Profile: RT 3x2x0.25 (Extrudex Die H-24170)  \n",
    "- Material: 6061-T6 Extruded Aluminum  \n",
    "- Length: 1442.2mm  \n",
    "- End conditions: PIN-PIN"
   ]
  },
  {
   "cell_type": "code",
   "execution_count": 1,
   "metadata": {},
   "outputs": [],
   "source": [
    "import math as math\n",
    "from pint import UnitRegistry\n",
    "unit = UnitRegistry()\n",
    "# Define symbols for common units\n",
    "m = unit.meter; mm = unit.millimeter; inch = unit.inch;\n",
    "kN = unit.kilonewton; MPa = unit.megapascal; psi = unit.psi\n",
    "\n",
    "def u_round(Q, digits=3):\n",
    "    \"\"\"\n",
    "    Takes a Pint.py quantity and returns the same rounded to digits, \n",
    "    default is 3 digits\n",
    "    \"\"\"\n",
    "    try:\n",
    "        unit.check(Q.units)\n",
    "        magnitude = Q.magnitude\n",
    "        units = Q.units\n",
    "        return round(magnitude,digits) * units\n",
    "    except:\n",
    "        print('ERROR: u_round() first arguement must be a Pint.py quantity')\n",
    "        return NaN"
   ]
  },
  {
   "cell_type": "code",
   "execution_count": 2,
   "metadata": {},
   "outputs": [],
   "source": [
    "# Define factors\n",
    "phi_c = 0.9 # from 5.5(b)\n",
    "K = 1.0\n",
    "L = 1442.2*mm"
   ]
  },
  {
   "cell_type": "code",
   "execution_count": 3,
   "metadata": {},
   "outputs": [],
   "source": [
    "# Geometric Properties of RT 3x2x0.25\n",
    "d = 3.0*inch # depth\n",
    "b = 2.0*inch # width\n",
    "t = 0.25*inch # wall thickness\n",
    "A = 2.25*inch**2 # Area\n",
    "I_x = 2.56*inch**4 # Strong axis 2nd Moment of Inertia\n",
    "S_x = 1.70*inch**3 # Strong axis Section Modulus\n",
    "Z_x = 2.16*inch**3 # Strong axis Plastic Modulus\n",
    "r_x = 1.06*inch # Strong axis radius of gyration\n",
    "I_y = 1.30*inch**4 # Weak axis 2nd Moment of Inertia\n",
    "S_y = 1.30*inch**3 # Weak axis Section Modulus\n",
    "Z_y = 1.59*inch**3 # Weak axis Plastic Modulus\n",
    "r_y = 0.759*inch # Weak axis Radius of Gyration\n",
    "J = 2.57*inch**4 # St. Venant's Torsional Constant"
   ]
  },
  {
   "cell_type": "code",
   "execution_count": 4,
   "metadata": {},
   "outputs": [],
   "source": [
    "# Material Properties of 6061-T6 Extruded Aluminum from Table 2 of S157-05\n",
    "F_u = 260*MPa # Ultimate Strength of Base Metal\n",
    "F_y = 240*MPa # Yield Strength of Base Metal\n",
    "F_wy = 110*MPa # Yield Strength of welded heat-affected-zone\n",
    "E = 70000*MPa # Elastic Modulus from S157-05 4.3(b)"
   ]
  },
  {
   "cell_type": "code",
   "execution_count": 5,
   "metadata": {},
   "outputs": [
    {
     "data": {
      "text/html": [
       "74.8 dimensionless"
      ],
      "text/latex": [
       "$74.8\\ dimensionless$"
      ],
      "text/plain": [
       "74.8 <Unit('dimensionless')>"
      ]
     },
     "execution_count": 5,
     "metadata": {},
     "output_type": "execute_result"
    }
   ],
   "source": [
    "# Determine Slenderness - weak axis governs\n",
    "# Note: lambda is a reserved key word in Python. So I added an underscore.\n",
    "lambda_ = K*L/r_y\n",
    "lambda_.ito(inch/inch) # reduce units previously given as mm/inch\n",
    "u_round(lambda_,1)"
   ]
  },
  {
   "cell_type": "code",
   "execution_count": 8,
   "metadata": {},
   "outputs": [
    {
     "data": {
      "text/html": [
       "240 megapascal"
      ],
      "text/latex": [
       "$240\\ \\mathrm{megapascal}$"
      ],
      "text/plain": [
       "240 <Unit('megapascal')>"
      ]
     },
     "execution_count": 8,
     "metadata": {},
     "output_type": "execute_result"
    }
   ],
   "source": [
    "# Limiting stress\n",
    "# F_o = F_y because no welding or local buckling - weak axis bending\n",
    "F_o = F_y\n",
    "u_round(F_o, 1)"
   ]
  },
  {
   "cell_type": "code",
   "execution_count": 9,
   "metadata": {},
   "outputs": [
    {
     "data": {
      "text/html": [
       "123.5 megapascal"
      ],
      "text/latex": [
       "$123.5\\ \\mathrm{megapascal}$"
      ],
      "text/plain": [
       "123.5 <Unit('megapascal')>"
      ]
     },
     "execution_count": 9,
     "metadata": {},
     "output_type": "execute_result"
    }
   ],
   "source": [
    "# Elastic buckling stress\n",
    "F_e = ((math.pi**2)*E)/lambda_**2\n",
    "u_round(F_e, 1)"
   ]
  },
  {
   "cell_type": "code",
   "execution_count": 11,
   "metadata": {},
   "outputs": [
    {
     "data": {
      "text/html": [
       "1.394 dimensionless"
      ],
      "text/latex": [
       "$1.394\\ dimensionless$"
      ],
      "text/plain": [
       "1.394 <Unit('dimensionless')>"
      ]
     },
     "execution_count": 11,
     "metadata": {},
     "output_type": "execute_result"
    }
   ],
   "source": [
    "# Normalized slenderness\n",
    "lambda_ob = (F_o/F_e)**0.5\n",
    "u_round(lambda_ob, 3)"
   ]
  },
  {
   "cell_type": "code",
   "execution_count": 12,
   "metadata": {},
   "outputs": [
    {
     "data": {
      "text/html": [
       "0.813 dimensionless"
      ],
      "text/latex": [
       "$0.813\\ dimensionless$"
      ],
      "text/plain": [
       "0.813 <Unit('dimensionless')>"
      ]
     },
     "execution_count": 12,
     "metadata": {},
     "output_type": "execute_result"
    }
   ],
   "source": [
    "# Beta\n",
    "alpha = 0.2 # heat-treated column\n",
    "lambda_obo = 0.3 # column\n",
    "beta = (1+alpha*(lambda_ob-lambda_obo)+lambda_ob**2)/(2*lambda_ob**2)\n",
    "u_round(beta, 3)"
   ]
  },
  {
   "cell_type": "code",
   "execution_count": 13,
   "metadata": {},
   "outputs": [
    {
     "data": {
      "text/html": [
       "0.43 dimensionless"
      ],
      "text/latex": [
       "$0.43\\ dimensionless$"
      ],
      "text/plain": [
       "0.43 <Unit('dimensionless')>"
      ]
     },
     "execution_count": 13,
     "metadata": {},
     "output_type": "execute_result"
    }
   ],
   "source": [
    "# Normalized buckling stress from S157-05 9.3.3\n",
    "F_ob = beta - (beta**2 - (1/lambda_ob**2))**0.5\n",
    "u_round(F_ob, 3)"
   ]
  },
  {
   "cell_type": "code",
   "execution_count": 14,
   "metadata": {},
   "outputs": [
    {
     "data": {
      "text/html": [
       "103.1 megapascal"
      ],
      "text/latex": [
       "$103.1\\ \\mathrm{megapascal}$"
      ],
      "text/plain": [
       "103.1 <Unit('megapascal')>"
      ]
     },
     "execution_count": 14,
     "metadata": {},
     "output_type": "execute_result"
    }
   ],
   "source": [
    "# Buckling stress from S157-05 9.3.3\n",
    "F_c = F_ob*F_o\n",
    "u_round(F_c, 1)"
   ]
  },
  {
   "cell_type": "code",
   "execution_count": 15,
   "metadata": {},
   "outputs": [
    {
     "data": {
      "text/html": [
       "134.7 kilonewton"
      ],
      "text/latex": [
       "$134.7\\ \\mathrm{kilonewton}$"
      ],
      "text/plain": [
       "134.7 <Unit('kilonewton')>"
      ]
     },
     "execution_count": 15,
     "metadata": {},
     "output_type": "execute_result"
    }
   ],
   "source": [
    "# Factored compressive resistance from S157-05 9.4.1\n",
    "C_r = phi_c*A*F_ob*F_o\n",
    "C_r.ito(kN)\n",
    "u_round(C_r, 1)"
   ]
  },
  {
   "cell_type": "markdown",
   "metadata": {},
   "source": [
    "# Reference:\n",
    "\n",
    "## CSA S157-05 (R2015) Aluminum Strength Design Manual\n",
    "\n",
    "## 9.3 Members in Compression: Buckling"
   ]
  },
  {
   "cell_type": "markdown",
   "metadata": {},
   "source": [
    "### 9.3.1 Normalized Slenderness\n",
    "The normalized slenderness, $\\lambda_{ob}$, shall be given by\n",
    "\n",
    "$\\lambda_{ob} = (F_o / F_e)^{1/2} = (\\lambda / \\pi)(F_o / E)^{1/2}$\n",
    "\n",
    "where  \n",
    "$F_o$ = limiting stress given in Clause 9.3.2.  \n",
    "$F_e$ = elastic buckling stress  \n",
    "      = $\\pi^2 E / \\lambda^2$  \n",
    "$\\lambda$  = slenderness given in Clause 8, 9, or 10  \n",
    "$E$   = elastic modulus\n",
    "\n",
    "The normalized slenderness, $\\lambda_{ob}$, shall be used in Clause 9.3.3 to determine the normalized buckling stress, $F_{ob} = F_c / F_o$, from which the actual buckling stress, $F_c$, is obtained."
   ]
  },
  {
   "cell_type": "markdown",
   "metadata": {},
   "source": [
    "### 9.3.2 Limiting Stress\n",
    "The limiting stress, $F_o$, used in determining the buckling stress, $F_c$, shall be taken as one of the following:  \n",
    "(a) Where there is no welding or local buckling, the yield strength of the base metal is:  \n",
    "$F_o = F_y$  \n",
    "(b) When there is local buckling in an outstanding flange, the buckling stress, $F_c$, given by Clause 8.1, 8.3.2, and 9.3.3 is:  \n",
    "$F_o = F_c$  \n",
    "(c) When local buckling occurs in an element supported on two longitudinal edges, when the element is at the extreme fibre for the axis of flexure, the effective strength for the element, $F_m$, given by Clause 7.5.3 is:  \n",
    "$F_o = F_m = (F_{ob})^{1/2} F_y$  \n",
    "(d) In lattice columns, for the evaluation of the overall buckling capacity, the buckling stress of a chord, $F_{cc}$, given by Clause 9.4 is:  \n",
    "$F_o = F_{cc}$  \n",
    "(e) When there is transverse welding at the ends of the member, the yield strength of the base metal (with a mean axial stress not greater than $F_{wu}$) is:  \n",
    "$F_o = F_y$  \n",
    "(f) When there is a transverse weld away from the ends, the yield strength of the heat-affected zone, $F_{wy}$, is:  \n",
    "$F_o = F_{wy}$  \n",
    "(g) When there is longitudinal welding, the effective strength, $F_m$, from Clause 7.5.2 (see also Clause 9.4.2.2) is:  \n",
    "$F_o = F_m$  \n",
    "where  \n",
    "$F_o$ = limiting stress  \n",
    "$F_y$ = yield strength of the base metal  \n",
    "$F_c$ = overall buckling stress  \n",
    "$F_m$ = effective strength to account for local buckling or longitudinal welds  \n",
    "$F_{ob}$ = normalized buckling stress  \n",
    "$F_{cc}$ = buckling stress for a chord in a lattice column  \n",
    "$F_{wu}$ = ultimate strength for full penetration butt welds  \n",
    "$F_{wy}$ = yield strength of the heat-affected zone\n"
   ]
  },
  {
   "cell_type": "markdown",
   "metadata": {},
   "source": [
    "### 9.3.3 Buckling Stress\n",
    "The buckling stress, $F_c$, shall be given by  \n",
    "$F_c = F_{ob} F_o$  \n",
    "where  \n",
    "$F_{ob}$ = normalized buckling stress  \n",
    "= $\\beta - (\\beta^2 - \\frac{1}{\\lambda_{ob}^2})^{1/2}$  \n",
    "where  \n",
    "$\\beta = \\frac{[1 + \\alpha(\\lambda_{ob} - \\lambda_{obo}) + \\lambda_{ob}^2]}{2 \\lambda_{ob}^2}$  \n",
    "where  \n",
    "$\\alpha$ = 0.2 for heat-treated columns, beams, and plates  \n",
    "= 0.4 for non-heat-treated columns, beams, and plates  \n",
    "$\\lambda_{ob}$ = normalized slenderness, from Clause 9.3.1  \n",
    "$\\lambda_{obo}$ = 0.3 for columns and beams  \n",
    "= 0.5 for plates  \n",
    "$F_o$ = limiting stress  \n",
    "**Note:** These relationships are plotted in Figue C11 of the Commentary for columns and beams and in Figure C12 for plates."
   ]
  },
  {
   "cell_type": "markdown",
   "metadata": {},
   "source": [
    "### 9.4 Columns\n",
    "### 9.4.1 General\n",
    "The factored compressive resistance, $C_r$, of an axially loaded member shall be given by:  \n",
    "$C_r = \\phi_c A F_{ob} F_o$  \n",
    "where  \n",
    "$\\phi_c$ = resistance factor for column buckling (see Clause 5.5)  \n",
    "$A$ = gross cross-sectional area  \n",
    "$F_{ob}$ = normalized buckling stress (Clause 9.3.3)  \n",
    "$F_o$ = limiting stress (see Clauses 7.5 and 9.3.2)"
   ]
  },
  {
   "cell_type": "markdown",
   "metadata": {},
   "source": [
    "### Flexural buckling\n",
    "### 9.4.2.1 General\n",
    "For flexural buckling, the slenderness, $\\lambda$, shall be given by  \n",
    "$\\lambda = KL/r$  \n",
    "where  \n",
    "$K$ = effective length factor (see Table 4 for typical values)  \n",
    "$L$ = unrestrained length  \n",
    "$r$ = appropriate radius of gyration of the gross cross-section\n",
    "\n",
    "The slenderness, $\\lambda$, shall be used in Clause 9.3.1 with the applicable limiting stress, $F_o$, from Clause 9.3.2, to obtain the nomalized slenderness, $\\lambda_{ob}$. This normalized slenderness shall then be used in Clause 9.3.3 to obtain the normalized buckling stress, $F_{ob}$, to give the compressive stress, $F_c = F_{ob} F_o$, to cause buckling."
   ]
  },
  {
   "cell_type": "markdown",
   "metadata": {},
   "source": [
    "The following Clauses are elided as they have no bearing on the case above:\n",
    "- 9.4.2.2 Influence of longitudinal welds\n",
    "- 9.4.3 Torsional buckling"
   ]
  }
 ],
 "metadata": {
  "kernelspec": {
   "display_name": "Python 3",
   "language": "python",
   "name": "python3"
  },
  "language_info": {
   "codemirror_mode": {
    "name": "ipython",
    "version": 3
   },
   "file_extension": ".py",
   "mimetype": "text/x-python",
   "name": "python",
   "nbconvert_exporter": "python",
   "pygments_lexer": "ipython3",
   "version": "3.7.2"
  }
 },
 "nbformat": 4,
 "nbformat_minor": 2
}
