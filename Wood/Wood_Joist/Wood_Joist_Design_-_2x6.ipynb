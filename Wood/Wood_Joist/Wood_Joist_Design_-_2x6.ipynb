{
 "cells": [
  {
   "cell_type": "markdown",
   "metadata": {
    "collapsed": false
   },
   "source": [
    "Check of 2x6 Wood Joist Design per O86-09  \n",
    "E.Durham - 16-Aug-2018"
   ]
  },
  {
   "cell_type": "code",
   "execution_count": 1,
   "metadata": {
    "collapsed": false
   },
   "outputs": [
   ],
   "source": [
    "import pint\n",
    "unit = pint.UnitRegistry(system='mks')\n",
    "Q = unit.Quantity\n",
    "\n",
    "# define synonyms for common units\n",
    "inch = unit.inch; mm = unit.mm; m = unit.m; kPa = unit.kPa; MPa = unit.MPa; \n",
    "psi = unit.psi; kN = unit.kN; N = unit.N; ksi = unit.ksi; \n",
    "dimensionless = unit.dimensionless; s = unit.second; kg = unit.kg"
   ]
  },
  {
   "cell_type": "code",
   "execution_count": 2,
   "metadata": {
    "collapsed": false
   },
   "outputs": [
    {
     "name": "stdout",
     "output_type": "stream",
     "text": [
      "DL = 0.21 kilonewton / meter ** 2\n"
     ]
    }
   ],
   "source": [
    "# Dead Load\n",
    "DL_2x4 = 50 * (N/m**2) + 30 * (N/m**2)  # 400 and 600 on-centre, from Wood \n",
    "# Design Manual Table 11.26\n",
    "DL_2x6 = 50 * (N/m**2)  # 600 on-centre, ditto\n",
    "DL_19 = 80 * (N/m**2)  # 19 mm S-P-F sheathing, from Wood Design Manual \n",
    "# Table 11.27\n",
    "DL = DL_2x4 + DL_2x6 + DL_19\n",
    "DL.ito(kN/m**2)\n",
    "print('DL =', round(DL,2))"
   ]
  },
  {
   "cell_type": "code",
   "execution_count": 3,
   "metadata": {
    "collapsed": false
   },
   "outputs": [
    {
     "name": "stdout",
     "output_type": "stream",
     "text": [
      "w = 1.96 kilonewton / meter\n"
     ]
    }
   ],
   "source": [
    "# Load Case\n",
    "L = 2.8 * m # span of 2x6 joist, per 629768-S-A2105-ANN-0211 Rev_01, \n",
    "# verified 15-Aug-2018 by EWD\n",
    "LL = 2 * (kN/m**2) # Given Live Load\n",
    "Tributary_width = 0.6 * m\n",
    "sf_DL = 1.25\n",
    "sf_LL = 1.5\n",
    "w = ((sf_DL * DL)+(sf_LL * LL)) * Tributary_width # factored uniform load\n",
    "w.ito(kN/m)\n",
    "print('w =', round(w,2))"
   ]
  },
  {
   "cell_type": "code",
   "execution_count": 4,
   "metadata": {
    "collapsed": false
   },
   "outputs": [
    {
     "name": "stdout",
     "output_type": "stream",
     "text": [
      "M_max = 1.92 kilonewton * meter\n"
     ]
    }
   ],
   "source": [
    "# Bending\n",
    "M_max = (w * L**2) / 8\n",
    "M_max.ito(kN*m)\n",
    "print('M_max =', round(M_max,2))"
   ]
  },
  {
   "cell_type": "code",
   "execution_count": 5,
   "metadata": {
    "collapsed": false
   },
   "outputs": [
   ],
   "source": [
    "# Trial Member Properties from Wood Design Manual 2010 Table 11.5\n",
    "# Try 2x6 S-P-F No.1/No.2\n",
    "b = 38 * mm\n",
    "d = 140 * mm\n",
    "A = 5.32 * 10**3 * mm**2 # Area\n",
    "S_x = 124 * 10**3 * mm**3 # Section Modulus\n",
    "I_x = 8.66 * 10**6 * mm**4 # Second Moment of Area"
   ]
  },
  {
   "cell_type": "markdown",
   "metadata": {
    "collapsed": false
   },
   "source": [
    "O86-09 5.5.4 Bending moment resistance  \n",
    "5.5.4.1 General  \n",
    "The factored bending moment resistance, $ M_r $ of sawn members shall be taken as follows:  \n",
    "$ M_r = \\phi F_b S K_{Zb} K_L $  \n",
    "where  \n",
    "$ \\phi = 0.9 $  \n",
    "$ F_b = f_b(K_D K_H K_{Sb} K_T) $  \n",
    "where  \n",
    "$ f_b = $ specified strength in bending, MPa  \n",
    "$ K_{Zb} = $ size factor in bending  \n",
    "$ K_L = $ lateral stability factor  "
   ]
  },
  {
   "cell_type": "code",
   "execution_count": 6,
   "metadata": {
    "collapsed": false
   },
   "outputs": [
    {
     "name": "stdout",
     "output_type": "stream",
     "text": [
      "Depth to width ratio is:  3.68 dimensionless\n"
     ]
    }
   ],
   "source": [
    "# Determine appropriate value for Lateral Stability Factor, K_L per 5.5.4.2\n",
    "print('Depth to width ratio is: ', round(d/b,2) )"
   ]
  },
  {
   "cell_type": "markdown",
   "metadata": {
    "collapsed": false
   },
   "source": [
    "Per 5.5.4.2.1(a) depth to width ratio less than 4:1 do not require intermediate lateral supports and K_L may be taken as unity. Lateral restraint is required at beam ends."
   ]
  },
  {
   "cell_type": "code",
   "execution_count": 7,
   "metadata": {
    "collapsed": false
   },
   "outputs": [
   ],
   "source": [
    "K_H = 1.0 * dimensionless  # System Factor per 5.4.4\n",
    "K_L = 1.0 * dimensionless  # Lateral stability factor per 5.5.4.2\n",
    "K_D = 1.15 * dimensionless # Load duration factor per Table 4.3.2.2 short-term\n",
    "K_Sb = 1.0 * dimensionless  # Service condition factor per Table 5.4.2\n",
    "K_T = 1.0 * dimensionless  # Treatment factor per Table 5.4.3 untreated\n",
    "K_Zb = 1.4  # from Table 5,4,5\n",
    "f_b = 11.8 * MPa  # S-P-F No.1/No.2 from Table 5.3.1A"
   ]
  },
  {
   "cell_type": "code",
   "execution_count": 8,
   "metadata": {
    "collapsed": false
   },
   "outputs": [
    {
     "name": "stdout",
     "output_type": "stream",
     "text": [
      "F_b = 13.57 megapascal\n"
     ]
    }
   ],
   "source": [
    "F_b = f_b*(K_D*K_H*K_Sb*K_T)\n",
    "F_b.ito(MPa)\n",
    "print('F_b =', round(F_b,2))"
   ]
  },
  {
   "cell_type": "code",
   "execution_count": 9,
   "metadata": {
    "collapsed": false
   },
   "outputs": [
    {
     "name": "stdout",
     "output_type": "stream",
     "text": [
      "M_r = 2.12 kilonewton * meter\n"
     ]
    }
   ],
   "source": [
    "phi = 0.9 * dimensionless\n",
    "M_r = phi*F_b*S_x*K_Zb*K_L\n",
    "M_r.ito(kN*m)\n",
    "print('M_r =', round(M_r,2))"
   ]
  },
  {
   "cell_type": "code",
   "execution_count": 10,
   "metadata": {
    "collapsed": false
   },
   "outputs": [
    {
     "data": {
      "text/plain": [
       "True"
      ]
     },
     "execution_count": 10,
     "metadata": {
     },
     "output_type": "execute_result"
    }
   ],
   "source": [
    "M_r > M_max"
   ]
  },
  {
   "cell_type": "markdown",
   "metadata": {
    "collapsed": false
   },
   "source": [
    "Factored bending resistance is greater than factored load effects therefore, OK for Bending"
   ]
  },
  {
   "cell_type": "markdown",
   "metadata": {
    "collapsed": false
   },
   "source": [
    "## Check Bearing per 5.5.7  \n",
    "The factored compressive resistance perpendicular to grain under the effect of all factored applied loads shall be taken as $ Q_r $ as follow:  \n",
    "$ Q_r = \\phi F_{cp} A_b K_B K_{Zcp} $  \n",
    "where  \n",
    "$ \\phi = 0.8 $  \n",
    "$ F_{cp} = f_{cp} (K_D K_{Scp} K_T) $  \n",
    "where  \n",
    "$ f_{cp} = $ specified strength in compression perpendicular to grain, MPa  \n",
    "$ A_b = $ bearing area, mm^2  \n",
    "$ K_B = $ length of bearing factor (Clause 5.5.7.6)  \n",
    "$ K_{Zcp} = $ size factor for bearing (Clause 5.5.7.5)  "
   ]
  },
  {
   "cell_type": "code",
   "execution_count": 11,
   "metadata": {
    "collapsed": false
   },
   "outputs": [
    {
     "name": "stdout",
     "output_type": "stream",
     "text": [
      "Q_f = 2.74 kilonewton\n"
     ]
    }
   ],
   "source": [
    "Q_f = (w*L)/2\n",
    "Q_f.ito(kN)\n",
    "print('Q_f =', round(Q_f,2))"
   ]
  },
  {
   "cell_type": "code",
   "execution_count": 12,
   "metadata": {
    "collapsed": false
   },
   "outputs": [
   ],
   "source": [
    "A_b = (38 * mm) * (20 * mm)  # ASSUMED, need to verify thickness of steel \n",
    "# supports\n",
    "phi = 0.8 * dimensionless\n",
    "f_cp = 5.3 * MPa  # S-P-F No.1/No.2 from Table 5.3.1A\n",
    "K_D = 1.15 * dimensionless  # Load duration factor per Table 4.3.2.2 \n",
    "# short-term\n",
    "K_B = 1.0 * dimensionless  # Length of bearing factor per Table 5.5.7.6 unity\n",
    "# b/c < 75mm from end\n",
    "K_Scp = 1.0 * dimensionless  # Service condition factor per Table 5.4.2 for \n",
    "# dry service conditions\n",
    "K_Zcp = 1.0 * dimensionless  # Size factor for bearing per 5.5.7.5 \n",
    "# 38/140 << 1.0"
   ]
  },
  {
   "cell_type": "code",
   "execution_count": 13,
   "metadata": {
    "collapsed": false
   },
   "outputs": [
    {
     "name": "stdout",
     "output_type": "stream",
     "text": [
      "F_cp = 6.09 megapascal\n"
     ]
    }
   ],
   "source": [
    "F_cp = f_cp*(K_D*K_Scp*K_T)\n",
    "F_cp.ito(MPa)\n",
    "print('F_cp =', round(F_cp,2))"
   ]
  },
  {
   "cell_type": "code",
   "execution_count": 14,
   "metadata": {
    "collapsed": false
   },
   "outputs": [
    {
     "name": "stdout",
     "output_type": "stream",
     "text": [
      "Q_r = 3.71 kilonewton\n"
     ]
    }
   ],
   "source": [
    "Q_r = phi*F_cp*A_b*K_B*K_Zcp\n",
    "Q_r.ito(kN)\n",
    "print('Q_r =', round(Q_r,2))"
   ]
  },
  {
   "cell_type": "code",
   "execution_count": 15,
   "metadata": {
    "collapsed": false
   },
   "outputs": [
    {
     "data": {
      "text/plain": [
       "True"
      ]
     },
     "execution_count": 15,
     "metadata": {
     },
     "output_type": "execute_result"
    }
   ],
   "source": [
    "Q_r > Q_f"
   ]
  },
  {
   "cell_type": "markdown",
   "metadata": {
    "collapsed": false
   },
   "source": [
    "Compressive resistance perpendicular to grain exceeds factored bearing forces; therefore, OK for Bearing"
   ]
  },
  {
   "cell_type": "markdown",
   "metadata": {
    "collapsed": false
   },
   "source": [
    "## Check Shear"
   ]
  },
  {
   "cell_type": "markdown",
   "metadata": {
    "collapsed": false
   },
   "source": [
    "5.5.5 Shear Resistance  \n",
    "5.5.5.1 General  \n",
    "The factored shear resistance, $ V_r $ of sawn members shall be taken as follows:  \n",
    "$ V_r = \\phi F_v \\frac{2 A_n}{3} K_{Zv} $  \n",
    "where  \n",
    "$ \\phi = 0.9 $  \n",
    "$ F_v = f_v (K_D K_H K_{Sv} K_T) $  \n",
    "where  \n",
    "$ f_v = $ specified shrength in shear, MPa (Clause 5.3)  \n",
    "$ A_n = $ net area of cross-section, mm^2 (Clause 4.3.8)  \n",
    "$ K_{Zv} = $ size factor in shear (Clause 5.4.5)  "
   ]
  },
  {
   "cell_type": "code",
   "execution_count": 16,
   "metadata": {
    "collapsed": false
   },
   "outputs": [
    {
     "name": "stdout",
     "output_type": "stream",
     "text": [
      "V_f = 2.74 kilonewton\n"
     ]
    }
   ],
   "source": [
    "V_f = (w*L)/2\n",
    "print('V_f =', round(V_f,2))"
   ]
  },
  {
   "cell_type": "code",
   "execution_count": 17,
   "metadata": {
    "collapsed": false
   },
   "outputs": [
    {
     "name": "stdout",
     "output_type": "stream",
     "text": [
      "F_v = 1.72 megapascal\n"
     ]
    }
   ],
   "source": [
    "phi = 0.9\n",
    "A_n = A\n",
    "K_D = 1.15 * dimensionless  # Load duration factor per Table 4.3.2.2 \n",
    "# short-term\n",
    "K_H = 1.0 * dimensionless  # System Factor per 5.4.4\n",
    "K_Sv = 1.0 * dimensionless  # Service condition factor per Table 5.4.2 dry\n",
    "K_T = 1.0 * dimensionless  # Treatment factor per Table 5.4.3 untreated\n",
    "K_Zv = 1.4 * dimensionless  # from Table 5,4,5\n",
    "f_v = 1.5 * MPa  # S-P-F No.1/No.2 from Table 5.3.1A\n",
    "F_v = f_v*(K_D*K_H*K_Sv*K_T)\n",
    "F_v.ito(MPa)\n",
    "print('F_v =', round(F_v,2))"
   ]
  },
  {
   "cell_type": "code",
   "execution_count": 18,
   "metadata": {
    "collapsed": false
   },
   "outputs": [
    {
     "name": "stdout",
     "output_type": "stream",
     "text": [
      "V_r = 7.71 kilonewton\n"
     ]
    }
   ],
   "source": [
    "V_r = phi*F_v*((2*A_n)/3)*K_Zv\n",
    "V_r.ito(kN)\n",
    "print('V_r =', round(V_r,2))"
   ]
  },
  {
   "cell_type": "code",
   "execution_count": 19,
   "metadata": {
    "collapsed": false
   },
   "outputs": [
    {
     "data": {
      "text/plain": [
       "True"
      ]
     },
     "execution_count": 19,
     "metadata": {
     },
     "output_type": "execute_result"
    }
   ],
   "source": [
    "V_r > V_f"
   ]
  },
  {
   "cell_type": "markdown",
   "metadata": {
    "collapsed": false
   },
   "source": [
    "Factored shear resistance is greater than factored shear; therefore, OK for Shear"
   ]
  },
  {
   "cell_type": "markdown",
   "metadata": {
    "collapsed": false
   },
   "source": [
    "## Check Deflection  \n",
    "Load combination for serviceability limit state 1.0DL + 1.0LL  "
   ]
  },
  {
   "cell_type": "code",
   "execution_count": 20,
   "metadata": {
    "collapsed": false
   },
   "outputs": [
    {
     "name": "stdout",
     "output_type": "stream",
     "text": [
      "w = 1.33 kilonewton / meter\n"
     ]
    }
   ],
   "source": [
    "w = (DL + LL) * Tributary_width\n",
    "w.ito(kN/m)\n",
    "print('w =', round(w,2))"
   ]
  },
  {
   "cell_type": "code",
   "execution_count": 21,
   "metadata": {
    "collapsed": false
   },
   "outputs": [
    {
     "name": "stdout",
     "output_type": "stream",
     "text": [
      "L/180 = 15.6 millimeter\n"
     ]
    }
   ],
   "source": [
    "delta_limit = L/180\n",
    "delta_limit.ito(mm)\n",
    "print('L/180 =', round(delta_limit,1))"
   ]
  },
  {
   "cell_type": "code",
   "execution_count": 22,
   "metadata": {
    "collapsed": false
   },
   "outputs": [
    {
     "data": {
      "text/html": [
       "9500.0 megapascal"
      ],
      "text/latex": [
       "$9500.0\\ \\mathrm{megapascal}$"
      ],
      "text/plain": [
       "9500.0 <Unit('megapascal')>"
      ]
     },
     "execution_count": 22,
     "metadata": {
     },
     "output_type": "execute_result"
    }
   ],
   "source": [
    "E = 9500 * MPa  # Modulus of Elasticity per Table 5.3.1A S-P-F No.1/No.2\n",
    "K_SE = 1.0 * dimensionless  # Service condition factor per Table 5.4.2 dry\n",
    "K_T = 1.0 * dimensionless  # Treatment factor per Table 5.4.3 untreated\n",
    "E_S = E*(K_SE*K_T)  # per 4.5.1\n",
    "E_S.ito(MPa)\n",
    "E_S"
   ]
  },
  {
   "cell_type": "code",
   "execution_count": 23,
   "metadata": {
    "collapsed": false
   },
   "outputs": [
    {
     "name": "stdout",
     "output_type": "stream",
     "text": [
      "Max deflection = 12.9 millimeter\n"
     ]
    }
   ],
   "source": [
    "delta_max = (5*w*L**4)/(384*E_S*I_x)\n",
    "delta_max.ito(mm)\n",
    "print('Max deflection =', round(delta_max,1))"
   ]
  },
  {
   "cell_type": "code",
   "execution_count": 24,
   "metadata": {
    "collapsed": false
   },
   "outputs": [
    {
     "data": {
      "text/plain": [
       "True"
      ]
     },
     "execution_count": 24,
     "metadata": {
     },
     "output_type": "execute_result"
    }
   ],
   "source": [
    "delta_limit > delta_max"
   ]
  },
  {
   "cell_type": "markdown",
   "metadata": {
    "collapsed": false
   },
   "source": [
    "Elastic deflection limit is greater than elastic deflection due to service loading; therefore, OK for Deflection"
   ]
  }
 ],
 "metadata": {
  "kernelspec": {
   "display_name": "Python 3 (Ubuntu Linux)",
   "language": "python",
   "metadata": {
    "cocalc": {
     "description": "Python 3 programming language",
     "priority": 100,
     "url": "https://www.python.org/"
    }
   },
   "name": "python3"
  },
  "language_info": {
   "codemirror_mode": {
    "name": "ipython",
    "version": 3
   },
   "file_extension": ".py",
   "mimetype": "text/x-python",
   "name": "python",
   "nbconvert_exporter": "python",
   "pygments_lexer": "ipython3",
   "version": "3.6.8"
  }
 },
 "nbformat": 4,
 "nbformat_minor": 0
}