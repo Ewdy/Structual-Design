{
 "cells": [
  {
   "cell_type": "code",
   "execution_count": 1,
   "metadata": {
    "collapsed": false
   },
   "outputs": [
   ],
   "source": [
    "# Geometric Properties of Hollow Square with Neutral Axis in the Middle\n",
    "# E.Durham     8-Jul-2019"
   ]
  },
  {
   "cell_type": "markdown",
   "metadata": {
    "collapsed": false
   },
   "source": [
    "![Hollow Square Graphic](./Hollow_Square.JPG)"
   ]
  },
  {
   "cell_type": "code",
   "execution_count": 2,
   "metadata": {
    "collapsed": false
   },
   "outputs": [
   ],
   "source": [
    "import pint, math\n",
    "unit = pint.UnitRegistry(system='mks')\n",
    "\n",
    "# define synonyms for common units\n",
    "inch = unit.inch; mm = unit.mm; m = unit.m; \n",
    "dimensionless = unit.dimensionless; s = unit.second; pi = math.pi\n",
    "\n",
    "def u_round(Q, digits=3):\n",
    "    \"\"\"\n",
    "    Takes a Pint.py quantity and returns same rounded to digits, \n",
    "    default is 3 digits\n",
    "    \"\"\"\n",
    "    try:\n",
    "        unit.check(Q.units)\n",
    "        magnitude = Q.magnitude\n",
    "        units = Q.units\n",
    "        return round(magnitude,digits) * units\n",
    "    except:\n",
    "        print(\"ERROR: u_round() first arguement must be a Pint.py quantity\")\n",
    "        return NaN"
   ]
  },
  {
   "cell_type": "code",
   "execution_count": 3,
   "metadata": {
    "collapsed": false
   },
   "outputs": [
   ],
   "source": [
    "# Specify Outside Face Width, d_1\n",
    "# AND Wall Thickness, t\n",
    "d_1 = 4.000 * inch\n",
    "t = 0.500 * inch\n",
    "# Results returned in units of inch and mm"
   ]
  },
  {
   "cell_type": "code",
   "execution_count": 4,
   "metadata": {
    "collapsed": false
   },
   "outputs": [
   ],
   "source": [
    "# Geometric Properties of Hollow Square [4]\n",
    "d_2 = d_1 - ( 2.0 * t )     # inside width\n",
    "A =  (d_1**2 - d_2**2)\n",
    "c = d_1 / 2.0     # distance from centroid of area\n",
    "I = (d_1**4 - d_2**4) / 12.0\n",
    "S = (d_1**4 - d_2**4) / (6.0 * d_1)\n",
    "r = ( ( d_1**2 + d_2**2 ) / 12.0 )**(1/2)"
   ]
  },
  {
   "cell_type": "code",
   "execution_count": 10,
   "metadata": {
    "collapsed": false
   },
   "outputs": [
    {
     "name": "stdout",
     "output_type": "stream",
     "text": [
      "Geometric Properties of Hollow Square with Neutral Axis in Middle:\n",
      "Given: Outside Face Width, d_1 = 4.0 inch = 101.6 millimeter\n",
      "Given: Wall Thickness, t = 0.5 inch = 12.7 millimeter\n",
      "Inside Width, d_2 = 3.0 inch = 76.2 millimeter\n",
      "Area, A = 7.0 inch ** 2 = 4516.1 millimeter ** 2\n",
      "c = 2.0 inch = 50.8 millimeter\n",
      "Radius of Gyration, r = 1.4434 inch = 36.66 millimeter\n",
      "Second Moment of Inertia, I = 14.5833 inch ** 4 = 6070041.6 millimeter ** 4\n",
      "Elastic Section Modulus, S = 7.2917 inch ** 3 = 119489.0 millimeter ** 3\n"
     ]
    }
   ],
   "source": [
    "print('Geometric Properties of Hollow Square with Neutral Axis in Middle:')\n",
    "print('Given: Outside Face Width, d_1 =', round(d_1,3), '=', round(d_1.to(mm),2))\n",
    "print('Given: Wall Thickness, t =', round(t,3), '=', round(t.to(mm),2))\n",
    "print('Inside Width, d_2 =', round(d_2,3), '=', round(d_2.to(mm),2))\n",
    "print('Area, A =', round(A,3), '=', round(A.to(mm**2),1) )\n",
    "print('c =', round(c,3), '=', round(c.to(mm),2))\n",
    "print('Radius of Gyration, r =', round(r,4), '=', round(r.to(mm),2))\n",
    "print('Second Moment of Inertia, I =', u_round(I,4), '=', u_round(I.to(mm**4),1))\n",
    "print('Elastic Section Modulus, S =', u_round(S,4), '=', u_round(S.to(mm**3),1))\n",
    "# print('Plastic Section Modulus, Z =', u_round(Z,4), '=', u_round(Z.to(mm**3),1))"
   ]
  },
  {
   "cell_type": "markdown",
   "metadata": {
    "collapsed": false
   },
   "source": [
    "Test Data and Expected results:  \n",
    "RT 4x4x0.5 (from Aluminum Design Manual 2015)  \n",
    "Given: d_1 = 4.000 inch; t = 0.500 inch  \n",
    "A = 7.00 inch\\**2; I_x, I_y = 14.6 inch\\**4; S_x, S_y = 7.29 inch\\**3;  \n",
    "r_x, r_y = 1.44 inch; J = 21.4 inch\\**4; Z_x, Z_y = 9.25 inch\\**3;  \n",
    "b/t = 6.0"
   ]
  },
  {
   "cell_type": "markdown",
   "metadata": {
    "collapsed": false
   },
   "source": [
    "### Revision History\n",
    "0.0 - 2019-07-08 - E.Durham - Created initial notebook"
   ]
  }
 ],
 "metadata": {
  "kernelspec": {
   "display_name": "Python 3 (Ubuntu Linux)",
   "language": "python",
   "metadata": {
    "cocalc": {
     "description": "Python 3 programming language",
     "priority": 100,
     "url": "https://www.python.org/"
    }
   },
   "name": "python3"
  },
  "language_info": {
   "codemirror_mode": {
    "name": "ipython",
    "version": 3
   },
   "file_extension": ".py",
   "mimetype": "text/x-python",
   "name": "python",
   "nbconvert_exporter": "python",
   "pygments_lexer": "ipython3",
   "version": "3.6.8"
  }
 },
 "nbformat": 4,
 "nbformat_minor": 0
}