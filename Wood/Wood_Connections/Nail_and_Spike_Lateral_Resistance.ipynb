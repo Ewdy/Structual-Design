{
 "cells": [
  {
   "cell_type": "markdown",
   "metadata": {
    "collapsed": false
   },
   "source": [
    "Nail and Spike Lateral Resistance per O86-14  \n",
    "E.Durham - 28-Jun-2019"
   ]
  },
  {
   "cell_type": "code",
   "execution_count": 1,
   "metadata": {
    "code_folding": [
    ],
    "collapsed": false
   },
   "outputs": [
   ],
   "source": [
    "import pint\n",
    "unit = pint.UnitRegistry()\n",
    "\n",
    "# define synonyms for common units\n",
    "inch = unit.inch; mm = unit.mm; m = unit.m; kPa = unit.kPa; MPa = unit.MPa; \n",
    "psi = unit.psi; kN = unit.kN; N = unit.N; ksi = unit.ksi; \n",
    "dimensionless = unit.dimensionless; s = unit.second; kg = unit.kg"
   ]
  },
  {
   "cell_type": "markdown",
   "metadata": {
    "collapsed": false
   },
   "source": [
    "## Check connection between 2x4 blocking and 2x4 purlins"
   ]
  },
  {
   "cell_type": "code",
   "execution_count": 2,
   "metadata": {
    "collapsed": false
   },
   "outputs": [
    {
     "name": "stdout",
     "output_type": "stream",
     "text": [
      "N_f = 1.52 kilonewton\n"
     ]
    }
   ],
   "source": [
    "# Enter factored lateral load\n",
    "N_f = (3.04*kN)/2\n",
    "N_f.ito(kN)\n",
    "print('N_f =', round(N_f,2))"
   ]
  },
  {
   "cell_type": "code",
   "execution_count": 3,
   "metadata": {
    "collapsed": false
   },
   "outputs": [
   ],
   "source": [
    "# Enter number of fasteners\n",
    "n_F = 3"
   ]
  },
  {
   "cell_type": "code",
   "execution_count": 4,
   "metadata": {
    "collapsed": false
   },
   "outputs": [
   ],
   "source": [
    "# Enter number of shear planes\n",
    "n_S = 1"
   ]
  },
  {
   "cell_type": "markdown",
   "metadata": {
    "collapsed": false
   },
   "source": [
    "$N_r = N'_r n_S n_F K' J_F$  \n",
    "where  \n",
    "$N'_r$ are basic factored lateral resistances given in Nail Selection Tables  \n",
    "$n_S =$ the effective number of shear planes ($n_S$) = 1 in Nail Selection Tables  \n",
    "$n_F =$ number of nails or spikes  \n",
    "$K' = K_D K_{SF} K_T$  \n",
    "$J_F = J_E J_A J_B J_D$  \n",
    "where  \n",
    "$K_D =$ duration of load factor  \n",
    "$K_{SF} =$ service condition factor  \n",
    "$K_T =$ fire-retardant treatment factor  \n",
    "$J_E =$ factor for nailing into end grain  \n",
    "$J_A =$ factor for toe nailing  \n",
    "$J_B =$ factor for nail clinching  \n",
    "$J_D =$ factor for diaphragm construction  "
   ]
  },
  {
   "cell_type": "code",
   "execution_count": 5,
   "metadata": {
    "collapsed": false
   },
   "outputs": [
   ],
   "source": [
    "N_prime_r = 0.707 * kN  # single shear 38 mm side plate, sawn lumber, S-P-F, \n",
    "# 3 inch max 30 mm penetration\n",
    "K_D = 1.15 * dimensionless  # Load duration factor per Table 4.3.2.2 \n",
    "# short-term\n",
    "K_SF = 1.0 * dimensionless  # Service condition factor per Table 5.4.2\n",
    "K_T = 1.0 * dimensionless  # Treatment factor per Table 5.4.3 untreated\n",
    "J_E = 0.67 * dimensionless  # end grain\n",
    "J_A = 1.0 * dimensionless  # not toe nailed\n",
    "J_B = 1.0 * dimensionless  # not clinched\n",
    "J_D = 1.0 * dimensionless  # not a diaphragm"
   ]
  },
  {
   "cell_type": "code",
   "execution_count": 6,
   "metadata": {
    "collapsed": false
   },
   "outputs": [
    {
     "data": {
      "text/html": [
       "1.15 dimensionless"
      ],
      "text/latex": [
       "$1.15\\ dimensionless$"
      ],
      "text/plain": [
       "1.15 <Unit('dimensionless')>"
      ]
     },
     "execution_count": 6,
     "metadata": {
     },
     "output_type": "execute_result"
    }
   ],
   "source": [
    "K_prime = K_D*K_SF*K_T\n",
    "K_prime"
   ]
  },
  {
   "cell_type": "code",
   "execution_count": 7,
   "metadata": {
    "collapsed": false
   },
   "outputs": [
    {
     "data": {
      "text/html": [
       "0.67 dimensionless"
      ],
      "text/latex": [
       "$0.67\\ dimensionless$"
      ],
      "text/plain": [
       "0.67 <Unit('dimensionless')>"
      ]
     },
     "execution_count": 7,
     "metadata": {
     },
     "output_type": "execute_result"
    }
   ],
   "source": [
    "J_F = J_E*J_A*J_B*J_D\n",
    "J_F"
   ]
  },
  {
   "cell_type": "code",
   "execution_count": 8,
   "metadata": {
    "collapsed": false
   },
   "outputs": [
    {
     "name": "stdout",
     "output_type": "stream",
     "text": [
      "N_r = 1.63 kilonewton\n"
     ]
    }
   ],
   "source": [
    "N_r = N_prime_r*n_S*n_F*K_prime*J_F\n",
    "N_r.ito(kN)\n",
    "print('N_r =', round(N_r,2))"
   ]
  },
  {
   "cell_type": "code",
   "execution_count": 9,
   "metadata": {
    "collapsed": false
   },
   "outputs": [
    {
     "name": "stdout",
     "output_type": "stream",
     "text": [
      "Utilization = 0.93\n"
     ]
    }
   ],
   "source": [
    "# Utilization\n",
    "u = N_f / N_r\n",
    "print('Utilization =',round(u.magnitude,2))"
   ]
  }
 ],
 "metadata": {
  "kernelspec": {
   "display_name": "Python 3 (Ubuntu Linux)",
   "language": "python",
   "metadata": {
    "cocalc": {
     "description": "Python 3 programming language",
     "priority": 100,
     "url": "https://www.python.org/"
    }
   },
   "name": "python3"
  },
  "language_info": {
   "codemirror_mode": {
    "name": "ipython",
    "version": 3
   },
   "file_extension": ".py",
   "mimetype": "text/x-python",
   "name": "python",
   "nbconvert_exporter": "python",
   "pygments_lexer": "ipython3",
   "version": "3.6.8"
  }
 },
 "nbformat": 4,
 "nbformat_minor": 0
}