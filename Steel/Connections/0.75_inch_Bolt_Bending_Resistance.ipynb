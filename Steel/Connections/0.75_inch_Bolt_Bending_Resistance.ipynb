{
 "cells": [
  {
   "cell_type": "markdown",
   "metadata": {
    "collapsed": false
   },
   "source": [
    "Calculations for Bending Resistance of 3/4\" SAE J429 Grade 8 Bolt per CSA S16-14 13.5  \n",
    "E.Durham - 11-Jun-2019"
   ]
  },
  {
   "cell_type": "code",
   "execution_count": 1,
   "metadata": {
    "collapsed": false
   },
   "outputs": [
   ],
   "source": [
    "import math\n",
    "import pint\n",
    "unit = pint.UnitRegistry(system='mks')\n",
    "\n",
    "# define synonyms for common units\n",
    "inch = unit.inch; mm = unit.mm; m = unit.m; MPa = unit.MPa; psi = unit.psi; kN = unit.kN\n",
    "ksi = unit.ksi; dimensionless = unit.dimensionless; s = unit.second; kg = unit.kg\n",
    "\n",
    "def u_round(Q, digits=3):\n",
    "    \"\"\"\n",
    "    Takes a Pint.py quantity and returns same rounded to digits, default it 3 digits\n",
    "    \"\"\"\n",
    "    try:\n",
    "        unit.check(Q.units)\n",
    "        magnitude = Q.magnitude\n",
    "        units = Q.units\n",
    "        return round(magnitude,digits) * units\n",
    "    except:\n",
    "        print('ERROR: u_round() first arguement must be a Pint.py quantity')\n",
    "        return NaN"
   ]
  },
  {
   "cell_type": "code",
   "execution_count": 8,
   "metadata": {
    "collapsed": false
   },
   "outputs": [
   ],
   "source": [
    "# Geometric Properties:\n",
    "d = 19.05*mm\n",
    "A = 285*mm**2\n",
    "Z = (d**3)/6\n",
    "\n",
    "# Mechanical Specifications for SAE J429 Grade 8\n",
    "F_u = 150000*psi # minimum Tensile Strength\n",
    "F_u.ito(MPa)\n",
    "F_y = 130000*psi # minimum Yield Strength\n",
    "F_y.ito(MPa)"
   ]
  },
  {
   "cell_type": "code",
   "execution_count": 9,
   "metadata": {
    "collapsed": false
   },
   "outputs": [
   ],
   "source": [
    "# 13.1 Resistance factors:\n",
    "phi = 0.9 * dimensionless     # structural steel\n",
    "phi_u = 0.75 * dimensionless"
   ]
  },
  {
   "cell_type": "markdown",
   "metadata": {
    "collapsed": false
   },
   "source": [
    "13.5 Bending - Laterally supported members  \n",
    "The factored moment resistance, $M_r$, developed by a member subjected to uniaxial bending moments about a principal axis where effectively continuous lateral support is provided to the compression flange, or where the member has no tendency to buckle laterally, shall be taken as follows:"
   ]
  },
  {
   "cell_type": "markdown",
   "metadata": {
    "collapsed": false
   },
   "source": [
    "a) for Class 1 and Class 2 sections (except that singly symmetric I-sections and T-sections shall not yield under service loads):  \n",
    "$M_r = \\phi Z F_y$  \n",
    "$M_r = \\phi M_p$  "
   ]
  },
  {
   "cell_type": "markdown",
   "metadata": {
    "collapsed": false
   },
   "source": [
    "b) for Class 3 sections:  \n",
    "$M_r = \\phi S F_y$  \n",
    "$M_r = \\phi M_y$  "
   ]
  },
  {
   "cell_type": "code",
   "execution_count": 14,
   "metadata": {
    "collapsed": false
   },
   "outputs": [
    {
     "name": "stdout",
     "output_type": "stream",
     "text": [
      "M_r = 0.929 kilonewton * meter\n"
     ]
    }
   ],
   "source": [
    "M_r = phi * Z * F_y\n",
    "print('M_r =', u_round(M_r.to(kN*m),3))"
   ]
  }
 ],
 "metadata": {
  "kernelspec": {
   "display_name": "Python 3 (Ubuntu Linux)",
   "language": "python",
   "metadata": {
    "cocalc": {
     "description": "Python 3 programming language",
     "priority": 100,
     "url": "https://www.python.org/"
    }
   },
   "name": "python3"
  },
  "language_info": {
   "codemirror_mode": {
    "name": "ipython",
    "version": 3
   },
   "file_extension": ".py",
   "mimetype": "text/x-python",
   "name": "python",
   "nbconvert_exporter": "python",
   "pygments_lexer": "ipython3",
   "version": "3.6.8"
  }
 },
 "nbformat": 4,
 "nbformat_minor": 0
}