{
 "cells": [
  {
   "cell_type": "markdown",
   "metadata": {
    "collapsed": false
   },
   "source": [
    "Calculation of Design strength of Lag Screws using CSA O86-09"
   ]
  },
  {
   "cell_type": "code",
   "execution_count": 1,
   "metadata": {
    "collapsed": false
   },
   "outputs": [
   ],
   "source": [
    "import pint\n",
    "unit = pint.UnitRegistry()\n",
    "\n",
    "# define synanyms for common units\n",
    "inch = unit.inch; mm = unit.mm; m = unit.m; kPa = unit.kPa; MPa = unit.MPa; \n",
    "psi = unit.psi; kN = unit.kN; ksi = unit.ksi; \n",
    "dimensionless = unit.dimensionless; s = unit.second; kg = unit.kg\n",
    "\n",
    "def u_round(Q, digits=3):\n",
    "    \"\"\"\n",
    "    Takes a Pint.py quantity and returns same rounded to digits, \n",
    "    default is 3 digits\n",
    "    \"\"\"\n",
    "    try:\n",
    "        unit.check(Q.units)\n",
    "        magnitude = Q.magnitude\n",
    "        units = Q.units\n",
    "        return round(magnitude,digits) * units\n",
    "    except:\n",
    "        print('ERROR: u_round() first arguement must be a Pint.py quantity')\n",
    "        return NaN"
   ]
  },
  {
   "cell_type": "code",
   "execution_count": 2,
   "metadata": {
    "collapsed": false
   },
   "outputs": [
    {
     "name": "stdout",
     "output_type": "stream",
     "text": [
      "Case parameters:\n",
      "Mean density of Douglas-Fir-Larch from Table A10.1, G = 0.5\n",
      "Thickness of side member, t_1 = 38 millimeter\n",
      "Thickness of main member, t_2 = 76 millimeter\n",
      "Lag Screw diameter, d_F = 9.5 millimeter\n",
      "Lag Screw length, L = 100 millimeter\n",
      "Lag Screw tip length, E = 6.4 millimeter\n",
      "Lag Screw Penetration, L_p = L - (t_1 + E) = 55.6 millimeter\n",
      "\n",
      "Modification Factors\n",
      "Duration Factor, K_D = 1.15\n",
      "Service Condition Factor, K_SF = 1.0\n",
      "Fire-retardant Treatment Factor, K_T = 1.0\n",
      "Grain Factor, J_E = 1.0\n",
      "K` = K_D * K_SF * K_T = 1.15\n"
     ]
    }
   ],
   "source": [
    "# Define case parameters\n",
    "G = 0.50 # mean density for Douglas-Fir-Larch from Table A10.1\n",
    "t_1 = 38*mm # side member thickness\n",
    "t_2 = 76*mm # main member thickness\n",
    "d_F = (3/8) * inch # lag screw shank diameter\n",
    "lag_L = 100*mm\n",
    "d_F.ito(mm)\n",
    "lag_E = 6.4*mm # length of tip, from Wood Design Manual 2010 Table 7.15\n",
    "L_p = lag_L - (t_1 + lag_E)\n",
    "K_D = 1.15 # Duration factor, short-term, less than 7 days\n",
    "K_SF = 1.0 # Dry service conditions\n",
    "K_T = 1.0 # untreated wood\n",
    "J_E = 1.0 # screws installed in side grain; not end grain\n",
    "Kprime = K_D * K_SF * K_T\n",
    "\n",
    "print('Case parameters:')\n",
    "print('Mean density of Douglas-Fir-Larch from Table A10.1, G =',round(G,2))\n",
    "print('Thickness of side member, t_1 =',u_round(t_1,1))\n",
    "print('Thickness of main member, t_2 =',u_round(t_2,1))\n",
    "print('Lag Screw diameter, d_F =',u_round(d_F,1))\n",
    "print('Lag Screw length, L =',u_round(lag_L,1))\n",
    "print('Lag Screw tip length, E =',u_round(lag_E,1))\n",
    "print('Lag Screw Penetration, L_p = L - (t_1 + E) =',u_round(L_p,1))\n",
    "print('')\n",
    "print('Modification Factors')\n",
    "print('Duration Factor, K_D =',round(K_D,2))\n",
    "print('Service Condition Factor, K_SF =',round(K_SF,1))\n",
    "print('Fire-retardant Treatment Factor, K_T =',round(K_T,1))\n",
    "print('Grain Factor, J_E =',round(J_E,1))\n",
    "print('K` = K_D * K_SF * K_T =',round(Kprime,2))"
   ]
  },
  {
   "cell_type": "code",
   "execution_count": 3,
   "metadata": {
    "collapsed": false
   },
   "outputs": [
    {
     "name": "stdout",
     "output_type": "stream",
     "text": [
      "Per WDM2010 Leg Screw Selection Table, Q`_r =  1.08 kilonewton\n",
      "Q_r = Q`_r * K`\n",
      "Q_r = 1.24 kilonewton per lag screw\n"
     ]
    }
   ],
   "source": [
    "Qprime_r = 1.08*kN\n",
    "Q_r = Qprime_r * Kprime\n",
    "print('Per WDM2010 Leg Screw Selection Table, Q`_r = ',u_round(Qprime_r,2))\n",
    "print('Q_r = Q`_r * K`')\n",
    "print('Q_r =',u_round(Q_r,2),'per lag screw')"
   ]
  },
  {
   "cell_type": "markdown",
   "metadata": {
    "collapsed": false
   },
   "source": [
    "**Given:** 2 kPa Live Load  \n",
    "**Given:** Max 1.3m width of platform  \n",
    "**Given:** Lag Screw capacity above  \n",
    "**Given:** Safety Factor of 1.5:1  \n",
    "**Find:** Max on-centre spacing of lag screws"
   ]
  },
  {
   "cell_type": "markdown",
   "metadata": {
    "collapsed": false
   },
   "source": [
    "$1.24 kN = (2 kPa)(1.5)(1.3 m / 2)(x)$  \n",
    "$x = 1.24 kN / ((2 kPa)(1.5)(0.65 m))$  "
   ]
  },
  {
   "cell_type": "code",
   "execution_count": 4,
   "metadata": {
    "collapsed": false
   },
   "outputs": [
    {
     "name": "stdout",
     "output_type": "stream",
     "text": [
      "Given conditions above and 3/8\" x 4\" Lag screws screws should be a max 0.637 meter on-centre.\n"
     ]
    }
   ],
   "source": [
    "x = u_round((Q_r / ((2*kPa)*(1.5)*(0.65*m))).to(m),3)\n",
    "print('Given conditions above and 3/8\" x 4\" Lag screws',\n",
    "      'screws should be a max',x,'on-centre.')"
   ]
  },
  {
   "cell_type": "markdown",
   "metadata": {
    "collapsed": false
   },
   "source": [
    "**Given:** Conditions stated above  \n",
    "**Find:** Max on-centre spacing when 3/8\" x 3\" lag screws are used"
   ]
  },
  {
   "cell_type": "code",
   "execution_count": 5,
   "metadata": {
    "collapsed": false
   },
   "outputs": [
    {
     "name": "stdout",
     "output_type": "stream",
     "text": [
      "Lag Screw Penetration, L_p = L - (t_1 + E) = 31.6 millimeter\n"
     ]
    }
   ],
   "source": [
    "lag_L = 76*mm\n",
    "lag_E = 6.4*mm\n",
    "L_p = lag_L - (t_1 + lag_E)\n",
    "print('Lag Screw Penetration, L_p = L - (t_1 + E) =',u_round(L_p,1))"
   ]
  },
  {
   "cell_type": "code",
   "execution_count": 6,
   "metadata": {
    "collapsed": false
   },
   "outputs": [
    {
     "name": "stdout",
     "output_type": "stream",
     "text": [
      "5 x shank diameter = 47.6 millimeter\n"
     ]
    }
   ],
   "source": [
    "# O86-09 10.6.3.3  \n",
    "\"\"\"\n",
    "For lag screws loaded laterally, the minimum length of penetration into the\n",
    "main member (t_2 in Clause 10.6.6.1.2) shall be not less than five times the\n",
    "shank diameter, d_F\n",
    "\"\"\"\n",
    "print('5 x shank diameter =',u_round(5*d_F,1))"
   ]
  },
  {
   "cell_type": "markdown",
   "metadata": {
    "collapsed": false
   },
   "source": [
    "Leg Screw Penetration is less than minimum required penetration. Therefore, 3/8\" x 3\" Lag Screws are NFG"
   ]
  }
 ],
 "metadata": {
  "kernelspec": {
   "display_name": "Python 3 (Ubuntu Linux)",
   "language": "python",
   "metadata": {
    "cocalc": {
     "description": "Python 3 programming language",
     "priority": 100,
     "url": "https://www.python.org/"
    }
   },
   "name": "python3"
  },
  "language_info": {
   "codemirror_mode": {
    "name": "ipython",
    "version": 3
   },
   "file_extension": ".py",
   "mimetype": "text/x-python",
   "name": "python",
   "nbconvert_exporter": "python",
   "pygments_lexer": "ipython3",
   "version": "3.6.8"
  }
 },
 "nbformat": 4,
 "nbformat_minor": 0
}