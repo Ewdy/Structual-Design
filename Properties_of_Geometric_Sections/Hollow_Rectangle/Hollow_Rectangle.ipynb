{
 "cells": [
  {
   "cell_type": "code",
   "execution_count": 1,
   "metadata": {
    "collapsed": false
   },
   "outputs": [
   ],
   "source": [
    "# Geometric Properties of Hollow Rectangle\n",
    "# E.Durham     5-Jul-2019"
   ]
  },
  {
   "cell_type": "markdown",
   "metadata": {
    "collapsed": false
   },
   "source": [
    "![Hollow Rectangle Graphic](./Hollow_Rectangle.JPG)"
   ]
  },
  {
   "cell_type": "code",
   "execution_count": 2,
   "metadata": {
    "collapsed": false
   },
   "outputs": [
   ],
   "source": [
    "from sympy import *\n",
    "# from sympy import symbols"
   ]
  },
  {
   "cell_type": "code",
   "execution_count": 3,
   "metadata": {
    "collapsed": false
   },
   "outputs": [
   ],
   "source": [
    "# define symbols\n",
    "b, d, t = symbols('b d t')"
   ]
  },
  {
   "cell_type": "code",
   "execution_count": 4,
   "metadata": {
    "collapsed": false
   },
   "outputs": [
   ],
   "source": [
    "A = 2*t*(d+b-2*t) # Area\n",
    "I_x = (b*d**3 - (b-2*t) * (d-2*t)**3) / 12 # Second Moment of Inertia for Major Axis\n",
    "I_y = (d*b**3 - (d-2*t) * (b-2*t)**3) / 12 # Second Moment of Inertia for Minor Axis\n",
    "S_x = (b*d**3 - (b-2*t) * (d-2*t)**3) / (6*d) # Elastic Section Modulus for Major Axis\n",
    "S_y = (d*b**3 - (d-2*t) * (b-2*t)**3) / (6*b) # Elastic Section Modulus for Minor Axis\n",
    "r_x = sqrt((b*d**3 - (b-2*t) * (d-2*t)**3) / (24*t * (d+b-2*t))) # Radius of Gyration for Major Axis\n",
    "r_y = sqrt((d*b**3 - (d-2*t) * (b-2*t)**3) / (24*t * (b+d-2*t))) # Radius of Gyration for Minor Axis\n",
    "Z_x = b*t*(d-t) + 2*t * ((d/2)-t)**2 # Plastic Section Modulus for Major Axis\n",
    "Z_y = d*t*(b-t) + 2*t * ((b/2)-t)**2 # Plastic Section Modulus for Minor Axis\n",
    "J = (2*t*(d-t)**2 * (b-t)**2) / (d+b-2*t) # St. Venant's Torsional Constant"
   ]
  },
  {
   "cell_type": "code",
   "execution_count": 5,
   "metadata": {
    "collapsed": false
   },
   "outputs": [
   ],
   "source": [
    "# Specify Depth, d, Width, b, AND Wall Thickness, t in identical units\n",
    "# Example: \n",
    "# if case values are: d = 3.00, b = 2.00 and t = 0.250\n",
    "# then use case_values = [(d, 3.00), (b, 2.00), (t, 0.250)]\n",
    "# Enter actual case values below per above\n",
    "case_values = [(d, 3.00), (b, 2.00), (t, 0.250)]"
   ]
  },
  {
   "cell_type": "code",
   "execution_count": 6,
   "metadata": {
    "collapsed": false
   },
   "outputs": [
    {
     "name": "stdout",
     "output_type": "stream",
     "text": [
      "Geometric Properties:\n",
      "Given:\n",
      "Depth,  (d, 3.0) unit\n",
      "Width,  (b, 2.0) unit\n",
      "Wall,  (t, 0.25) unit\n",
      "A = 2.25 unit**2\n",
      "I_x = 2.55 unit**4\n",
      "S_x = 1.70 unit**3\n",
      "Z_x = 2.16 unit**3\n",
      "r_x = 1.06 unit\n",
      "I_y = 1.30 unit**4\n",
      "S_y = 1.30 unit**3\n",
      "Z_y = 1.59 unit**3\n",
      "r_y = 0.759 unit\n",
      "J = 2.57 unit**4\n"
     ]
    }
   ],
   "source": [
    "print('Geometric Properties:')\n",
    "print('Given:')\n",
    "print('Depth, ', case_values[0], 'unit')\n",
    "print('Width, ', case_values[1], 'unit')\n",
    "print('Wall, ',  case_values[2], 'unit')\n",
    "print('A =', A.subs(case_values).evalf(3), 'unit**2')\n",
    "print('I_x =', I_x.subs(case_values).evalf(3), 'unit**4')\n",
    "print('S_x =', S_x.subs(case_values).evalf(3), 'unit**3')\n",
    "print('Z_x =', Z_x.subs(case_values).evalf(3), 'unit**3')\n",
    "print('r_x =', r_x.subs(case_values).evalf(3), 'unit')\n",
    "print('I_y =', I_y.subs(case_values).evalf(3), 'unit**4')\n",
    "print('S_y =', S_y.subs(case_values).evalf(3), 'unit**3')\n",
    "print('Z_y =', Z_y.subs(case_values).evalf(3), 'unit**3')\n",
    "print('r_y =', r_y.subs(case_values).evalf(3), 'unit')\n",
    "print('J =', J.subs(case_values).evalf(3), 'unit**4')"
   ]
  },
  {
   "cell_type": "code",
   "execution_count": 13,
   "metadata": {
    "collapsed": false
   },
   "outputs": [
    {
     "name": "stdout",
     "output_type": "stream",
     "text": [
      "Area , A =\n",
      "Second Moment of Inertia, I =\n"
     ]
    },
    {
     "data": {
      "image/png": "[encoded data removed]",
      "text/latex": [
       "$\\displaystyle \\frac{b d^{3}}{12} - \\frac{\\left(b - 2 t\\right) \\left(d - 2 t\\right)^{3}}{12}$"
      ],
      "text/plain": [
       "   3                      3\n",
       "b⋅d    (b - 2⋅t)⋅(d - 2⋅t) \n",
       "──── - ────────────────────\n",
       " 12             12         "
      ]
     },
     "execution_count": 13,
     "metadata": {
     },
     "output_type": "execute_result"
    }
   ],
   "source": [
    "# Display formulas in proper math formatting\n",
    "init_printing()\n",
    "print('Area , A ='); A\n"
   ]
  },
  {
   "cell_type": "code",
   "execution_count": 14,
   "metadata": {
    "collapsed": false
   },
   "outputs": [
    {
     "name": "stdout",
     "output_type": "stream",
     "text": [
      "Second Moment of Inertia, I =\n"
     ]
    },
    {
     "data": {
      "image/png": "[encoded data removed]",
      "text/latex": [
       "$\\displaystyle \\frac{b d^{3}}{12} - \\frac{\\left(b - 2 t\\right) \\left(d - 2 t\\right)^{3}}{12}$"
      ],
      "text/plain": [
       "   3                      3\n",
       "b⋅d    (b - 2⋅t)⋅(d - 2⋅t) \n",
       "──── - ────────────────────\n",
       " 12             12         "
      ]
     },
     "execution_count": 14,
     "metadata": {
     },
     "output_type": "execute_result"
    }
   ],
   "source": [
    "print('Second Moment of Inertia, I ='); I_x"
   ]
  },
  {
   "cell_type": "code",
   "execution_count": 15,
   "metadata": {
    "collapsed": false
   },
   "outputs": [
    {
     "name": "stdout",
     "output_type": "stream",
     "text": [
      "Elastic Section Modulus, S =\n"
     ]
    },
    {
     "data": {
      "image/png": "[encoded data removed]",
      "text/latex": [
       "$\\displaystyle \\frac{b d^{3} - \\left(b - 2 t\\right) \\left(d - 2 t\\right)^{3}}{6 d}$"
      ],
      "text/plain": [
       "   3                      3\n",
       "b⋅d  - (b - 2⋅t)⋅(d - 2⋅t) \n",
       "───────────────────────────\n",
       "            6⋅d            "
      ]
     },
     "execution_count": 15,
     "metadata": {
     },
     "output_type": "execute_result"
    }
   ],
   "source": [
    "print('Elastic Section Modulus, S ='); S_x"
   ]
  },
  {
   "cell_type": "code",
   "execution_count": 16,
   "metadata": {
    "collapsed": false
   },
   "outputs": [
    {
     "name": "stdout",
     "output_type": "stream",
     "text": [
      "Plastic Section Modulus, Z =\n"
     ]
    },
    {
     "data": {
      "image/png": "[encoded data removed]",
      "text/latex": [
       "$\\displaystyle b t \\left(d - t\\right) + 2 t \\left(\\frac{d}{2} - t\\right)^{2}$"
      ],
      "text/plain": [
       "                         2\n",
       "                  ⎛d    ⎞ \n",
       "b⋅t⋅(d - t) + 2⋅t⋅⎜─ - t⎟ \n",
       "                  ⎝2    ⎠ "
      ]
     },
     "execution_count": 16,
     "metadata": {
     },
     "output_type": "execute_result"
    }
   ],
   "source": [
    "print('Plastic Section Modulus, Z ='); Z_x"
   ]
  },
  {
   "cell_type": "code",
   "execution_count": 17,
   "metadata": {
    "collapsed": false
   },
   "outputs": [
    {
     "name": "stdout",
     "output_type": "stream",
     "text": [
      "Radius of Gyration, r =\n"
     ]
    },
    {
     "data": {
      "image/png": "[encoded data removed]",
      "text/latex": [
       "$\\displaystyle \\frac{\\sqrt{6} \\sqrt{\\frac{b d^{3} - \\left(b - 2 t\\right) \\left(d - 2 t\\right)^{3}}{t \\left(b + d - 2 t\\right)}}}{12}$"
      ],
      "text/plain": [
       "        _____________________________\n",
       "       ╱    3                      3 \n",
       "      ╱  b⋅d  - (b - 2⋅t)⋅(d - 2⋅t)  \n",
       "√6⋅  ╱   ─────────────────────────── \n",
       "   ╲╱          t⋅(b + d - 2⋅t)       \n",
       "─────────────────────────────────────\n",
       "                  12                 "
      ]
     },
     "execution_count": 17,
     "metadata": {
     },
     "output_type": "execute_result"
    }
   ],
   "source": [
    "print('Radius of Gyration, r ='); r_x"
   ]
  },
  {
   "cell_type": "code",
   "execution_count": 18,
   "metadata": {
    "collapsed": false
   },
   "outputs": [
    {
     "name": "stdout",
     "output_type": "stream",
     "text": [
      "St. Venant's Torsional Constant, J =\n"
     ]
    },
    {
     "data": {
      "image/png": "[encoded data removed]",
      "text/latex": [
       "$\\displaystyle \\frac{2 t \\left(b - t\\right)^{2} \\left(d - t\\right)^{2}}{b + d - 2 t}$"
      ],
      "text/plain": [
       "           2        2\n",
       "2⋅t⋅(b - t) ⋅(d - t) \n",
       "─────────────────────\n",
       "     b + d - 2⋅t     "
      ]
     },
     "execution_count": 18,
     "metadata": {
     },
     "output_type": "execute_result"
    }
   ],
   "source": [
    "print(\"St. Venant's Torsional Constant, J =\"); J"
   ]
  },
  {
   "cell_type": "markdown",
   "metadata": {
    "collapsed": false
   },
   "source": [
    "## Test Values and Expected Results\n",
    "### RT 3 x x 1/4 from Aluminum Design Manual, 2015 page V-39\n",
    "d = 3\n",
    "b = 2\n",
    "t = 0.25\n",
    "A = 2.25\n",
    "I_x = 2.55\n",
    "S_x = 1.70\n",
    "Z_x = 2.16\n",
    "r_x = 1.06\n",
    "I_y = 1.30\n",
    "S_y = 1.30\n",
    "Z_y = 1.59\n",
    "r_y = 0.759\n",
    "J = 2.57"
   ]
  },
  {
   "cell_type": "markdown",
   "metadata": {
    "collapsed": false
   },
   "source": [
    "## Glossary of Torsional Terms [1]\n",
    "### HSS Shear Constant\n",
    "The shear constant, $C_{RT}$, is used for calculating the maximum shear stress due to an applied shear force.  \n",
    "For hollow structural section, the maximum shear stress in the cross section is given by:  \n",
    "$\\tau_{max} = \\frac{V Q}{2 t I}$  \n",
    "where $V$ is the applied shear force, $Q$ is the statical moment of the portion of the section lying outside the neutral axis taken about the neutral axis, $I$ is the moment of inertia, and $t$ is the wall thickness.  \n",
    "The shear constant is expressed as the ratio of the applied shear force to the maximum shear stress [3]:  \n",
    "$C_{RT} = \\frac{V}{\\tau_{max}} = \\frac{2 t I}{Q}$  \n",
    "### HSS Torsional Constant\n",
    "The torsional constant, $C$, is used for calculating the shear stress due to an applied torqu. It is expressed as the ratio of the applied torque, $T$, to the shear stress in the cross section, $\\tau$:  \n",
    "$C = \\frac{T}{\\tau}$  \n",
    "\n",
    "### St. Venant Torsional Constant\n",
    "The St. Venant torsional constant, $J$, measures the resistance of a structural member to *pure* or *uniform* torsion. It is used in calculating the buckling moment resistance of laterally unsupported beams and torsional-flexural buckling of compression members in accordance with CSA S16.  \n",
    "\n",
    "For open cross section, the general formula is given by Galambos (1968):  \n",
    "$J = \\sum(\\frac{b't^3}{3})$  \n",
    "where $b'$ are the plate lengths between points of intersection on their axes, and $t$ are the plate thicknesses. Summation includes all component plates. It is noted that the tabulated values in the Handbook of Steel Construction are based on net plate lengths instead of lengths between intersection points, a mostly conservative approach.  \n",
    "\n",
    "The expressions for $J$ given herein do not take into account the flange-to-web fillets. Formulas which account for this effect are given by El Darwish and Johnston (1965).\n",
    "\n",
    "For thin-walled closed sections, the general formula is given by Salmon and Johnson (1980):  \n",
    "$J = \\frac{4 A_o^2}{\\int_s ds/t}$  \n",
    "\n",
    "where $A_o$ is the enclosed area by the walls, $t$ is the wall thickness, $ds$ is a length element along the perimeter. Integration is performed over the entire perimeter $S$.\n",
    "\n",
    "### Warping Torsional Constant\n",
    "The warping torsional constant, $C_w$, measures the resistance of a structural member to *nonuniform* or *warping* torsion. It is used in calculating the buckling moment resistance of laterally unsupported beams and torsional-flexural buckling of compression members in accordance with CSA Standard S16.\n",
    "\n",
    "For open section, a general calculation method is given by Galambos (1968). For section in which all component plates meet at a single poitn, such as angles and T-sections, a calculation method is given by Bleich (1952). For hollow structural sections (HSS), warping deformations are small, and the warping torsional constant is generally taken as zero.  \n",
    "\n"
   ]
  },
  {
   "cell_type": "markdown",
   "metadata": {
    "collapsed": false
   },
   "source": [
    "### References for Torsional Constants\n",
    "[1] CISC, 2002. Torsional Section Properties of Steel Shapes.  \n",
    "Canadian Institute of Steel Construction, 2002\n",
    "\n",
    "[2] Seaburg, P.A. and Carter, C.J. 1997. Torsional Analysis of Structural Steel Members.  \n",
    "American Institute of Steel Construction, Chicago, Ill.\n",
    "\n",
    "[3] Stelco. 1981. Hollow Structural Sections - Sizes and Section Properties, 6th Edition.  \n",
    "Stelco Inc., Hamilton, Ont.\n",
    "\n",
    "[4] CISC 2016. Handbook of Steel Construction, 11th Edition, page 7-84\n",
    "www.cisc-icca.ca"
   ]
  },
  {
   "cell_type": "markdown",
   "metadata": {
    "collapsed": false
   },
   "source": [
    "### Revision History\n",
    "0.1 - 2019-07-08 - E.Durham - added graphic image\n",
    "0.0 - 2019-07-05 - E.Durham - Created initial notebook"
   ]
  }
 ],
 "metadata": {
  "kernelspec": {
   "display_name": "Python 3 (Ubuntu Linux)",
   "language": "python",
   "metadata": {
    "cocalc": {
     "description": "Python 3 programming language",
     "priority": 100,
     "url": "https://www.python.org/"
    }
   },
   "name": "python3"
  },
  "language_info": {
   "codemirror_mode": {
    "name": "ipython",
    "version": 3
   },
   "file_extension": ".py",
   "mimetype": "text/x-python",
   "name": "python",
   "nbconvert_exporter": "python",
   "pygments_lexer": "ipython3",
   "version": "3.6.8"
  }
 },
 "nbformat": 4,
 "nbformat_minor": 0
}