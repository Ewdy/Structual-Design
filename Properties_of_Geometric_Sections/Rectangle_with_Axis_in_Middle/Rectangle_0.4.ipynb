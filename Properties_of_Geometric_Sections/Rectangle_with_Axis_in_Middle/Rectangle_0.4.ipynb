{
 "cells": [
  {
   "cell_type": "markdown",
   "metadata": {
    "collapsed": false
   },
   "source": [
    "Rectangle - Neutral Axis in Middle - Rev 0.4"
   ]
  },
  {
   "cell_type": "markdown",
   "metadata": {
    "collapsed": false
   },
   "source": [
    "**Abstract:**  \n",
    "Given: breadth or width b and depth or height d and units of each  \n",
    "Returns: Area, Section Modulus, Plastic Modulus, Second Moment of Inertia, Radius of Gyration, and distance to centroid  \n",
    "\n",
    "**Instructions:**  \n",
    "Enter breadth, depth and units below the following code cell:"
   ]
  },
  {
   "cell_type": "code",
   "execution_count": 1,
   "metadata": {
    "collapsed": false,
    "deletable": false,
    "editable": false,
    "jupyter": {
     "source_hidden": true
    },
    "scrolled": true
   },
   "outputs": [
    {
     "data": {
      "image/jpeg": "[encoded data removed]",
      "text/plain": [
       "<IPython.core.display.Image object>"
      ]
     },
     "execution_count": 1,
     "metadata": {
     },
     "output_type": "execute_result"
    }
   ],
   "source": [
    "from IPython.display import Image\n",
    "Image(\n",
    "    filename=\"./Rectangle_with_Neutral_Axis_in_centre.JPG\",\n",
    "    embed=True\n",
    ")"
   ]
  },
  {
   "cell_type": "code",
   "execution_count": 2,
   "metadata": {
    "collapsed": false,
    "deletable": false,
    "editable": true,
    "jupyter": {
     "source_hidden": false
    }
   },
   "outputs": [
    {
     "name": "stdout",
     "output_type": "stream",
     "text": [
      "Enter dimensions and units below.\n",
      "Note: Press ENTER after changing value in floating point text boxes to register changes.\n"
     ]
    },
    {
     "data": {
      "application/vnd.jupyter.widget-view+json": {
       "model_id": "35b97a91cd7448d19cb37ab018345e22",
       "version_major": 2,
       "version_minor": 0
      },
      "text/plain": [
       "HBox(children=(Label(value='Width or breadth, $b$:'), FloatSlider(value=89.0, max=99999.0, step=0.001), Dropdo…"
      ]
     },
     "execution_count": 2,
     "metadata": {
     },
     "output_type": "execute_result"
    },
    {
     "data": {
      "application/vnd.jupyter.widget-view+json": {
       "model_id": "8613717a346c48d581bdfb9d385b33bc",
       "version_major": 2,
       "version_minor": 0
      },
      "text/plain": [
       "HBox(children=(Label(value='Height or depth, $d$:'), FloatSlider(value=89.0, max=99999.0, step=0.001), Dropdow…"
      ]
     },
     "execution_count": 2,
     "metadata": {
     },
     "output_type": "execute_result"
    },
    {
     "data": {
      "application/vnd.jupyter.widget-view+json": {
       "model_id": "1cdac633330e483e8be9f234ad2410fa",
       "version_major": 2,
       "version_minor": 0
      },
      "text/plain": [
       "HBox(children=(Label(value='Desired unit for results:'), Dropdown(description='Unit', options=('mm', 'cm', 'm'…"
      ]
     },
     "execution_count": 2,
     "metadata": {
     },
     "output_type": "execute_result"
    },
    {
     "name": "stdout",
     "output_type": "stream",
     "text": [
      "\n",
      "NOTE: AFTER entering dimensions and units above, FIRST, CLICK on the cell directly below this,\n",
      " THEN--using Menus above--\n",
      " CLICK \"Cell/Run all Below\" to update the Notebook\n"
     ]
    }
   ],
   "source": [
    "# Setup units\n",
    "from pint import UnitRegistry\n",
    "unit = UnitRegistry()\n",
    "quantity = unit.Quantity\n",
    "unit.default_format = '~' # ~ for unit abreviations, P for pretty print, or both\n",
    "# Define symbols for common units\n",
    "m = unit.meter; mm = unit.millimeter; cm = unit.centimeter;\n",
    "inch = unit.inch; ft = unit.foot;\n",
    "unit_choices = ['mm', 'cm', 'm', 'inch', 'ft',]\n",
    "kN = unit.kilonewton; MPa = unit.megapascal; psi = unit.psi\n",
    "\n",
    "# Setup widgets for interactivity\n",
    "from ipywidgets import interact, interactive, fixed, interact_manual, HBox, Label\n",
    "import ipywidgets as widgets\n",
    "from IPython.display import display\n",
    "\n",
    "widget_b_label = widgets.Label('Width or breadth, $b$:')\n",
    "widget_b = widgets.FloatSlider(\n",
    "    value = 89.0,\n",
    "    min = 0.0,\n",
    "    max = 99999,\n",
    "    step = 0.001,\n",
    "    disabled = False,\n",
    ")\n",
    "widget_b_units = widgets.Dropdown(\n",
    "    options = unit_choices,\n",
    "    value = 'mm',\n",
    "    description = 'Unit',\n",
    "    disabled = False,\n",
    "    )\n",
    "\n",
    "widget_d_label = widgets.Label('Height or depth, $d$:')\n",
    "widget_d = widgets.FloatSlider(\n",
    "    value = 89.0,\n",
    "    min = 0.0,\n",
    "    max = 99999,\n",
    "    step = 0.001,\n",
    "    disabled = False,\n",
    ")\n",
    "widget_d_units = widgets.Dropdown(\n",
    "    options = unit_choices,\n",
    "    value = 'mm',\n",
    "    description = 'Unit',\n",
    "    disabled = False,\n",
    "    )\n",
    "\n",
    "widget_output_label = widgets.Label('Desired unit for results:')\n",
    "widget_output_units = widgets.Dropdown(\n",
    "    options = unit_choices,\n",
    "    value = 'mm',\n",
    "    description = 'Unit',\n",
    "    disabled = False,\n",
    "    )\n",
    "\n",
    "# Display instructions and widgets to user\n",
    "print('Enter dimensions and units below.')\n",
    "print('Note: Press ENTER after changing value in floating point text boxes to register changes.')\n",
    "display(\n",
    "    HBox([widget_b_label, widget_b, widget_b_units, ]),\n",
    "    HBox([widget_d_label, widget_d, widget_d_units, ]),\n",
    "    HBox([widget_output_label, widget_output_units]),\n",
    "    )\n",
    "print('')\n",
    "print('NOTE: AFTER entering dimensions and units above,', \n",
    "      'FIRST, CLICK on the cell directly below this,\\n',\n",
    "      'THEN--using Menus above--\\n',\n",
    "      'CLICK \"Cell/Run all Below\" to update the Notebook')"
   ]
  },
  {
   "cell_type": "code",
   "execution_count": 4,
   "metadata": {
    "collapsed": false,
    "jupyter": {
     "source_hidden": true
    }
   },
   "outputs": [
    {
     "name": "stdout",
     "output_type": "stream",
     "text": [
      "Given:\n",
      " Width or breadth, b = 38.1 mm and\n",
      " Height or depth, d = 88.9 mm\n",
      "\n",
      "Geometric Properties:\n",
      " Area, A = 3387.09 mm ** 2\n",
      " Major Elastic Section Modulus, Sx = 50185.4 mm ** 3\n",
      " Minor Elastic Section Modulus, Sy = 21508 mm ** 3\n",
      " Major Plastic Section Modulus, Zx = 75278.1 mm ** 3\n",
      " Minor Plastic Section Modulus, Zy = 32262 mm ** 3\n",
      " Major Second Moment of Inertia, Ix = 2.23074e+06 mm ** 4\n",
      " Minor Second Moment of Inertia, Iy = 409728 mm ** 4\n",
      " Major Radius of Gyration, rx = 25.6632 mm\n",
      " Minor Radius of Gyration, ry = 10.9985 mm\n",
      " Distance from Major Axis to Extreme Fibre, cx = 44.45 mm\n",
      " Distance from Minor Axis to Extreme Fibre, cy = 19.05 mm\n"
     ]
    }
   ],
   "source": [
    "b = quantity(widget_b.value, widget_b_units.value)\n",
    "d = quantity(widget_d.value, widget_d_units.value)\n",
    "\n",
    "# Convert b and d to desired output units\n",
    "b.ito(widget_output_units.value)\n",
    "d.ito(widget_output_units.value)\n",
    "\n",
    "# Derive Geometric Properties - See bottom of notebook for pretty formulas\n",
    "A = b*d\n",
    "Sx = (b*d**2)/6\n",
    "Sy = (d*b**2)/6\n",
    "Zx = (b*d**2)/4\n",
    "Zy = (d*b**2)/4\n",
    "Ix = (b*d**3)/12\n",
    "Iy = (d*b**3)/12\n",
    "rx = d/(12**0.5)\n",
    "ry = b/(12**0.5)\n",
    "cx = d/2\n",
    "cy = b/2\n",
    "\n",
    "# Define Output\n",
    "print('Given:')\n",
    "print(' Width or breadth, b = {0:n} {1} and'.format(b.magnitude, b.units))\n",
    "print(' Height or depth, d = {0:n} {1}'.format(d.magnitude, d.units))\n",
    "print('')\n",
    "print('Geometric Properties:')\n",
    "print(' Area, A = {0:n} {1}'.format(A.magnitude, A.units))\n",
    "print(' Major Elastic Section Modulus, Sx = {0:n} {1}'.format(Sx.magnitude,\n",
    "    Sx.units))\n",
    "print(' Minor Elastic Section Modulus, Sy = {0:n} {1}'.format(Sy.magnitude,\n",
    "    Sy.units))\n",
    "print(' Major Plastic Section Modulus, Zx = {0:n} {1}'.format(Zx.magnitude,\n",
    "    Zx.units))\n",
    "print(' Minor Plastic Section Modulus, Zy = {0:n} {1}'.format(Zy.magnitude,\n",
    "    Zy.units))\n",
    "print(' Major Second Moment of Inertia, Ix = {0:n} {1}'.format(Ix.magnitude,\n",
    "    Ix.units))\n",
    "print(' Minor Second Moment of Inertia, Iy = {0:n} {1}'.format(Iy.magnitude,\n",
    "    Iy.units))\n",
    "print(' Major Radius of Gyration, rx = {0:n} {1}'.format(rx.magnitude,\n",
    "    rx.units))\n",
    "print(' Minor Radius of Gyration, ry = {0:n} {1}'.format(ry.magnitude,\n",
    "    ry.units))\n",
    "print(' Distance from Major Axis to Extreme Fibre, cx = {0:n} {1}'.format(\n",
    "    cx.magnitude, cx.units))\n",
    "print(' Distance from Minor Axis to Extreme Fibre, cy = {0:n} {1}'.format(\n",
    "    cy.magnitude, cy.units))"
   ]
  },
  {
   "cell_type": "markdown",
   "metadata": {
    "collapsed": false
   },
   "source": [
    "**Formulas:**  \n",
    "\n",
    "Area, $A = bd$  \n",
    "Elastic Section Modulus, $S_x = bd^2/6$, $S_y = db^2/6$  \n",
    "Plastic Section Modulus, $Z_x = bd^2/4$, $Z_y = db^2/4$  \n",
    "Second Moment of Inertia, $I_x = bd^3/12$, $I_y = db^3/12$  \n",
    "Radius of Gyration, $r_x = d/\\sqrt12$, $r_y = b/\\sqrt12$  \n",
    "Distance from bottom left corner to centroid, $c_x = d/2$, $c_y = b/2$  "
   ]
  },
  {
   "cell_type": "markdown",
   "metadata": {
    "collapsed": false
   },
   "source": [
    "**Revision History:**  \n",
    "- Rev 0.4  23-Jun-2019 E.Durham Added widgets for input of dimensions and units and graphic\n",
    "- Rev 0.3  19-Jun-2019 E.Durham Added units  \n",
    "- Rev 0.2  18-Jun-2019 E.Durham Added Plastic Section Modulus and revised formatting  \n",
    "- Rev 0.0  28-Mar-2019 E.Durham Created notebook using Figure 11.4 from Wood Design Manual 2017"
   ]
  },
  {
   "cell_type": "markdown",
   "metadata": {
    "collapsed": false
   },
   "source": [
    "**ToDo / Issues:**\n",
    "- Add interaction to formulas so that values are immediately updated as user updates dimensions and units so that the user does not need to re-run each of the cells to get results\n",
    "- Add demonstration of symPy package\n",
    "- Floating point text boxes do not show more than 2 digits\n",
    "- Add autoscaling or right-sizing to rounding function and then results"
   ]
  }
 ],
 "metadata": {
  "kernelspec": {
   "display_name": "Python 3 (Ubuntu Linux)",
   "language": "python",
   "metadata": {
    "cocalc": {
     "description": "Python 3 programming language",
     "priority": 100,
     "url": "https://www.python.org/"
    }
   },
   "name": "python3"
  },
  "language_info": {
   "codemirror_mode": {
    "name": "ipython",
    "version": 3
   },
   "file_extension": ".py",
   "mimetype": "text/x-python",
   "name": "python",
   "nbconvert_exporter": "python",
   "pygments_lexer": "ipython3",
   "version": "3.6.8"
  }
 },
 "nbformat": 4,
 "nbformat_minor": 0
}