{
 "cells": [
  {
   "cell_type": "markdown",
   "metadata": {
    "collapsed": false,
    "editable": true,
    "jupyter": {
    }
   },
   "source": [
    "Figure 2 from DA6 by American Wood Council, 2007\n",
    "\n",
    "Revision History:\n",
    "- 1.0 26-Jul-2019 E.Durham added deflection calculation using equivalent point loads\n",
    "- 0.0 25-Jul-2019 E.Durham created initial notebook from Beam_1.1.ipynb.\n",
    "\n",
    "TODO:\n",
    "- Add test data and expected results"
   ]
  },
  {
   "cell_type": "markdown",
   "metadata": {
    "collapsed": false,
    "editable": true,
    "jupyter": {
    }
   },
   "source": [
    "Beam Case: Simply Supported Beam - Uniform Load Partially Distributed\n",
    "\n",
    "When Given the following values:\n",
    "- span of beam, L in one of the listed length units\n",
    "- magnitude of load, w in one of the listed force units per unit of length\n",
    "- distance from left end of beam to start of load, a in one of the listed length units\n",
    "- length of uniform load, b in one of the listed length units\n",
    "- distance from left end of beam to point of interest, x in one of the listed length units\n",
    "- EI of member, use 1 * N * mm**2 if unknown; otherwise\n",
    "    - E is Young's Modulus in one of the listed pressure units\n",
    "    - I is Second Moment of Area in one of the listed length units to the 4th power\n",
    "- number of samples along beam, SAMPLE_SIZE in integer\n",
    "\n",
    "This notebook will derive the following:\n",
    "- distance from right end of load to right end of beam, c\n",
    "- reactions at ends of beams, R_1 and R_2\n",
    "- plot graphs of shear, moment and deflection\n",
    "- and list maximum values for each\n",
    "\n",
    "Acceptable units:\n",
    "- Length: m, mm, inch, foot\n",
    "- Force: N, kN, lbf, kip\n",
    "- Pressure: kPa, MPa, psi, ksi"
   ]
  },
  {
   "cell_type": "code",
   "execution_count": 1,
   "metadata": {
    "collapsed": false,
    "editable": false,
    "jupyter": {
     "source_hidden": true
    }
   },
   "outputs": [
   ],
   "source": [
    "import numpy as np\n",
    "\n",
    "# Pint Unit Library\n",
    "from pint import UnitRegistry\n",
    "unit = UnitRegistry()\n",
    "Q_ = unit.Quantity\n",
    "unit.default_format = '~' # ~ for unit abreviations, P for prettyprint, or both\n",
    "# Define symbols for common units\n",
    "# Length\n",
    "m = unit.meter; mm = unit.millimeter; inch = unit.inch; foot = unit.foot;\n",
    "# Force\n",
    "N = unit.newton; kN = unit.kilonewton; lbf = unit.pound_force; kip = unit.kip\n",
    "# Pressure\n",
    "kPa = unit.kilopascal; MPa = unit.megapascal; psi = unit.psi; ksi = unit.ksi;\n",
    "# Mass\n",
    "kg = unit.kilogram; lbs = unit.pound;\n",
    "# Acceleration\n",
    "g_0 = unit.standard_gravity"
   ]
  },
  {
   "cell_type": "code",
   "execution_count": 2,
   "metadata": {
    "collapsed": false
   },
   "outputs": [
   ],
   "source": [
    "# ======= ========= ========= ========= ========= ========= ========= =========\n",
    "# USER: Enter case values using units listed above\n",
    "# force; Example: w = 1 * N / mm\n",
    "w = 10 * N / mm\n",
    "# distance from left end of beam to point of load; Example a = 1000 * mm\n",
    "a = 1950 * mm\n",
    "# length of uniform load, b; Example b = 1000 * mm\n",
    "b = 100 * mm\n",
    "# span of beam; Example L = 3000 * mm\n",
    "L = 4000 * mm\n",
    "EI = 1 * N*mm**2 # default, otherwise enter E and I below\n",
    "# Young's Modulus for material; Example E = 200000 * MPa\n",
    "E = 200000 * MPa\n",
    "# Second Moment of Area for shape; Example I = 0.145*10**6 * mm**4\n",
    "I = 0.145*10**6 * mm**4 \n",
    "SAMPLE_SIZE = 99 # number of points within beam to compute, 99 is common\n",
    "# USER: Enter case values above. Altering anything below can be harmful.\n",
    "# ======= ========= ========= ========= ========= ========= ========= ========="
   ]
  },
  {
   "cell_type": "code",
   "execution_count": 3,
   "metadata": {
    "collapsed": false,
    "editable": false,
    "jupyter": {
     "source_hidden": true
    }
   },
   "outputs": [
   ],
   "source": [
    "DEBUG = False\n",
    "# convert units of user variables to newton for force and millimetres for distance\n",
    "try :\n",
    "    w.ito(N/mm)\n",
    "    a.ito(mm)\n",
    "    b.ito(mm)\n",
    "    L.ito(mm)\n",
    "    SAMPLE_SIZE = int(SAMPLE_SIZE)\n",
    "    EI = (E*I).to(N*mm**2)\n",
    "except:\n",
    "    print('ERROR: The user entered values cannot be converted to expected units. Results below are highly suspect.')\n",
    "    print('Please, re-enter user values using accepted units and re-run notebook')\n",
    "# Derive distance c\n",
    "c = L - (a + b)\n",
    "# Calculate Reactions\n",
    "# reaction at left support\n",
    "R_1 = ((w*b)/(2*L))*(2*c + b) # max when a < c\n",
    "# reaction at right support\n",
    "R_2 = ((w*b)/(2*L))*(2*a + b) # max when a < c\n",
    "# Derive Shear V_1 and V_2\n",
    "V_1 = R_1\n",
    "V_2 = R_2\n",
    "# Derive max moment\n",
    "M_max_value = str(round((R_1*(a+(R_1/(2*w)))),3))\n",
    "M_max_location = a + (R_1/w)\n",
    "# TODO: Derive max deflection\n",
    "# D_max_value = \n",
    "# D_max_value = str(round(D_max_value, 3))\n",
    "# D_max_location = \n",
    "# D_max_location = \n",
    "\n",
    "def shear_x(x, w, a, b, L):\n",
    "    \"\"\"\n",
    "    Determine shear for simple beam w/ partial uniformly distributed load at any position x.\n",
    "    \n",
    "    where\n",
    "    x = distance from left end of beam to point of interest\n",
    "    w = uniform load\n",
    "    a = distance from left end of beam to start of load\n",
    "    b = length of uniform load\n",
    "    L = length of span of beam\n",
    "\n",
    "    The function does not allign units. Units of x, a, b and L must be identical. \n",
    "\n",
    "    Returns value of shear at x in units_of_w * units_of_L\n",
    "    \n",
    "    \"\"\"\n",
    "    c = L - (a + b) # derive c given a, b and L\n",
    "    R_1 = ((w*b)/(2*L))*(2*c + b)\n",
    "    R_2 = ((w*b)/(2*L))*(2*a + b)\n",
    "    if x >= 0*x.units and x <= a:\n",
    "        V_x = R_1\n",
    "    elif x >= (a+b) and x <= L:\n",
    "        V_x = -R_2\n",
    "    elif x > a and x < (a+b):\n",
    "        V_x = R_1 - w*(x-a)\n",
    "    else:\n",
    "        V_x = float('NaN')\n",
    "        print(\"Error: x cannot be less than 0 or greater than L which is {} in this case\".format(L))\n",
    "    return V_x\n",
    "\n",
    "def moment_x(x, w, a, b, L):\n",
    "    \"\"\"\n",
    "    Determine moment for simple beam w/ concentrated load at any position x.\n",
    "\n",
    "    where\n",
    "    x = distance from left end of beam to point of interest\n",
    "    w = uniform load\n",
    "    a = distance from left end of beam to point of load\n",
    "    b = length of uniform load\n",
    "    L = length of span of beam\n",
    "\n",
    "    The function does not allign units. Units of x, a, b and L must be identical. \n",
    "\n",
    "    Returns value of moment at x in units_of_P * units_of_x\n",
    "    \"\"\"\n",
    "    c = L - (a + b) # derive c given a, b and L\n",
    "    R_1 = ((w*b)/(2*L))*(2*c + b)\n",
    "    R_2 = ((w*b)/(2*L))*(2*a + b)\n",
    "    if x >= 0*x.units and x < a:\n",
    "        M_x = R_1*x\n",
    "    elif x >= a and x <= (a+b):\n",
    "        M_x = R_1*x - ((w/2)*(x-a)**2)\n",
    "    elif x > (a+b):\n",
    "        M_x = R_2*(L-x)\n",
    "    else:\n",
    "        M_x = float('NaN')\n",
    "        print(\"Error: x cannot be less than 0 or greater than L which is {} in this case\".format(L))\n",
    "    return M_x\n",
    "\n",
    "def deflection_x(x, w, a, b, L, EI=1):\n",
    "    \"\"\"\n",
    "    Determine deflection for simple beam w/ partial uniform load at any position x.\n",
    "\n",
    "    where\n",
    "    x = distance from left end of beam to point of interest\n",
    "    w = uniform load\n",
    "    a = distance from left end of beam to start of load\n",
    "    b = length of uniform load\n",
    "    L = length of span of beam\n",
    "    EI = modulus of elasticity of material in units_of_P / units_of_L**2 times\n",
    "    second moment of area in units_of_L**4. Thus, EI is in units_of_P * units_of_L**2.\n",
    "    Default value for EI is 1 in which case values returned are overstated by actual value\n",
    "    of EI. That is, to determine deflection for a given EI, divide deflection here by\n",
    "    actual value of EI.\n",
    "\n",
    "    The function does not allign units. Units of x, a, b and L must be identical. \n",
    "\n",
    "    Returns value of deflection at x in units_of_L\n",
    "    \"\"\"\n",
    "    c = L - (a + b) # derive c given a, b and L\n",
    "    R_1 = ((w*b)/(2*L))*(2*c + b)\n",
    "    R_2 = ((w*b)/(2*L))*(2*a + b)\n",
    "    deflection_x = 0 * L.units\n",
    "    return deflection_x\n",
    "def deflection_1_x(x, P, a, L, EI=1):\n",
    "    \"\"\"\n",
    "    Determine deflection for simple beam w/ concentrated load at any position x.\n",
    "\n",
    "    where\n",
    "    x = distance from left end of beam to point of interest\n",
    "    P = concentrated load\n",
    "    a = distance from left end of beam to point of load\n",
    "    L = length of span of beam\n",
    "    EI = modulus of elasticity of material in units_of_P / units_of_L**2 times\n",
    "    second moment of area in units_of_L**4. Thus, EI is in units_of_P * units_of_L**2.\n",
    "    Default value for EI is 1 in which case values returned are overstated by actual value\n",
    "    of EI. That is, to determine deflection for a given EI, divide deflection here by\n",
    "    actual value of EI.\n",
    "\n",
    "    The function does not allign units. Units of x, a and L must be identical. \n",
    "\n",
    "    Returns value of deflection at x in units_of_L\n",
    "    \"\"\"\n",
    "    b = L - a # derive b given a and L\n",
    "    if x == a:\n",
    "        deflection_x = -(P*a**2*b**2)/(3*EI*L)\n",
    "    elif x >= 0*x.units and x < a:\n",
    "        deflection_x = -((P*b*x)/(6*EI*L))*(L**2-b**2-x**2)\n",
    "    elif x > a and x <= L:\n",
    "        deflection_x = -((P*a*(L-x))/(6*EI*L))*(2*L*x-x**2-a**2)\n",
    "    else:\n",
    "        deflection_x = float('NaN')\n",
    "        print(\"Error: x cannot be less than 0 or greater than L which is {} in this case\".format(L))\n",
    "    return deflection_x\n",
    "# convert partially distributed uniform load into equivalent point loads\n",
    "P_quantity = int((b/L)*SAMPLE_SIZE)\n",
    "Normal_Tributary_width = L/SAMPLE_SIZE\n",
    "P = (w*b)/P_quantity\n",
    "\n",
    "P_beam_position = np.linspace(0, L.magnitude, SAMPLE_SIZE)\n",
    "# array of point loads\n",
    "P_array = np.zeros(SAMPLE_SIZE)\n",
    "for i in range(SAMPLE_SIZE):\n",
    "    if i*Normal_Tributary_width < a:\n",
    "        P_array[i] = 0\n",
    "    elif i*Normal_Tributary_width >= a and i*Normal_Tributary_width <= (a+b):\n",
    "        P_array[i] = P.magnitude\n",
    "    else:\n",
    "        P_array[i] = 0\n",
    "\n",
    "# array of deflections\n",
    "rows = SAMPLE_SIZE\n",
    "cols = SAMPLE_SIZE\n",
    "P_beam = np.zeros((rows, cols))\n",
    "\n",
    "\n",
    "for i in range(rows):\n",
    "    for j in range(cols):\n",
    "        local_x = P_beam_position[j]*L.units\n",
    "        local_P = P_array[i]*(w.units/L.units)\n",
    "        local_a = (i*Normal_Tributary_width) # ???!!!???\n",
    "        local_L = L\n",
    "        local_EI = EI\n",
    "        P_beam[i, j] = deflection_1_x(local_x, local_P, local_a, local_L, local_EI).magnitude\n",
    "\n",
    "Agreement_Index = 1/(P_array.sum()/(w*b).magnitude)\n",
    "if DEBUG == True:\n",
    "    print('w = {}'.format(w))\n",
    "    print('L = {}'.format(L))\n",
    "    print('a = {}'.format(a))\n",
    "    print('b = {}'.format(b))\n",
    "    print('c = {}'.format(c))\n",
    "    print('P_quantity: {}'.format(P_quantity))\n",
    "    print('Normal_Tributary_width: {}'.format(Normal_Tributary_width))\n",
    "    print('Agreement_Index (1.0 is ideal): {}'.format(Agreement_Index.magnitude))\n",
    "    print('P is {}'.format(P))\n",
    "    print('P_array is')\n",
    "    print(P_array)\n",
    "    print('P_beam is')\n",
    "    print(P_beam)"
   ]
  },
  {
   "cell_type": "code",
   "execution_count": 4,
   "metadata": {
    "collapsed": false,
    "editable": false,
    "jupyter": {
     "source_hidden": true
    }
   },
   "outputs": [
   ],
   "source": [
    "# create beam array and load with position, shear, moment and deflection values\n",
    "beam = np.zeros((4, SAMPLE_SIZE))\n",
    "POSITION = 0 # array row for position along the beam\n",
    "SHEAR = 1 # array row for shear along the beam\n",
    "MOMENT = 2\n",
    "DEFLECTION = 3\n",
    "beam[POSITION, : ] = np.linspace(0, L.magnitude, SAMPLE_SIZE) # position\n",
    "for i in range(SAMPLE_SIZE):\n",
    "    beam[SHEAR, i] = shear_x(beam[POSITION, i]*L.units, w, a, b, L).magnitude # stuff shear values\n",
    "    beam[MOMENT, i] = moment_x(beam[POSITION, i]*L.units, w, a, b, L).magnitude # stuff moment values\n",
    "    beam[DEFLECTION, i] = P_beam[  : , i ].sum() # stuff deflection values"
   ]
  },
  {
   "cell_type": "code",
   "execution_count": 5,
   "metadata": {
    "collapsed": false,
    "editable": false,
    "jupyter": {
     "source_hidden": true
    },
    "scrolled": true
   },
   "outputs": [
    {
     "data": {
      "image/png": "[encoded data removed]",
      "text/plain": [
       "<Figure size 432x288 with 1 Axes>"
      ]
     },
     "execution_count": 5,
     "metadata": {
      "image/png": {
       "height": 277,
       "width": 399
      }
     },
     "output_type": "execute_result"
    },
    {
     "name": "stdout",
     "output_type": "stream",
     "text": [
      "Left Reaction = V_1 = 500.0 N\n",
      "Right Reaction = -V_2 = 500.0 N\n"
     ]
    }
   ],
   "source": [
    "# plot shear diagram with matplotlib\n",
    "import matplotlib.pyplot as plt\n",
    "plt.ion()\n",
    "# %matplotlib inline\n",
    "ax = plt.plot(beam[POSITION, : ], beam[SHEAR, : ])\n",
    "plt.grid(b=True, which='both', axis='both')\n",
    "plt.xlabel(str('X [' + str(L.units) + ']'))\n",
    "plt.ylabel(str('V [' + str(V_1.units) + ']'))\n",
    "plt.title('Shear Diagram')\n",
    "# plt.legend()\n",
    "# cursor = Cursor(ax, useblit=True, color='red', linewidth=2)\n",
    "plt.show()\n",
    "print('Left Reaction = V_1 = {}'.format(round(R_1, 3)))\n",
    "print('Right Reaction = -V_2 = {}'.format(round(R_2, 3)))"
   ]
  },
  {
   "cell_type": "code",
   "execution_count": 6,
   "metadata": {
    "collapsed": false,
    "editable": false,
    "jupyter": {
     "source_hidden": true
    }
   },
   "outputs": [
    {
     "data": {
      "image/png": "[encoded data removed]",
      "text/plain": [
       "<Figure size 432x288 with 1 Axes>"
      ]
     },
     "execution_count": 6,
     "metadata": {
      "image/png": {
       "height": 277,
       "width": 416
      }
     },
     "output_type": "execute_result"
    },
    {
     "name": "stdout",
     "output_type": "stream",
     "text": [
      "Maximum moment at 2000.0 mm is 987500.0 N * mm\n"
     ]
    }
   ],
   "source": [
    "# from matplotlib.widgets import Cursor\n",
    "bx = plt.plot(beam[POSITION, : ], beam[MOMENT, : ])\n",
    "plt.grid(b=True, which='both', axis='both')\n",
    "plt.xlabel(str('X [' + str(L.units) + ']'))\n",
    "plt.ylabel(str('M [' + str(V_1.units * L.units) + ']'))\n",
    "plt.title('Moment Diagram')\n",
    "# plt.legend()\n",
    "# cursor = Cursor(ax, useblit=True, color='red', linewidth=2)\n",
    "plt.show()\n",
    "print('Maximum moment at {} is {}'.format(M_max_location, M_max_value))"
   ]
  },
  {
   "cell_type": "code",
   "execution_count": 7,
   "metadata": {
    "collapsed": false,
    "editable": false,
    "jupyter": {
     "source_hidden": true
    }
   },
   "outputs": [
    {
     "data": {
      "image/png": "[encoded data removed]",
      "text/plain": [
       "<Figure size 432x288 with 1 Axes>"
      ]
     },
     "execution_count": 7,
     "metadata": {
      "image/png": {
       "height": 277,
       "width": 393
      }
     },
     "output_type": "execute_result"
    },
    {
     "name": "stdout",
     "output_type": "stream",
     "text": [
      "Location of maximum deflection: 2000.0 mm\n",
      "Value of maximum deflection: -45.97 mm\n",
      "Agreement_Index:  1.0\n",
      "(1.0 is ideal, < 0.95 means sample size is too small and deflection values are spurious!)\n"
     ]
    }
   ],
   "source": [
    "# plot deflection diagram\n",
    "cx = plt.plot(beam[POSITION, : ], beam[DEFLECTION, : ])\n",
    "plt.grid(b=True, which='both', axis='both')\n",
    "plt.xlabel(str('X [' + str(L.units) + ']'))\n",
    "plt.ylabel('$\\Delta$'+ ' [' + str(L.units) + ']')\n",
    "plt.title('Deflection Diagram')\n",
    "# plt.legend()\n",
    "plt.show()\n",
    "# print('Maximum deflection at {} is {}'.format(D_max_location, D_max_value))\n",
    "D_index = beam[DEFLECTION, : ].argmin()\n",
    "D_value = beam[DEFLECTION, D_index]\n",
    "D_location = beam[POSITION, D_index]\n",
    "\n",
    "print('Location of maximum deflection: {} mm'.format(round(D_location, 4)))\n",
    "print('Value of maximum deflection: {} mm'.format(round(D_value, 4)))\n",
    "print('Agreement_Index:  {}'.format(Agreement_Index))\n",
    "print('(1.0 is ideal, < 0.95 means sample size is too small and deflection values are spurious!)')"
   ]
  },
  {
   "cell_type": "markdown",
   "metadata": {
    "collapsed": false,
    "editable": false
   },
   "source": [
    "End of Results\n",
    "\n",
    "Test and ancillary data is below in hidden cells.\n",
    "\n",
    "To view test data:\n",
    "- Select cells below\n",
    "- Then click \"Edit\" on the menu\n",
    "- Then click \"Toggle Hide Input of Cells\""
   ]
  },
  {
   "cell_type": "raw",
   "metadata": {
    "collapsed": false,
    "editable": false,
    "jupyter": {
     "outputs_hidden": false,
     "source_hidden": true
    }
   },
   "source": [
    "# Begin of Test and ancillary data\n",
    "# Test Data\n",
    "P = 1000 * N\n",
    "a = 1000 * mm\n",
    "L = 4000 * mm\n",
    "E = 200000 * MPa\n",
    "I = 0.145*10**6 * mm**4"
   ]
  },
  {
   "cell_type": "raw",
   "metadata": {
    "collapsed": false,
    "editable": false,
    "jupyter": {
     "source_hidden": true
    }
   },
   "source": [
    "# STAAD Model\n",
    "STAAD SPACE\n",
    "START JOB INFORMATION\n",
    "ENGINEER DATE 24-Jul-19\n",
    "END JOB INFORMATION\n",
    "INPUT WIDTH 79\n",
    "UNIT METER KN\n",
    "JOINT COORDINATES\n",
    "1 0 0 0; 2 0 0 4;\n",
    "MEMBER INCIDENCES\n",
    "1 1 2;\n",
    "DEFINE MATERIAL START\n",
    "ISOTROPIC STEEL\n",
    "E 2.05e+008\n",
    "POISSON 0.3\n",
    "DENSITY 76.8195\n",
    "ALPHA 1.2e-005\n",
    "DAMP 0.03\n",
    "TYPE STEEL\n",
    "STRENGTH FY 253200 FU 407800 RY 1.5 RT 1.2\n",
    "ISOTROPIC 350W\n",
    "E 2e+008\n",
    "POISSON 0.3\n",
    "DENSITY 76.9822\n",
    "ALPHA 1.17e-005\n",
    "G 7.7e+007\n",
    "TYPE STEEL\n",
    "STRENGTH FY 350000 FU 450000 RY 1 RT 1\n",
    "END DEFINE MATERIAL\n",
    "MEMBER PROPERTY CANADIAN\n",
    "1 TABLE ST HSSP48x4.8HA\n",
    "CONSTANTS\n",
    "MATERIAL 350W ALL\n",
    "SUPPORTS\n",
    "1 2 PINNED\n",
    "MEMBER RELEASE\n",
    "1 START MP 0.999\n",
    "LOAD 1 LOADTYPE None  TITLE LOAD CASE 1\n",
    "MEMBER LOAD\n",
    "1 CON GY -1 1\n",
    "PERFORM ANALYSIS\n",
    "FINISH"
   ]
  },
  {
   "cell_type": "raw",
   "metadata": {
    "collapsed": false,
    "editable": false,
    "jupyter": {
     "source_hidden": true
    }
   },
   "source": [
    "# STAAD Results\n",
    "V_max_pos = 0.75 kN at 0.00 mm\n",
    "V_max_neg = -0.25 kN at 4000.00 mm\n",
    "M_max = -0.75 kN-m at 1000 mm\n",
    "D_max = -32.127 mm at 1763 mm"
   ]
  },
  {
   "cell_type": "raw",
   "metadata": {
    "collapsed": false,
    "editable": false,
    "jupyter": {
     "source_hidden": true
    }
   },
   "source": [
    "# Notebook test results\n",
    "Maximum moment at 1000 mm is 750000.0 N * mm\n",
    "beam[DEFLECTION, : ].min() = D_max = -32.126661002047484 mm\n",
    "beam[SHEAR, : ].max() = V_max_pos = 750.0 newton\n",
    "beam[SHEAR, : ].min() = V_max_neg = -250.0 newton"
   ]
  },
  {
   "cell_type": "code",
   "execution_count": 8,
   "metadata": {
    "collapsed": false,
    "editable": false,
    "jupyter": {
     "source_hidden": true
    },
    "scrolled": true
   },
   "outputs": [
    {
     "name": "stdout",
     "output_type": "stream",
     "text": [
      "49\n",
      "-45.96999860678092\n",
      "2000.0\n"
     ]
    }
   ],
   "source": [
    "D_index = beam[DEFLECTION, : ].argmin()\n",
    "D_value = beam[DEFLECTION, D_index]\n",
    "D_location = beam[POSITION, D_index]\n",
    "print(D_index)\n",
    "print(D_value)\n",
    "print(D_location)"
   ]
  },
  {
   "cell_type": "code",
   "execution_count": 9,
   "metadata": {
    "collapsed": false,
    "editable": false,
    "jupyter": {
     "source_hidden": true
    },
    "scrolled": true
   },
   "outputs": [
    {
     "data": {
      "text/html": [
       "200000000.0 kilonewton/meter<sup>2</sup>"
      ],
      "text/latex": [
       "$200000000.0\\ \\frac{\\mathrm{kilonewton}}{\\mathrm{meter}^{2}}$"
      ],
      "text/plain": [
       "<Quantity(200000000.0, 'kilonewton / meter ** 2')>"
      ]
     },
     "execution_count": 9,
     "metadata": {
     },
     "output_type": "execute_result"
    }
   ],
   "source": [
    "F_y = 350*MPa\n",
    "F_y.ito(kN/m**2)\n",
    "E.to(kN/m**2)"
   ]
  },
  {
   "cell_type": "code",
   "execution_count": 10,
   "metadata": {
    "collapsed": false,
    "editable": false,
    "jupyter": {
     "source_hidden": true
    },
    "scrolled": true
   },
   "outputs": [
    {
     "data": {
      "text/html": [
       "76.9822025 kilonewton/meter<sup>3</sup>"
      ],
      "text/latex": [
       "$76.9822025\\ \\frac{\\mathrm{kilonewton}}{\\mathrm{meter}^{3}}$"
      ],
      "text/plain": [
       "<Quantity(76.9822025, 'kilonewton / meter ** 3')>"
      ]
     },
     "execution_count": 10,
     "metadata": {
     },
     "output_type": "execute_result"
    }
   ],
   "source": [
    "steel_density = 7850 * kg/m**3\n",
    "steel_density_for_STAAD = steel_density * g_0\n",
    "steel_density_for_STAAD.ito(kN/m**3)\n",
    "steel_density_for_STAAD"
   ]
  },
  {
   "cell_type": "code",
   "execution_count": 11,
   "metadata": {
    "collapsed": false,
    "editable": false,
    "jupyter": {
     "source_hidden": true
    },
    "scrolled": true
   },
   "outputs": [
    {
     "data": {
      "text/html": [
       "77000000.0 kilonewton/meter<sup>2</sup>"
      ],
      "text/latex": [
       "$77000000.0\\ \\frac{\\mathrm{kilonewton}}{\\mathrm{meter}^{2}}$"
      ],
      "text/plain": [
       "<Quantity(77000000.0, 'kilonewton / meter ** 2')>"
      ]
     },
     "execution_count": 11,
     "metadata": {
     },
     "output_type": "execute_result"
    }
   ],
   "source": [
    "steel_shear_modulus = 77_000*MPa\n",
    "steel_shear_modulus.to(kN/m**2)"
   ]
  }
 ],
 "metadata": {
  "kernelspec": {
   "display_name": "Python 3 (system-wide)",
   "language": "python",
   "metadata": {
    "cocalc": {
     "description": "Python 3 programming language",
     "priority": 100,
     "url": "https://www.python.org/"
    }
   },
   "name": "python3"
  },
  "language_info": {
   "codemirror_mode": {
    "name": "ipython",
    "version": 3
   },
   "file_extension": ".py",
   "mimetype": "text/x-python",
   "name": "python",
   "nbconvert_exporter": "python",
   "pygments_lexer": "ipython3",
   "version": "3.6.8"
  }
 },
 "nbformat": 4,
 "nbformat_minor": 0
}