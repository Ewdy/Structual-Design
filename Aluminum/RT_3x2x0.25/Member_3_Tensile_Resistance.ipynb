{
 "cells": [
  {
   "cell_type": "markdown",
   "metadata": {
    "collapsed": false
   },
   "source": [
    "Case: Member 3 of 1.5m Wall Bracket"
   ]
  },
  {
   "cell_type": "code",
   "execution_count": 1,
   "metadata": {
    "collapsed": false
   },
   "outputs": [
   ],
   "source": [
    "from pint import UnitRegistry\n",
    "unit = UnitRegistry()\n",
    "# Define symbols for common units\n",
    "m = unit.meter; mm = unit.millimeter; inch = unit.inch;\n",
    "kN = unit.kilonewton; MPa = unit.megapascal; psi = unit.psi"
   ]
  },
  {
   "cell_type": "code",
   "execution_count": 2,
   "metadata": {
    "collapsed": false
   },
   "outputs": [
   ],
   "source": [
    "T_f = 46*kN; # Factored Tensile Load\n",
    "phi_y = 0.9;\n",
    "phi_u = 0.75;\n",
    "A_g = 2.25*inch**2; # Extrudex H-24170 RH 3x2x0.25\n",
    "A_g.ito(mm**2);\n",
    "F_y = 240*MPa # 6061-T6 drawn tube, per CSA S157-05 (R2015) Table 2\n",
    "F_u = 260*MPa"
   ]
  },
  {
   "cell_type": "code",
   "execution_count": 3,
   "metadata": {
    "collapsed": false
   },
   "outputs": [
    {
     "data": {
      "text/html": [
       "136.12876 millimeter<sup>2</sup>"
      ],
      "text/latex": [
       "$136.12876\\ \\mathrm{millimeter}^{2}$"
      ],
      "text/plain": [
       "136.12876 <Unit('millimeter ** 2')>"
      ]
     },
     "execution_count": 3,
     "metadata": {
     },
     "output_type": "execute_result"
    }
   ],
   "source": [
    "# Determine net area, A_n\n",
    "#   Area of bolt hole:\n",
    "dia = 0.844*inch # diameter of bolt hole\n",
    "t = 0.25*inch # wall thickness of aluminum tube\n",
    "b_area = dia*t\n",
    "b_area.ito(mm**2)\n",
    "# Thus, bolt area is:\n",
    "b_area"
   ]
  },
  {
   "cell_type": "code",
   "execution_count": 4,
   "metadata": {
    "collapsed": false
   },
   "outputs": [
    {
     "data": {
      "text/html": [
       "1179.35248 millimeter<sup>2</sup>"
      ],
      "text/latex": [
       "$1179.35248\\ \\mathrm{millimeter}^{2}$"
      ],
      "text/plain": [
       "1179.35248 <Unit('millimeter ** 2')>"
      ]
     },
     "execution_count": 4,
     "metadata": {
     },
     "output_type": "execute_result"
    }
   ],
   "source": [
    "# Net area for tension is thus:\n",
    "A_n = A_g - (2*b_area) # 2 bolt holes at each fastener, on each side\n",
    "A_n"
   ]
  },
  {
   "cell_type": "code",
   "execution_count": 5,
   "metadata": {
    "collapsed": false
   },
   "outputs": [
    {
     "data": {
      "text/html": [
       "313.54776 kilonewton"
      ],
      "text/latex": [
       "$313.54776\\ \\mathrm{kilonewton}$"
      ],
      "text/plain": [
       "313.54776 <Unit('kilonewton')>"
      ]
     },
     "execution_count": 5,
     "metadata": {
     },
     "output_type": "execute_result"
    }
   ],
   "source": [
    "# (a) check general case\n",
    "T_ra = phi_y*A_g*F_y\n",
    "T_ra.ito(kN)\n",
    "T_ra"
   ]
  },
  {
   "cell_type": "code",
   "execution_count": 6,
   "metadata": {
    "collapsed": false
   },
   "outputs": [
    {
     "data": {
      "text/html": [
       "229.9737336 kilonewton"
      ],
      "text/latex": [
       "$229.9737336\\ \\mathrm{kilonewton}$"
      ],
      "text/plain": [
       "229.9737336 <Unit('kilonewton')>"
      ]
     },
     "execution_count": 6,
     "metadata": {
     },
     "output_type": "execute_result"
    }
   ],
   "source": [
    "# (b) check with mechanical fasteners\n",
    "T_rb = phi_u*A_n*F_u\n",
    "T_rb.ito(kN)\n",
    "T_rb"
   ]
  },
  {
   "cell_type": "markdown",
   "metadata": {
    "collapsed": false
   },
   "source": [
    "Cases c and d are not applicable. Therefore, $T_r$ is:"
   ]
  },
  {
   "cell_type": "code",
   "execution_count": 7,
   "metadata": {
    "collapsed": false
   },
   "outputs": [
    {
     "data": {
      "text/html": [
       "229.9737336 kilonewton"
      ],
      "text/latex": [
       "$229.9737336\\ \\mathrm{kilonewton}$"
      ],
      "text/plain": [
       "229.9737336 <Unit('kilonewton')>"
      ]
     },
     "execution_count": 7,
     "metadata": {
     },
     "output_type": "execute_result"
    }
   ],
   "source": [
    "T_r = min(T_ra, T_rb)\n",
    "T_r"
   ]
  },
  {
   "cell_type": "markdown",
   "metadata": {
    "collapsed": false
   },
   "source": [
    "Utilization:"
   ]
  },
  {
   "cell_type": "code",
   "execution_count": 8,
   "metadata": {
    "collapsed": false
   },
   "outputs": [
    {
     "data": {
      "text/html": [
       "0.20002284295653144 dimensionless"
      ],
      "text/latex": [
       "$0.20002284295653144\\ dimensionless$"
      ],
      "text/plain": [
       "0.20002284295653144 <Unit('dimensionless')>"
      ]
     },
     "execution_count": 8,
     "metadata": {
     },
     "output_type": "execute_result"
    }
   ],
   "source": [
    "U_t = T_f / T_r\n",
    "U_t"
   ]
  },
  {
   "cell_type": "markdown",
   "metadata": {
    "collapsed": false
   },
   "source": [
    "# CSA S157-05 (R2015) Aluminum Strength Design Manual\n",
    "## 9.2 Members in Tension"
   ]
  },
  {
   "cell_type": "markdown",
   "metadata": {
    "collapsed": false
   },
   "source": [
    "The factored tensile resistance, $T_r$, of an axially loaded member shall be the least of the values given by the following formulas:"
   ]
  },
  {
   "cell_type": "markdown",
   "metadata": {
    "collapsed": false
   },
   "source": [
    "(a) general -- $T_r = \\phi_y A_g F_y$;  \n",
    "(b) with mechanical fasteners -- $T_r = \\phi_u A_n F_u$;  \n",
    "(c) with transverse butt welds -- $T_r = \\phi_u A_g F_{wu}$; and  \n",
    "(d) with longitudinal welds -- $T_r = \\phi_y A_m F_y$  \n",
    "\n",
    "where  \n",
    "\n",
    "$\\phi_y =$ resistance factor on the yield strength  \n",
    "$A_g =$ gross cross-sectional area  \n",
    "$F_y =$ yield strength of the base metal  \n",
    "$\\phi_u =$ ultimate resistance factor  \n",
    "$A_n =$ the net area of the cross-section from Clause 7.3  \n",
    "$F_u =$ ultimate strength of the base metal  \n",
    "$F_{wu} =$ ultimate strength for full penetration transverse butt welds (see Table 3)  \n",
    "$A_m =$ effective area of the welded section using Clause 7.4.2.1"
   ]
  }
 ],
 "metadata": {
  "kernelspec": {
   "display_name": "Python 3 (Ubuntu Linux)",
   "language": "python",
   "metadata": {
    "cocalc": {
     "description": "Python 3 programming language",
     "priority": 100,
     "url": "https://www.python.org/"
    }
   },
   "name": "python3"
  },
  "language_info": {
   "codemirror_mode": {
    "name": "ipython",
    "version": 3
   },
   "file_extension": ".py",
   "mimetype": "text/x-python",
   "name": "python",
   "nbconvert_exporter": "python",
   "pygments_lexer": "ipython3",
   "version": "3.6.8"
  }
 },
 "nbformat": 4,
 "nbformat_minor": 0
}